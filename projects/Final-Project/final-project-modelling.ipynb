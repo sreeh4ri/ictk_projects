{
 "cells": [
  {
   "cell_type": "markdown",
   "id": "7574e426-fd18-4a04-a126-3f16993d57ca",
   "metadata": {
    "tags": []
   },
   "source": [
    "# <div align=\"center\"><ins>Project on Predictive Data Modeling with Portugal 2019 Election Data</ins></div>"
   ]
  },
  {
   "cell_type": "markdown",
   "id": "2eea966f-b5c1-4b26-b427-3419f1bd34aa",
   "metadata": {},
   "source": [
    "<div align=\"center\"><img src=\"docs/images/election-img.jpg\" width = 100%/></div>"
   ]
  },
  {
   "cell_type": "markdown",
   "id": "2ecfbcaa-70e3-442f-b2da-7c92853c9e87",
   "metadata": {},
   "source": [
    "***\n",
    "**NORKA B5, Group 3**<br>\n",
    "**Team Members:** *Sruthy Surendran, Heleena Joy, Jebitta Joseph, Gopikrishna Shyam Kumar, Sreehari P S*\n",
    "***"
   ]
  },
  {
   "cell_type": "markdown",
   "id": "dbacff8b-795d-422a-a97e-ceebb2ae127a",
   "metadata": {},
   "source": [
    "### <div align=\"center\"> About the Dataset </div>\n",
    "***"
   ]
  },
  {
   "cell_type": "markdown",
   "id": "430bf06d-110c-4170-b0a2-e2d860ffc79d",
   "metadata": {},
   "source": [
    "Dataset used in this project describes the evolution of results in the Portuguese Parliamentary Elections of October 6th 2019. The data spans a time interval of 4 hours and 25 minutes, in intervals of 5 minutes, concerning the results of the 21 parties involved in the electoral event. Overall, the dataset contains 21643 records over 28 features (including the target variable). This dataset is a combination of data concerning the overall election and the party voting information which are joined w.r.t the timestamp of data acquisition and the respective district.<br><br>\n",
    "**Election data columns** = *{'TimeElapsed', 'time', 'territoryName', 'totalMandates', 'availableMandates', 'numParishes', 'numParishesApproved', 'blankVotes', 'blankVotesPercentage', 'nullVotes', 'nullVotesPercentage', 'votersPercentage', 'subscribedVoters', 'totalVoters', 'pre.blankVotes', 'pre.blankVotesPercentage', 'pre.nullVotes', 'pre.nullVotesPercentage', 'pre.votersPercentage', 'pre.subscribedVoters', 'pre.totalVoters'}*<br>\n",
    "**Party data columns** = *{'Party', 'Mandates', 'Percentage', 'validVotesPercentage', 'Votes'}*\n",
    "<br>**Column Description:**"
   ]
  },
  {
   "cell_type": "markdown",
   "id": "7b199528-bc12-4387-86a4-b78c4e573d1e",
   "metadata": {},
   "source": [
    "|Sno|Column|Type|Description|\n",
    "|:-|:-|:-|:-|\n",
    "|1|TimeElapsed |numeric|Time (minutes) passed since the first data acquisition|\n",
    "|2|time|timestamp|Date and time of the data acquisition|\n",
    "|3|territoryName|string|Short name of the location (district or nation-wide)|\n",
    "|4|totalMandates|numeric|MP's elected at the moment|\n",
    "|5|availableMandates|numeric|MP's left to elect at the moment|\n",
    "|6|numParishes|numeric|Total number of parishes in this location|\n",
    "|7|numParishesApproved|numeric|Number of parishes approved in this location|\n",
    "|8|blankVotes|numeric|Number of blank votes (NOTA)|\n",
    "|9|blankVotesPercentage|numeric|Percentage of blank votes|\n",
    "|10|nullVotes|numeric|Number of null votes (Incorrect Info)|\n",
    "|11|nullVotesPercentage|numeric|Percentage of null votes|\n",
    "|12|votersPercentage|numeric|Percentage of voters|\n",
    "|13|subscribedVoters|numeric| Number of subscribed voters in the location|\n",
    "|14|totalVoters|numeric|Number of votes cast|\n",
    "|15|pre.blankVotes|numeric|Number of blank votes (previous election)|\n",
    "|16|pre.blankVotesPercentage|numeric|Percentage of blank votes (previous election)|\n",
    "|17|pre.nullVotes|numeric|Number of null votes (previous election)|\n",
    "|18|pre.nullVotesPercentage|numeric|Percentage of null votes (previous election)|\n",
    "|19|pre.votersPercentage|numeric|Percentage of voters (previous election)|\n",
    "|20|pre.subscribedVoters|numeric|Number of subscribed voters in the location (previous election)|\n",
    "|21|pre.totalVoters|numeric|Number of votes cast (previous election)|\n",
    "|22|Party|string|Political Party|\n",
    "|23|Mandates|numeric|MP's elected at the moment for the party in a given district|\n",
    "|24|Percentage|numeric|Percentage of votes in a party|\n",
    "|25|validVotesPercentage|numeric|Percentage of valid votes in a party|\n",
    "|26|Votes|numeric|Party votes|\n",
    "|27|Hondt|numeric|Number of MP's according to the distribution of votes now|\n",
    "|28|FinalMandates|numeric (Target)|Final number of elected MP's in a territory for a Party|"
   ]
  },
  {
   "cell_type": "markdown",
   "id": "fe0f77af-4089-4375-b188-7ef02308a5b5",
   "metadata": {},
   "source": [
    "*Courtesy:*\n",
    "1. https://archive.ics.uci.edu/ml/datasets/Real-time+Election+Results%3A+Portugal+2019\n",
    "2. https://www.analyticsvidhya.com/"
   ]
  },
  {
   "cell_type": "markdown",
   "id": "5462e033-7ba6-4c5e-a25a-0ba620450842",
   "metadata": {},
   "source": [
    "### About Portugal\n",
    ">1. Portugal has 20 districts, out of which 2 are autonomous.\n",
    "2. There are 21 parties which participates in election across districts of portugal.\n",
    "3. \"Território Nacional\" refers to portugal as a nation, not a serparate district as others. \"Madeira and Açores\" are Autonomous regions in Portugal"
   ]
  },
  {
   "cell_type": "markdown",
   "id": "104b1d27-bd9c-4dcf-be51-5fbecd20103a",
   "metadata": {},
   "source": [
    "### Problem Statement\n",
    ">To apply regression modelling to predict total number of MPs elected from a party under a given region."
   ]
  },
  {
   "cell_type": "markdown",
   "id": "5d78eab5-63a1-40ed-afe5-873d20a896f3",
   "metadata": {},
   "source": [
    "***\n",
    "### <div align=\"center\"> Python Environment Setup </div>\n",
    "***"
   ]
  },
  {
   "cell_type": "code",
   "execution_count": 1,
   "id": "3e540db4-849e-4b66-a693-79488eb813e5",
   "metadata": {},
   "outputs": [],
   "source": [
    "import warnings\n",
    "import numpy as np\n",
    "import pandas as pd\n",
    "import matplotlib.pyplot as plt\n",
    "import seaborn as sns\n",
    "\n",
    "from sklearn.model_selection import train_test_split\n",
    "from sklearn.metrics import mean_squared_error, r2_score, mean_absolute_error, max_error\n",
    "\n",
    "warnings.filterwarnings(\"ignore\")\n",
    "pd.set_option(\"display.max_columns\", None)"
   ]
  },
  {
   "cell_type": "markdown",
   "id": "ad25a7a9-d608-4e1a-a293-9b779f2d66ff",
   "metadata": {},
   "source": [
    "***\n",
    "### <div align=\"center\"> Basic Analysis </div>\n",
    "***"
   ]
  },
  {
   "cell_type": "code",
   "execution_count": 2,
   "id": "4c393657-83b3-4b28-998c-610aa7844ceb",
   "metadata": {},
   "outputs": [],
   "source": [
    "# Load the dataset to pandas dataframe\n",
    "ucdata = pd.read_csv(\"./dataset/Portugal_Election_Data.csv\")"
   ]
  },
  {
   "cell_type": "code",
   "execution_count": 3,
   "id": "f342856d-67c9-4a32-91bb-54256e0f4a32",
   "metadata": {},
   "outputs": [
    {
     "name": "stdout",
     "output_type": "stream",
     "text": [
      "Shape of uncleaned election dataset is (21643, 28)\n"
     ]
    }
   ],
   "source": [
    "print(f\"Shape of uncleaned election dataset is {ucdata.shape}\")"
   ]
  },
  {
   "cell_type": "code",
   "execution_count": 4,
   "id": "e6064817-15c1-4f43-b84b-b898554112cf",
   "metadata": {},
   "outputs": [
    {
     "name": "stdout",
     "output_type": "stream",
     "text": [
      "Columns in uncleaned election dataset are::\n",
      " ['TimeElapsed' 'time' 'territoryName' 'totalMandates' 'availableMandates'\n",
      " 'numParishes' 'numParishesApproved' 'blankVotes' 'blankVotesPercentage'\n",
      " 'nullVotes' 'nullVotesPercentage' 'votersPercentage' 'subscribedVoters'\n",
      " 'totalVoters' 'pre.blankVotes' 'pre.blankVotesPercentage' 'pre.nullVotes'\n",
      " 'pre.nullVotesPercentage' 'pre.votersPercentage' 'pre.subscribedVoters'\n",
      " 'pre.totalVoters' 'Party' 'Mandates' 'Percentage' 'validVotesPercentage'\n",
      " 'Votes' 'Hondt' 'FinalMandates']\n"
     ]
    }
   ],
   "source": [
    "print(f\"Columns in uncleaned election dataset are::\\n {ucdata.columns.values}\")"
   ]
  },
  {
   "cell_type": "markdown",
   "id": "b7009c4c-aa93-433c-a735-3cba04e73dba",
   "metadata": {
    "tags": []
   },
   "source": [
    "***\n",
    "### <div align=\"center\"> Modeling</div>\n",
    "***"
   ]
  },
  {
   "cell_type": "code",
   "execution_count": 5,
   "id": "5525cde7-d2f7-4939-aba6-f523a5cc821e",
   "metadata": {},
   "outputs": [],
   "source": [
    "data = pd.read_csv('./dataset/Processed_Portugal_Election_Data.csv')"
   ]
  },
  {
   "cell_type": "code",
   "execution_count": 6,
   "id": "5d656c70-e6ee-45d6-ade4-8ef92643c645",
   "metadata": {},
   "outputs": [
    {
     "data": {
      "text/html": [
       "<div>\n",
       "<style scoped>\n",
       "    .dataframe tbody tr th:only-of-type {\n",
       "        vertical-align: middle;\n",
       "    }\n",
       "\n",
       "    .dataframe tbody tr th {\n",
       "        vertical-align: top;\n",
       "    }\n",
       "\n",
       "    .dataframe thead th {\n",
       "        text-align: right;\n",
       "    }\n",
       "</style>\n",
       "<table border=\"1\" class=\"dataframe\">\n",
       "  <thead>\n",
       "    <tr style=\"text-align: right;\">\n",
       "      <th></th>\n",
       "      <th>territoryName</th>\n",
       "      <th>totalMandates</th>\n",
       "      <th>availableMandates</th>\n",
       "      <th>numParishes</th>\n",
       "      <th>numParishesApproved</th>\n",
       "      <th>votersPercentage</th>\n",
       "      <th>pre.votersPercentage</th>\n",
       "      <th>Party</th>\n",
       "      <th>Mandates</th>\n",
       "      <th>validVotesPercentage</th>\n",
       "      <th>Votes</th>\n",
       "      <th>Hondt</th>\n",
       "      <th>diff_subscribedVoters</th>\n",
       "      <th>diff_totalVoters</th>\n",
       "      <th>diff_blankVotes</th>\n",
       "      <th>diff_nullVotes</th>\n",
       "      <th>FinalMandates</th>\n",
       "    </tr>\n",
       "  </thead>\n",
       "  <tbody>\n",
       "    <tr>\n",
       "      <th>0</th>\n",
       "      <td>0.982968</td>\n",
       "      <td>-0.36868</td>\n",
       "      <td>6.758472</td>\n",
       "      <td>4.221354</td>\n",
       "      <td>1.405486</td>\n",
       "      <td>-0.128489</td>\n",
       "      <td>-0.380551</td>\n",
       "      <td>1.126269</td>\n",
       "      <td>-0.127891</td>\n",
       "      <td>3.217832</td>\n",
       "      <td>1.419284</td>\n",
       "      <td>14.757327</td>\n",
       "      <td>0.03196</td>\n",
       "      <td>0.021592</td>\n",
       "      <td>0.002177</td>\n",
       "      <td>0.026495</td>\n",
       "      <td>15.259962</td>\n",
       "    </tr>\n",
       "    <tr>\n",
       "      <th>1</th>\n",
       "      <td>0.982968</td>\n",
       "      <td>-0.36868</td>\n",
       "      <td>6.758472</td>\n",
       "      <td>4.221354</td>\n",
       "      <td>1.405486</td>\n",
       "      <td>-0.128489</td>\n",
       "      <td>-0.380551</td>\n",
       "      <td>0.799979</td>\n",
       "      <td>-0.127891</td>\n",
       "      <td>2.733495</td>\n",
       "      <td>1.211248</td>\n",
       "      <td>12.691673</td>\n",
       "      <td>0.03196</td>\n",
       "      <td>0.021592</td>\n",
       "      <td>0.002177</td>\n",
       "      <td>0.026495</td>\n",
       "      <td>11.040237</td>\n",
       "    </tr>\n",
       "    <tr>\n",
       "      <th>2</th>\n",
       "      <td>0.982968</td>\n",
       "      <td>-0.36868</td>\n",
       "      <td>6.758472</td>\n",
       "      <td>4.221354</td>\n",
       "      <td>1.405486</td>\n",
       "      <td>-0.128489</td>\n",
       "      <td>-0.380551</td>\n",
       "      <td>-1.484053</td>\n",
       "      <td>-0.127891</td>\n",
       "      <td>0.178549</td>\n",
       "      <td>0.112293</td>\n",
       "      <td>2.363404</td>\n",
       "      <td>0.03196</td>\n",
       "      <td>0.021592</td>\n",
       "      <td>0.002177</td>\n",
       "      <td>0.026495</td>\n",
       "      <td>2.600786</td>\n",
       "    </tr>\n",
       "  </tbody>\n",
       "</table>\n",
       "</div>"
      ],
      "text/plain": [
       "   territoryName  totalMandates  availableMandates  numParishes  \\\n",
       "0       0.982968       -0.36868           6.758472     4.221354   \n",
       "1       0.982968       -0.36868           6.758472     4.221354   \n",
       "2       0.982968       -0.36868           6.758472     4.221354   \n",
       "\n",
       "   numParishesApproved  votersPercentage  pre.votersPercentage     Party  \\\n",
       "0             1.405486         -0.128489             -0.380551  1.126269   \n",
       "1             1.405486         -0.128489             -0.380551  0.799979   \n",
       "2             1.405486         -0.128489             -0.380551 -1.484053   \n",
       "\n",
       "   Mandates  validVotesPercentage     Votes      Hondt  diff_subscribedVoters  \\\n",
       "0 -0.127891              3.217832  1.419284  14.757327                0.03196   \n",
       "1 -0.127891              2.733495  1.211248  12.691673                0.03196   \n",
       "2 -0.127891              0.178549  0.112293   2.363404                0.03196   \n",
       "\n",
       "   diff_totalVoters  diff_blankVotes  diff_nullVotes  FinalMandates  \n",
       "0          0.021592         0.002177        0.026495      15.259962  \n",
       "1          0.021592         0.002177        0.026495      11.040237  \n",
       "2          0.021592         0.002177        0.026495       2.600786  "
      ]
     },
     "execution_count": 6,
     "metadata": {},
     "output_type": "execute_result"
    }
   ],
   "source": [
    "data.head(3)"
   ]
  },
  {
   "cell_type": "code",
   "execution_count": 7,
   "id": "8df2fa81-27aa-4b39-a3c2-9ba66c587fe4",
   "metadata": {},
   "outputs": [],
   "source": [
    "data.sort_values(by = 'Hondt', inplace=True)"
   ]
  },
  {
   "cell_type": "code",
   "execution_count": 8,
   "id": "449f972a-02ed-4046-b1ff-702a53007638",
   "metadata": {},
   "outputs": [],
   "source": [
    "X = data.drop('FinalMandates', axis =1)\n",
    "y = pd.DataFrame(data['FinalMandates'])"
   ]
  },
  {
   "cell_type": "code",
   "execution_count": 9,
   "id": "bf0932df-73b8-49b7-8d0b-abdf75b63952",
   "metadata": {},
   "outputs": [],
   "source": [
    "X_train, X_test, y_train, y_test = train_test_split(X, y, test_size = 0.3, random_state = 42)"
   ]
  },
  {
   "cell_type": "code",
   "execution_count": 10,
   "id": "41e3c127-1a53-4354-ae09-4855a78b125f",
   "metadata": {},
   "outputs": [],
   "source": [
    "r2_dict = dict()\n",
    "def check_metrices(y_pred, model):\n",
    "    print(f\"Performance of {model} Model\\n{'_'*50}\\n\")\n",
    "    print(f'      MAE =  {mean_absolute_error(y_test, y_pred)}')\n",
    "    print(f'      MSE =  {mean_squared_error(y_test, y_pred)}')\n",
    "    r2 = r2_score(y_test, y_pred)\n",
    "    r2_dict[model] = r2\n",
    "    print(f' R2_Score =  {r2}')\n",
    "    print(f'Max Error =  {max_error(y_test, y_pred)}')"
   ]
  },
  {
   "cell_type": "code",
   "execution_count": 11,
   "id": "51d5625c-2ff3-4b12-b909-27001ef2b715",
   "metadata": {},
   "outputs": [],
   "source": [
    "def plot_prediction(preds):\n",
    "    plt.scatter(X_test.Hondt, y_test.FinalMandates)\n",
    "    plt.plot(X_test.Hondt, preds, 'r--')\n",
    "    plt.title('Regression Plot')\n",
    "    plt.xlabel('Hondt')\n",
    "    plt.ylabel('FinalMandates')\n",
    "    plt.show()"
   ]
  },
  {
   "cell_type": "markdown",
   "id": "0e13acb5-01bd-4c3a-8a2f-4c9da0b22036",
   "metadata": {},
   "source": [
    "<div class=\"alert alert-success\"><b>01. Linear Regression</b></div>"
   ]
  },
  {
   "cell_type": "code",
   "execution_count": 12,
   "id": "296821ce-0b13-46bf-8434-e93f8668b016",
   "metadata": {},
   "outputs": [
    {
     "name": "stdout",
     "output_type": "stream",
     "text": [
      "Performance of LinearRegression Model\n",
      "__________________________________________________\n",
      "\n",
      "      MAE =  0.02692116221091876\n",
      "      MSE =  0.006914322803711327\n",
      " R2_Score =  0.9924306943074878\n",
      "Max Error =  1.5376811797899457\n"
     ]
    },
    {
     "data": {
      "image/png": "[encoded data removed]",
      "text/plain": [
       "<Figure size 432x288 with 1 Axes>"
      ]
     },
     "metadata": {
      "needs_background": "light"
     },
     "output_type": "display_data"
    }
   ],
   "source": [
    "from sklearn.linear_model import LinearRegression\n",
    "lr_model = LinearRegression().fit(X_train, y_train)\n",
    "lr_pred = lr_model.predict(X_test)\n",
    "check_metrices(lr_pred, 'LinearRegression')\n",
    "plot_prediction(lr_pred)"
   ]
  },
  {
   "cell_type": "markdown",
   "id": "9b34903f-6a3f-4f2b-b161-35f6ebd2a392",
   "metadata": {},
   "source": [
    "<div class=\"alert alert-success\"><b>02. Random forest Regressor</b></div>"
   ]
  },
  {
   "cell_type": "code",
   "execution_count": 13,
   "id": "b7e26834-dafb-47a0-ab4d-71a1e7312ca6",
   "metadata": {},
   "outputs": [
    {
     "name": "stdout",
     "output_type": "stream",
     "text": [
      "Performance of RandomForest Regressor Model\n",
      "__________________________________________________\n",
      "\n",
      "      MAE =  0.0003901571425365412\n",
      "      MSE =  3.135573046991207e-05\n",
      " R2_Score =  0.9999656739906602\n",
      "Max Error =  0.26191399125042214\n"
     ]
    },
    {
     "data": {
      "image/png": "[encoded data removed]",
      "text/plain": [
       "<Figure size 432x288 with 1 Axes>"
      ]
     },
     "metadata": {
      "needs_background": "light"
     },
     "output_type": "display_data"
    }
   ],
   "source": [
    "from sklearn.ensemble import RandomForestRegressor\n",
    "rf_model = RandomForestRegressor(random_state=42).fit(X_train, y_train)\n",
    "rf_pred = rf_model.predict(X_test)\n",
    "check_metrices(rf_pred, 'RandomForest Regressor')\n",
    "plot_prediction(rf_pred)"
   ]
  },
  {
   "cell_type": "markdown",
   "id": "bf52716a-609f-4f4f-84e5-2cc08f6d4d3a",
   "metadata": {},
   "source": [
    "<div class=\"alert alert-success\"><b>03. XGBoost Regressor</b></div>"
   ]
  },
  {
   "cell_type": "code",
   "execution_count": 14,
   "id": "83fb6b36-5833-4cb1-8a22-099668ca665b",
   "metadata": {},
   "outputs": [
    {
     "name": "stdout",
     "output_type": "stream",
     "text": [
      "Performance of XGB Regressor Model\n",
      "__________________________________________________\n",
      "\n",
      "      MAE =  0.0007277936829123716\n",
      "      MSE =  2.0490727218956733e-05\n",
      " R2_Score =  0.9999775682185248\n",
      "Max Error =  0.15234710638172305\n"
     ]
    },
    {
     "data": {
      "image/png": "[encoded data removed]",
      "text/plain": [
       "<Figure size 432x288 with 1 Axes>"
      ]
     },
     "metadata": {
      "needs_background": "light"
     },
     "output_type": "display_data"
    }
   ],
   "source": [
    "from xgboost import XGBRegressor\n",
    "xgb_model = XGBRegressor(random_state=42).fit(X_train, y_train)\n",
    "xgb_pred = xgb_model.predict(X_test)\n",
    "check_metrices(xgb_pred, 'XGB Regressor')\n",
    "plot_prediction(xgb_pred)"
   ]
  },
  {
   "cell_type": "markdown",
   "id": "3b2c7fee-5e9b-4c00-a052-707f0acb2095",
   "metadata": {},
   "source": [
    "<div class=\"alert alert-success\"><b>04. Lasso Regressor</b></div>"
   ]
  },
  {
   "cell_type": "code",
   "execution_count": 15,
   "id": "b0ecf5c0-157d-41ec-a07c-d1c77c23d870",
   "metadata": {},
   "outputs": [
    {
     "name": "stdout",
     "output_type": "stream",
     "text": [
      "Performance of Lasso Regressor Model\n",
      "__________________________________________________\n",
      "\n",
      "      MAE =  0.024073466450956687\n",
      "      MSE =  0.007719544694952314\n",
      " R2_Score =  0.9915491950170823\n",
      "Max Error =  1.4324801386770414\n"
     ]
    },
    {
     "data": {
      "image/png": "[encoded data removed]",
      "text/plain": [
       "<Figure size 432x288 with 1 Axes>"
      ]
     },
     "metadata": {
      "needs_background": "light"
     },
     "output_type": "display_data"
    }
   ],
   "source": [
    "from sklearn.linear_model import Lasso\n",
    "lasso_model = Lasso(random_state=42, alpha = 0.01).fit(X_train, y_train) # With Alpha value = 0.01\n",
    "lasso_pred = lasso_model.predict(X_test)\n",
    "check_metrices(lasso_pred, 'Lasso Regressor')\n",
    "plot_prediction(lasso_pred)"
   ]
  },
  {
   "cell_type": "markdown",
   "id": "d59b8677-337d-432f-9bac-027b018ef2ac",
   "metadata": {},
   "source": [
    "<div class=\"alert alert-success\"><b>05. CatBoost Regressor</b></div>"
   ]
  },
  {
   "cell_type": "code",
   "execution_count": 16,
   "id": "fd5f8cd6-1d54-4053-9daa-40e8a21bec3e",
   "metadata": {},
   "outputs": [
    {
     "name": "stdout",
     "output_type": "stream",
     "text": [
      "Performance of CatBoost Regressor Model\n",
      "__________________________________________________\n",
      "\n",
      "      MAE =  0.0024204440046390508\n",
      "      MSE =  6.901762623666964e-05\n",
      " R2_Score =  0.9999244444429357\n",
      "Max Error =  0.3611523307236517\n"
     ]
    },
    {
     "data": {
      "image/png": "[encoded data removed]",
      "text/plain": [
       "<Figure size 432x288 with 1 Axes>"
      ]
     },
     "metadata": {
      "needs_background": "light"
     },
     "output_type": "display_data"
    }
   ],
   "source": [
    "from catboost import CatBoostRegressor\n",
    "cat_model = CatBoostRegressor(random_state=42, silent=True).fit(X_train, y_train)\n",
    "cat_pred = cat_model.predict(X_test)\n",
    "check_metrices(cat_pred, 'CatBoost Regressor')\n",
    "plot_prediction(cat_pred)"
   ]
  },
  {
   "cell_type": "markdown",
   "id": "2dd8d1f6-1ae9-436c-a1a0-40b0342cc98c",
   "metadata": {},
   "source": [
    "<div class=\"alert alert-success\"><b>06. SVM Regressor</b></div>"
   ]
  },
  {
   "cell_type": "code",
   "execution_count": 17,
   "id": "d14f58d4-fa43-4ace-be57-f13eb8f85c57",
   "metadata": {},
   "outputs": [
    {
     "name": "stdout",
     "output_type": "stream",
     "text": [
      "Performance of SVM Regressor Model\n",
      "__________________________________________________\n",
      "\n",
      "      MAE =  0.0750392031548659\n",
      "      MSE =  0.011621678598889778\n",
      " R2_Score =  0.9872774181257625\n",
      "Max Error =  1.838747571503058\n"
     ]
    },
    {
     "data": {
      "image/png": "[encoded data removed]",
      "text/plain": [
       "<Figure size 432x288 with 1 Axes>"
      ]
     },
     "metadata": {
      "needs_background": "light"
     },
     "output_type": "display_data"
    }
   ],
   "source": [
    "from sklearn.svm import SVR\n",
    "svm_model = SVR(kernel='linear').fit(X_train, y_train)\n",
    "svm_pred = svm_model.predict(X_test)\n",
    "check_metrices(svm_pred, 'SVM Regressor')\n",
    "plot_prediction(svm_pred)"
   ]
  },
  {
   "cell_type": "code",
   "execution_count": 18,
   "id": "5879d975-33ba-48a8-a4a1-af8e286e1075",
   "metadata": {},
   "outputs": [
    {
     "data": {
      "text/plain": [
       "{'LinearRegression': 0.9924306943074878,\n",
       " 'RandomForest Regressor': 0.9999656739906602,\n",
       " 'XGB Regressor': 0.9999775682185248,\n",
       " 'Lasso Regressor': 0.9915491950170823,\n",
       " 'CatBoost Regressor': 0.9999244444429357,\n",
       " 'SVM Regressor': 0.9872774181257625}"
      ]
     },
     "execution_count": 18,
     "metadata": {},
     "output_type": "execute_result"
    }
   ],
   "source": [
    "r2_dict"
   ]
  },
  {
   "cell_type": "code",
   "execution_count": 19,
   "id": "a22cfc9f-f4e0-4c44-a978-cb53e93cd0b4",
   "metadata": {},
   "outputs": [],
   "source": [
    "best_model = max(r2_dict, key = r2_dict.get)"
   ]
  },
  {
   "cell_type": "code",
   "execution_count": 20,
   "id": "cf59377d-fb58-4a53-bfd5-ba94a31dc752",
   "metadata": {},
   "outputs": [
    {
     "name": "stdout",
     "output_type": "stream",
     "text": [
      "Best model is XGB Regressor with R2_Score of 0.9999775682185248\n"
     ]
    }
   ],
   "source": [
    "print(f'Best model is {best_model} with R2_Score of {r2_dict.get(best_model)}')"
   ]
  },
  {
   "cell_type": "markdown",
   "id": "1a526445-c52f-4522-a2cb-92551f8c249e",
   "metadata": {},
   "source": [
    "#### **Conclusion**\n",
    "All the 6 models perform well, but it is XGB Regressor that has best performance."
   ]
  },
  {
   "cell_type": "markdown",
   "id": "021c7a8e-5b46-4830-8f55-3dc395e9ec37",
   "metadata": {
    "tags": []
   },
   "source": [
    "***\n",
    "### <div align=\"center\"> Hyperparameter Tuning</div>\n",
    "***"
   ]
  },
  {
   "cell_type": "code",
   "execution_count": null,
   "id": "13e4c12c-5cc0-4cbe-a948-5ef12897b07c",
   "metadata": {},
   "outputs": [],
   "source": []
  }
 ],
 "metadata": {
  "kernelspec": {
   "display_name": "Python (ICTK)",
   "language": "python",
   "name": "ictk"
  },
  "language_info": {
   "codemirror_mode": {
    "name": "ipython",
    "version": 3
   },
   "file_extension": ".py",
   "mimetype": "text/x-python",
   "name": "python",
   "nbconvert_exporter": "python",
   "pygments_lexer": "ipython3",
   "version": "3.8.12"
  }
 },
 "nbformat": 4,
 "nbformat_minor": 5
}
