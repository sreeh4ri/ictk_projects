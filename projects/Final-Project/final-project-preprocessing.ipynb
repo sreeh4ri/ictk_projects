{
 "cells": [
  {
   "cell_type": "markdown",
   "id": "7574e426-fd18-4a04-a126-3f16993d57ca",
   "metadata": {},
   "source": [
    "# <div align=\"center\"><ins>Project on Predictive Data Modeling with Portugal 2019 Election Data</ins></div>"
   ]
  },
  {
   "cell_type": "markdown",
   "id": "2eea966f-b5c1-4b26-b427-3419f1bd34aa",
   "metadata": {},
   "source": [
    "<div align=\"center\"><img src=\"docs/images/election-img.jpg\" width = 100%/></div>"
   ]
  },
  {
   "cell_type": "markdown",
   "id": "2ecfbcaa-70e3-442f-b2da-7c92853c9e87",
   "metadata": {},
   "source": [
    "***\n",
    "**NORKA B5, Group 3**<br>\n",
    "**Team Members:** *Sruthy Surendran, Heleena Joy, Jebitta Joseph, Gopikrishna Shyam Kumar, Sreehari P S*\n",
    "***"
   ]
  },
  {
   "cell_type": "markdown",
   "id": "dbacff8b-795d-422a-a97e-ceebb2ae127a",
   "metadata": {},
   "source": [
    "### <div align=\"center\"> About the Dataset </div>\n",
    "***"
   ]
  },
  {
   "cell_type": "markdown",
   "id": "430bf06d-110c-4170-b0a2-e2d860ffc79d",
   "metadata": {},
   "source": [
    "Dataset used in this project describes the evolution of results in the Portuguese Parliamentary Elections of October 6th 2019. The data spans a time interval of 4 hours and 25 minutes, in intervals of 5 minutes, concerning the results of the 21 parties involved in the electoral event. Overall, the dataset contains 21643 records over 28 features (including the target variable). This dataset is a combination of data concerning the overall election and the party voting information which are joined w.r.t the timestamp of data acquisition and the respective district.<br><br>\n",
    "**Election data columns** = *{'TimeElapsed', 'time', 'territoryName', 'totalMandates', 'availableMandates', 'numParishes', 'numParishesApproved', 'blankVotes', 'blankVotesPercentage', 'nullVotes', 'nullVotesPercentage', 'votersPercentage', 'subscribedVoters', 'totalVoters', 'pre.blankVotes', 'pre.blankVotesPercentage', 'pre.nullVotes', 'pre.nullVotesPercentage', 'pre.votersPercentage', 'pre.subscribedVoters', 'pre.totalVoters'}*<br>\n",
    "**Party data columns** = *{'Party', 'Mandates', 'Percentage', 'validVotesPercentage', 'Votes'}*\n",
    "<br>**Column Description:**"
   ]
  },
  {
   "cell_type": "markdown",
   "id": "7b199528-bc12-4387-86a4-b78c4e573d1e",
   "metadata": {},
   "source": [
    "|Sno|Column|Type|Description|\n",
    "|:-|:-|:-|:-|\n",
    "|1|TimeElapsed |numeric|Time (minutes) passed since the first data acquisition|\n",
    "|2|time|timestamp|Date and time of the data acquisition|\n",
    "|3|territoryName|string|Short name of the location (district or nation-wide)|\n",
    "|4|totalMandates|numeric|MP's elected at the moment|\n",
    "|5|availableMandates|numeric|MP's left to elect at the moment|\n",
    "|6|numParishes|numeric|Total number of parishes in this location|\n",
    "|7|numParishesApproved|numeric|Number of parishes approved in this location|\n",
    "|8|blankVotes|numeric|Number of blank votes (NOTA)|\n",
    "|9|blankVotesPercentage|numeric|Percentage of blank votes|\n",
    "|10|nullVotes|numeric|Number of null votes (Incorrect Info)|\n",
    "|11|nullVotesPercentage|numeric|Percentage of null votes|\n",
    "|12|votersPercentage|numeric|Percentage of voters|\n",
    "|13|subscribedVoters|numeric| Number of subscribed voters in the location|\n",
    "|14|totalVoters|numeric|Number of votes cast|\n",
    "|15|pre.blankVotes|numeric|Number of blank votes (previous election)|\n",
    "|16|pre.blankVotesPercentage|numeric|Percentage of blank votes (previous election)|\n",
    "|17|pre.nullVotes|numeric|Number of null votes (previous election)|\n",
    "|18|pre.nullVotesPercentage|numeric|Percentage of null votes (previous election)|\n",
    "|19|pre.votersPercentage|numeric|Percentage of voters (previous election)|\n",
    "|20|pre.subscribedVoters|numeric|Number of subscribed voters in the location (previous election)|\n",
    "|21|pre.totalVoters|numeric|Number of votes cast (previous election)|\n",
    "|22|Party|string|Political Party|\n",
    "|23|Mandates|numeric|MP's elected at the moment for the party in a given district|\n",
    "|24|Percentage|numeric|Percentage of votes in a party|\n",
    "|25|validVotesPercentage|numeric|Percentage of valid votes in a party|\n",
    "|26|Votes|numeric|Party votes|\n",
    "|27|Hondt|numeric|Number of MP's according to the distribution of votes now|\n",
    "|28|FinalMandates|numeric (Target)|Final number of elected MP's in a territory for a Party|"
   ]
  },
  {
   "cell_type": "markdown",
   "id": "fe0f77af-4089-4375-b188-7ef02308a5b5",
   "metadata": {},
   "source": [
    "*Courtesy:*\n",
    "1. https://archive.ics.uci.edu/ml/datasets/Real-time+Election+Results%3A+Portugal+2019\n",
    "2. https://www.analyticsvidhya.com/"
   ]
  },
  {
   "cell_type": "markdown",
   "id": "5462e033-7ba6-4c5e-a25a-0ba620450842",
   "metadata": {},
   "source": [
    "### About Portugal\n",
    ">1. Portugal has 20 districts, out of which 2 are autonomous.\n",
    "2. There are 21 parties which participates in election across districts of portugal.\n",
    "3. \"Território Nacional\" refers to portugal as a nation, not a serparate district as others. \"Madeira and Açores\" are Autonomous regions in Portugal"
   ]
  },
  {
   "cell_type": "markdown",
   "id": "104b1d27-bd9c-4dcf-be51-5fbecd20103a",
   "metadata": {},
   "source": [
    "### Problem Statement\n",
    ">To apply regression modelling to predict total number of MPs elected from a party under a given region."
   ]
  },
  {
   "cell_type": "markdown",
   "id": "5d78eab5-63a1-40ed-afe5-873d20a896f3",
   "metadata": {},
   "source": [
    "***\n",
    "### <div align=\"center\"> Python Environment Setup </div>\n",
    "***"
   ]
  },
  {
   "cell_type": "code",
   "execution_count": 57,
   "id": "3e540db4-849e-4b66-a693-79488eb813e5",
   "metadata": {},
   "outputs": [],
   "source": [
    "import warnings\n",
    "import numpy as np\n",
    "import pandas as pd\n",
    "import matplotlib.pyplot as plt\n",
    "import seaborn as sns\n",
    "import string\n",
    "\n",
    "from sklearn.model_selection import train_test_split\n",
    "from sklearn.preprocessing import LabelEncoder\n",
    "from sklearn.metrics import mean_squared_error, r2_score, mean_absolute_error, max_error\n",
    "from sklearn.preprocessing import StandardScaler\n",
    "\n",
    "warnings.filterwarnings(\"ignore\")\n",
    "pd.set_option(\"display.max_columns\", None)"
   ]
  },
  {
   "cell_type": "markdown",
   "id": "ad25a7a9-d608-4e1a-a293-9b779f2d66ff",
   "metadata": {},
   "source": [
    "***\n",
    "### <div align=\"center\"> Basic Analysis </div>\n",
    "***"
   ]
  },
  {
   "cell_type": "code",
   "execution_count": 58,
   "id": "4c393657-83b3-4b28-998c-610aa7844ceb",
   "metadata": {},
   "outputs": [],
   "source": [
    "# Load the dataset to pandas dataframe\n",
    "ucdata = pd.read_csv(\"./dataset/Portugal_Election_Data.csv\")"
   ]
  },
  {
   "cell_type": "code",
   "execution_count": 59,
   "id": "f342856d-67c9-4a32-91bb-54256e0f4a32",
   "metadata": {},
   "outputs": [
    {
     "name": "stdout",
     "output_type": "stream",
     "text": [
      "Shape of uncleaned election dataset is (21643, 28)\n"
     ]
    }
   ],
   "source": [
    "print(f\"Shape of uncleaned election dataset is {ucdata.shape}\")"
   ]
  },
  {
   "cell_type": "code",
   "execution_count": 60,
   "id": "e6064817-15c1-4f43-b84b-b898554112cf",
   "metadata": {},
   "outputs": [
    {
     "name": "stdout",
     "output_type": "stream",
     "text": [
      "Columns in uncleaned election dataset are::\n",
      " ['TimeElapsed' 'time' 'territoryName' 'totalMandates' 'availableMandates'\n",
      " 'numParishes' 'numParishesApproved' 'blankVotes' 'blankVotesPercentage'\n",
      " 'nullVotes' 'nullVotesPercentage' 'votersPercentage' 'subscribedVoters'\n",
      " 'totalVoters' 'pre.blankVotes' 'pre.blankVotesPercentage' 'pre.nullVotes'\n",
      " 'pre.nullVotesPercentage' 'pre.votersPercentage' 'pre.subscribedVoters'\n",
      " 'pre.totalVoters' 'Party' 'Mandates' 'Percentage' 'validVotesPercentage'\n",
      " 'Votes' 'Hondt' 'FinalMandates']\n"
     ]
    }
   ],
   "source": [
    "print(f\"Columns in uncleaned election dataset are::\\n {ucdata.columns.values}\")"
   ]
  },
  {
   "cell_type": "markdown",
   "id": "dee722f8-e914-4aca-a71d-57653c976e08",
   "metadata": {},
   "source": [
    "***\n",
    "### <div align=\"center\"> Data Preprocessing</div>\n",
    "***"
   ]
  },
  {
   "cell_type": "code",
   "execution_count": 61,
   "id": "dbf6930c-3e91-4068-9081-1534e3662c73",
   "metadata": {},
   "outputs": [],
   "source": [
    "colset1 = ['TimeElapsed','time', 'territoryName', 'totalMandates', 'availableMandates', 'numParishes'] # Sreehari P S\n",
    "colset2 = ['numParishesApproved', 'blankVotes', 'blankVotesPercentage', 'nullVotes', 'nullVotesPercentage', 'votersPercentage'] # Sruthy Surendran\n",
    "colset3 = ['subscribedVoters','totalVoters', 'pre.blankVotes', 'pre.blankVotesPercentage', 'pre.nullVotes','pre.nullVotesPercentage'] # Heleena Joy\n",
    "colset4 = ['pre.votersPercentage', 'pre.subscribedVoters', 'pre.totalVoters', 'Party', 'Mandates', 'Percentage'] # Gopikrishna Shyam Kumar\n",
    "colset5 = ['validVotesPercentage','Votes', 'Hondt', 'FinalMandates'] # Jebitta Joseph"
   ]
  },
  {
   "cell_type": "markdown",
   "id": "7d26609f-e015-4d12-aefa-c01f692f3887",
   "metadata": {},
   "source": [
    "<div class=\"alert alert-success\"><b>1. Handling Null values</b></div>"
   ]
  },
  {
   "cell_type": "code",
   "execution_count": 62,
   "id": "ef60585f-09b0-407e-8386-c9eca1a6ded7",
   "metadata": {},
   "outputs": [
    {
     "data": {
      "text/plain": [
       "TimeElapsed                  0\n",
       "time                         0\n",
       "territoryName                0\n",
       "totalMandates                0\n",
       "availableMandates            0\n",
       "numParishes                  0\n",
       "numParishesApproved          0\n",
       "blankVotes                   0\n",
       "blankVotesPercentage        14\n",
       "nullVotes                    0\n",
       "nullVotesPercentage          0\n",
       "votersPercentage             0\n",
       "subscribedVoters             0\n",
       "totalVoters                  7\n",
       "pre.blankVotes               0\n",
       "pre.blankVotesPercentage     0\n",
       "pre.nullVotes                0\n",
       "pre.nullVotesPercentage     12\n",
       "pre.votersPercentage         0\n",
       "pre.subscribedVoters         0\n",
       "pre.totalVoters              0\n",
       "Party                        0\n",
       "Mandates                     0\n",
       "Percentage                   0\n",
       "validVotesPercentage         0\n",
       "Votes                        0\n",
       "Hondt                        0\n",
       "FinalMandates                0\n",
       "dtype: int64"
      ]
     },
     "execution_count": 62,
     "metadata": {},
     "output_type": "execute_result"
    }
   ],
   "source": [
    "ucdata.isna().sum()"
   ]
  },
  {
   "cell_type": "markdown",
   "id": "b9816c76-c6e7-4c2c-aba1-cf2f4f7d5142",
   "metadata": {},
   "source": [
    "#### **Findings:** There are Null values present.\n",
    "|Column Name|Number of Null Values|\n",
    "|:-:|:-:|\n",
    "|blankVotesPercentage|14|\n",
    "|totalVoters|7|\n",
    "|pre.nullVotesPercentage|12|"
   ]
  },
  {
   "cell_type": "markdown",
   "id": "a64cb5cc-c6ac-42d6-ab5e-8f2a4b0ebbba",
   "metadata": {},
   "source": [
    "**Ways to fill null values:**\n",
    "***\n",
    "1. *Imputation*\n",
    ">The imputation method develops reasonable guesses for missing data. It’s most useful when the percentage of missing data is low. If the portion of missing data is too high, the results lack natural variation that could result in an effective model.\n",
    ">* Mean, Median and Mode\n",
    ">* Last Observation Carried Forward (LOCF)\n",
    ">* Next Observation Carried Backward (NOCB)\n",
    ">* Linear Interpolation\n",
    ">* Seasonal Adjustment with Linear Interpolation\n",
    ">* Multiple Imputation\n",
    ">* K Nearest Neighbors\n",
    "2. *Removing Data*\n",
    ">When dealing with data that is missing at random, related data can be deleted to reduce bias. Removing data may not be the best option if there are not enough observations to result in a reliable analysis. In some situations, observation of specific events or factors may be required."
   ]
  },
  {
   "cell_type": "markdown",
   "id": "574e3c5b-2dda-430c-b8d2-bebe0fe7286f",
   "metadata": {},
   "source": [
    "For the Portuguese Election dataset **Imputation** is the right choice. From the dataset it is clear that these missing values are indeed related to other columns.<br>\n",
    "Hence missing values can be imputed with values calculated from other columns.<br>The formula for caluculations are given below."
   ]
  },
  {
   "cell_type": "markdown",
   "id": "b46da5a2-e923-4c07-9fdd-b2c9b09dfee6",
   "metadata": {},
   "source": [
    "$$\n",
    "totalVoters = \\frac{votersPercentage*subscribedVoters}{100}\n",
    "$$\n",
    "<br>\n",
    "$$\n",
    "pre.nullVotesPercentage = \\frac{pre.nullVotes}{pre.totalVoters}*100\n",
    "$$\n",
    "<br>\n",
    "$$\n",
    "blankVotesPercentage = \\frac{blankVotes}{totalVoters}*100\n",
    "$$"
   ]
  },
  {
   "cell_type": "code",
   "execution_count": 63,
   "id": "11d6d44d-49ee-424a-ab34-9225c11c045e",
   "metadata": {},
   "outputs": [],
   "source": [
    "cdata = ucdata"
   ]
  },
  {
   "cell_type": "code",
   "execution_count": 64,
   "id": "c6d02252-6dea-402f-9441-a202c9778f2d",
   "metadata": {},
   "outputs": [],
   "source": [
    "# Handle \"totalVoters\"\n",
    "cdata['totalVoters'] = ucdata['totalVoters'].fillna(round((ucdata['votersPercentage']*ucdata['subscribedVoters'])/100))"
   ]
  },
  {
   "cell_type": "code",
   "execution_count": 65,
   "id": "631f1b89-f08b-4554-aa25-81c6991a9731",
   "metadata": {},
   "outputs": [],
   "source": [
    "# Handle \"pre.nullVotesPercentage\"\n",
    "cdata['pre.nullVotesPercentage'] = ucdata['pre.nullVotesPercentage'].fillna(round(((ucdata['pre.nullVotes']/ucdata['pre.totalVoters'])*100),2))"
   ]
  },
  {
   "cell_type": "code",
   "execution_count": 66,
   "id": "1f998c9f-ecd4-4fb8-ad36-6dc8dda9846b",
   "metadata": {},
   "outputs": [],
   "source": [
    "# Handle \"blankVotesPercentage\"\n",
    "cdata['blankVotesPercentage'] = ucdata['blankVotesPercentage'].fillna(round(((ucdata['blankVotes']/ucdata['totalVoters'])*100),2))"
   ]
  },
  {
   "cell_type": "code",
   "execution_count": 67,
   "id": "3161f88e-9222-440c-9298-7cd277849089",
   "metadata": {},
   "outputs": [
    {
     "data": {
      "text/plain": [
       "TimeElapsed                 0\n",
       "time                        0\n",
       "territoryName               0\n",
       "totalMandates               0\n",
       "availableMandates           0\n",
       "numParishes                 0\n",
       "numParishesApproved         0\n",
       "blankVotes                  0\n",
       "blankVotesPercentage        0\n",
       "nullVotes                   0\n",
       "nullVotesPercentage         0\n",
       "votersPercentage            0\n",
       "subscribedVoters            0\n",
       "totalVoters                 0\n",
       "pre.blankVotes              0\n",
       "pre.blankVotesPercentage    0\n",
       "pre.nullVotes               0\n",
       "pre.nullVotesPercentage     0\n",
       "pre.votersPercentage        0\n",
       "pre.subscribedVoters        0\n",
       "pre.totalVoters             0\n",
       "Party                       0\n",
       "Mandates                    0\n",
       "Percentage                  0\n",
       "validVotesPercentage        0\n",
       "Votes                       0\n",
       "Hondt                       0\n",
       "FinalMandates               0\n",
       "dtype: int64"
      ]
     },
     "execution_count": 67,
     "metadata": {},
     "output_type": "execute_result"
    }
   ],
   "source": [
    "cdata.isna().sum()"
   ]
  },
  {
   "cell_type": "markdown",
   "id": "42261c68-0032-4c6b-9645-2be84e2785c8",
   "metadata": {},
   "source": [
    "**All Missing values are handled**"
   ]
  },
  {
   "cell_type": "markdown",
   "id": "26eb44fc-39f4-4669-8ac4-98fd6627cedc",
   "metadata": {},
   "source": [
    "<div class=\"alert alert-success\"><b>2. Handle Outliers</b></div>"
   ]
  },
  {
   "cell_type": "code",
   "execution_count": 68,
   "id": "5c68d826-961f-4f35-a7b7-ec7be4f31c73",
   "metadata": {},
   "outputs": [
    {
     "name": "stdout",
     "output_type": "stream",
     "text": [
      "['TimeElapsed', 'time', 'territoryName', 'totalMandates', 'availableMandates', 'numParishes']\n"
     ]
    }
   ],
   "source": [
    "# Columns set 1\n",
    "print(colset1)"
   ]
  },
  {
   "cell_type": "markdown",
   "id": "3998607d-8acc-4780-8772-6cd01363698b",
   "metadata": {},
   "source": [
    "#### **Observation:**\n",
    ">Both TimeElapsed and time are time-components for the dataset. They span 4hr 25mins. So no need to handle outliers for these fields"
   ]
  },
  {
   "cell_type": "markdown",
   "id": "18236942-3ce9-4295-b416-88c6b2f96395",
   "metadata": {},
   "source": [
    "#### **Findings:**\n",
    ">Above graph shows the count of data for 20 district along with whole nation ('Território Nacional'). Count of values present for each district are different.</br>There are 2 factors contributing to this difference, 1. Number of Parties and 2. Number of intervals for which data arrived."
   ]
  },
  {
   "cell_type": "code",
   "execution_count": 69,
   "id": "ed8c2cdf-57ad-4ddb-b74d-69d25cdd0f44",
   "metadata": {},
   "outputs": [],
   "source": [
    "def draw_boxes(columns, nrow, ncolumn, figuresize):\n",
    "    fig, axes = plt.subplots(nrows = nrow, ncols = ncolumn, figsize = figuresize)\n",
    "    for col, ax in zip(columns, axes.flat):\n",
    "        sns.boxplot(x = col, data = cdata, ax=ax, color = 'r')\n",
    "        ax.set_title('Box plot for ' + col)\n",
    "    # disable leftover axes\n",
    "    for ax in axes.flat[len(columns):]:\n",
    "        ax.set_axis_off()\n",
    "    plt.show()"
   ]
  },
  {
   "cell_type": "code",
   "execution_count": 70,
   "id": "5305f5b9-ddb2-4fe7-80d0-fda47527b4da",
   "metadata": {},
   "outputs": [
    {
     "data": {
      "image/png": "[encoded data removed]",
      "text/plain": [
       "<Figure size 1440x432 with 3 Axes>"
      ]
     },
     "metadata": {
      "needs_background": "light"
     },
     "output_type": "display_data"
    }
   ],
   "source": [
    "draw_boxes(colset1[3:6], 1, 3, (20, 6))"
   ]
  },
  {
   "cell_type": "code",
   "execution_count": 71,
   "id": "0a5d712f-810c-4f0c-9055-de14acbd55bc",
   "metadata": {},
   "outputs": [
    {
     "data": {
      "text/html": [
       "<div>\n",
       "<style scoped>\n",
       "    .dataframe tbody tr th:only-of-type {\n",
       "        vertical-align: middle;\n",
       "    }\n",
       "\n",
       "    .dataframe tbody tr th {\n",
       "        vertical-align: top;\n",
       "    }\n",
       "\n",
       "    .dataframe thead th {\n",
       "        text-align: right;\n",
       "    }\n",
       "</style>\n",
       "<table border=\"1\" class=\"dataframe\">\n",
       "  <thead>\n",
       "    <tr style=\"text-align: right;\">\n",
       "      <th></th>\n",
       "      <th>count</th>\n",
       "      <th>mean</th>\n",
       "      <th>std</th>\n",
       "      <th>min</th>\n",
       "      <th>25%</th>\n",
       "      <th>50%</th>\n",
       "      <th>75%</th>\n",
       "      <th>max</th>\n",
       "    </tr>\n",
       "  </thead>\n",
       "  <tbody>\n",
       "    <tr>\n",
       "      <th>totalMandates</th>\n",
       "      <td>21643.0</td>\n",
       "      <td>11.544795</td>\n",
       "      <td>31.314567</td>\n",
       "      <td>0.0</td>\n",
       "      <td>1.0</td>\n",
       "      <td>4.0</td>\n",
       "      <td>9.0</td>\n",
       "      <td>226.0</td>\n",
       "    </tr>\n",
       "    <tr>\n",
       "      <th>availableMandates</th>\n",
       "      <td>21643.0</td>\n",
       "      <td>11.499284</td>\n",
       "      <td>31.738783</td>\n",
       "      <td>0.0</td>\n",
       "      <td>0.0</td>\n",
       "      <td>3.0</td>\n",
       "      <td>9.0</td>\n",
       "      <td>226.0</td>\n",
       "    </tr>\n",
       "    <tr>\n",
       "      <th>numParishes</th>\n",
       "      <td>21643.0</td>\n",
       "      <td>309.956013</td>\n",
       "      <td>659.055911</td>\n",
       "      <td>54.0</td>\n",
       "      <td>75.0</td>\n",
       "      <td>147.0</td>\n",
       "      <td>242.0</td>\n",
       "      <td>3092.0</td>\n",
       "    </tr>\n",
       "  </tbody>\n",
       "</table>\n",
       "</div>"
      ],
      "text/plain": [
       "                     count        mean         std   min   25%    50%    75%  \\\n",
       "totalMandates      21643.0   11.544795   31.314567   0.0   1.0    4.0    9.0   \n",
       "availableMandates  21643.0   11.499284   31.738783   0.0   0.0    3.0    9.0   \n",
       "numParishes        21643.0  309.956013  659.055911  54.0  75.0  147.0  242.0   \n",
       "\n",
       "                      max  \n",
       "totalMandates       226.0  \n",
       "availableMandates   226.0  \n",
       "numParishes        3092.0  "
      ]
     },
     "execution_count": 71,
     "metadata": {},
     "output_type": "execute_result"
    }
   ],
   "source": [
    "cdata[colset1[3:6]].describe().T"
   ]
  },
  {
   "cell_type": "markdown",
   "id": "d3e4b151-8c39-418e-a907-17de19788e31",
   "metadata": {},
   "source": [
    "#### **Conclusion:**\n",
    "From the graph and quatiles it can be seen that there are outliers present in the dataset. **But**, if we observe the dataset closly interesting observations can be found."
   ]
  },
  {
   "cell_type": "markdown",
   "id": "bb4e1a16-2355-40c4-b4a6-e9bbeb54dd97",
   "metadata": {},
   "source": [
    "* **totalMandates** represents 'MP's elected at the moment' and **availableMandates** represents 'MP's left to elect at the moment'. These 2 columns are inverse to each other i.e. as time passes *totalMandates* decreases and *availableMandates* increases by same amount.<br>\n",
    "* From the distribution it is clear that for most time-period in dataset *totalMandates* and *availableMandates* equals \"zero\".<br> This is a valid case as we know in election, count of elected members only increase towards end of counting.\n",
    "\n",
    "So from the context of this dataset we can conclude that the outliers that we see in plots of *totalMandates* and *availableMandates* can be ignored.\n",
    "\n",
    "* For the column **numParishes**, there is only 1 outlier, i.e. 3092\n",
    "\n",
    "This is also a valid outlier as we know that our dataset contains rows that represent Portugal as a whole. This particular row will contain the sum of all others.<br> So this outlier can also be ignored."
   ]
  },
  {
   "cell_type": "markdown",
   "id": "62b019d6-e71d-4efd-bcd9-a6d45ce1c36c",
   "metadata": {},
   "source": [
    "#### Extracting feature and Target for further steps\n",
    "***"
   ]
  },
  {
   "cell_type": "code",
   "execution_count": 72,
   "id": "63acbb80-768b-41bf-83e2-1575378de485",
   "metadata": {},
   "outputs": [],
   "source": [
    "X = cdata.drop('FinalMandates', axis = 1) # Feature Set\n",
    "y = pd.DataFrame(cdata['FinalMandates']) # Target"
   ]
  },
  {
   "cell_type": "code",
   "execution_count": 73,
   "id": "a56d48ca-982a-451f-ac3d-1c7ff2b283dd",
   "metadata": {},
   "outputs": [
    {
     "name": "stdout",
     "output_type": "stream",
     "text": [
      "Shape of feature set = (21643, 27) and Shape of Target  = (21643, 1)\n",
      "\n",
      "Feature columns = ['TimeElapsed' 'time' 'territoryName' 'totalMandates' 'availableMandates'\n",
      " 'numParishes' 'numParishesApproved' 'blankVotes' 'blankVotesPercentage'\n",
      " 'nullVotes' 'nullVotesPercentage' 'votersPercentage' 'subscribedVoters'\n",
      " 'totalVoters' 'pre.blankVotes' 'pre.blankVotesPercentage' 'pre.nullVotes'\n",
      " 'pre.nullVotesPercentage' 'pre.votersPercentage' 'pre.subscribedVoters'\n",
      " 'pre.totalVoters' 'Party' 'Mandates' 'Percentage' 'validVotesPercentage'\n",
      " 'Votes' 'Hondt']\n"
     ]
    }
   ],
   "source": [
    "print(f'Shape of feature set = {X.shape} and Shape of Target  = {y.shape}')\n",
    "print(f'\\nFeature columns = {X.columns.values}')"
   ]
  },
  {
   "cell_type": "markdown",
   "id": "b2226755-404d-4713-b714-079061d702a8",
   "metadata": {},
   "source": [
    "<div class=\"alert alert-success\"><b>3. Feature Reduction</b></div>"
   ]
  },
  {
   "cell_type": "markdown",
   "id": "5f3de0fa-d6cf-4557-9bdc-5bf30ea8369a",
   "metadata": {},
   "source": [
    "From Exploratory data analysis it was clear that *TimeElapsed* has no relationship with our target variable *FinalMandates*. This is because *TimeElapsed* just represents the time of data arrival, which was intern derived from the time column *time*.\n",
    "* So both these columns can be dropped from our feature set."
   ]
  },
  {
   "cell_type": "code",
   "execution_count": 74,
   "id": "cc8efdbb-c7c2-418a-9e20-89742917c180",
   "metadata": {},
   "outputs": [],
   "source": [
    "X.drop(['time','TimeElapsed'],axis = 1, inplace=True)"
   ]
  },
  {
   "cell_type": "code",
   "execution_count": 82,
   "id": "ace40a40-56f7-40a7-b67a-9784edc54681",
   "metadata": {},
   "outputs": [
    {
     "data": {
      "text/plain": [
       "pre.nullVotesPercentage    -0.038686\n",
       "nullVotesPercentage        -0.029659\n",
       "blankVotesPercentage       -0.001195\n",
       "pre.blankVotesPercentage    0.005716\n",
       "pre.votersPercentage        0.050450\n",
       "votersPercentage            0.061048\n",
       "totalMandates               0.264117\n",
       "availableMandates           0.266764\n",
       "totalVoters                 0.294490\n",
       "pre.blankVotes              0.294866\n",
       "pre.totalVoters             0.295169\n",
       "subscribedVoters            0.295555\n",
       "blankVotes                  0.295583\n",
       "pre.subscribedVoters        0.296428\n",
       "pre.nullVotes               0.297482\n",
       "nullVotes                   0.298663\n",
       "numParishesApproved         0.312177\n",
       "numParishes                 0.329009\n",
       "validVotesPercentage        0.382744\n",
       "Percentage                  0.383086\n",
       "Mandates                    0.814370\n",
       "Votes                       0.882502\n",
       "Hondt                       0.994480\n",
       "dtype: float64"
      ]
     },
     "execution_count": 82,
     "metadata": {},
     "output_type": "execute_result"
    }
   ],
   "source": [
    "X.drop(['territoryName', 'Party'], axis = 1).apply(lambda feature : feature.corr(y['FinalMandates'])).sort_values(ascending=True)"
   ]
  },
  {
   "cell_type": "markdown",
   "id": "bdba5834-16d3-4f84-b272-1fd82708a90e",
   "metadata": {},
   "source": [
    "From EDA and above analysis, it is also clear that features *'pre.nullVotesPercentage', 'nullVotesPercentage','blankVotesPercentage', 'pre.blankVotesPercentage'* also does not have relationship with target variable *FinalMandates*.\n",
    "* So these columns can be droped from feature set"
   ]
  },
  {
   "cell_type": "code",
   "execution_count": 83,
   "id": "608514b8-37b7-4a64-a0b4-acf55f6e688f",
   "metadata": {},
   "outputs": [],
   "source": [
    "X.drop(['pre.nullVotesPercentage', 'nullVotesPercentage','blankVotesPercentage', 'pre.blankVotesPercentage'], axis = 1, inplace=True)"
   ]
  },
  {
   "cell_type": "code",
   "execution_count": 84,
   "id": "6bc34537-08bb-41cf-b792-cd1a91078eff",
   "metadata": {},
   "outputs": [
    {
     "name": "stdout",
     "output_type": "stream",
     "text": [
      "New shape of feature set is (21643, 21)\n"
     ]
    }
   ],
   "source": [
    "print(f'New shape of feature set is {X.shape}')"
   ]
  },
  {
   "cell_type": "markdown",
   "id": "78a0b010-7e5f-4387-8e81-8abd2c74214a",
   "metadata": {},
   "source": [
    "<div class=\"alert alert-success\"><b>4. Encoding</b></div>"
   ]
  },
  {
   "cell_type": "code",
   "execution_count": 85,
   "id": "103b8137-b462-4d42-8e6e-42301cff6a94",
   "metadata": {},
   "outputs": [
    {
     "data": {
      "text/plain": [
       "territoryName    21\n",
       "Party            21\n",
       "dtype: int64"
      ]
     },
     "execution_count": 85,
     "metadata": {},
     "output_type": "execute_result"
    }
   ],
   "source": [
    "X[['territoryName','Party']].nunique()"
   ]
  },
  {
   "cell_type": "markdown",
   "id": "96ca91f0-e898-4a70-bdd1-fc3f65d74c26",
   "metadata": {},
   "source": [
    "There are 21 unique values present for both **territoryName** and **Party**. So we can go ahead with *Label Encoding*"
   ]
  },
  {
   "cell_type": "code",
   "execution_count": 86,
   "id": "2a279c4b-a08b-4bfb-9426-f57e1c729380",
   "metadata": {},
   "outputs": [],
   "source": [
    "encoder = LabelEncoder()\n",
    "X['territoryName'] = encoder.fit_transform(X['territoryName'])\n",
    "X['Party'] = encoder.fit_transform(X['Party'])"
   ]
  },
  {
   "cell_type": "code",
   "execution_count": 87,
   "id": "8084dd38-70ee-473d-970b-958f965d5dee",
   "metadata": {},
   "outputs": [
    {
     "name": "stdout",
     "output_type": "stream",
     "text": [
      "<class 'pandas.core.frame.DataFrame'>\n",
      "RangeIndex: 21643 entries, 0 to 21642\n",
      "Data columns (total 21 columns):\n",
      " #   Column                Non-Null Count  Dtype  \n",
      "---  ------                --------------  -----  \n",
      " 0   territoryName         21643 non-null  int32  \n",
      " 1   totalMandates         21643 non-null  int64  \n",
      " 2   availableMandates     21643 non-null  int64  \n",
      " 3   numParishes           21643 non-null  int64  \n",
      " 4   numParishesApproved   21643 non-null  int64  \n",
      " 5   blankVotes            21643 non-null  int64  \n",
      " 6   nullVotes             21643 non-null  int64  \n",
      " 7   votersPercentage      21643 non-null  float64\n",
      " 8   subscribedVoters      21643 non-null  int64  \n",
      " 9   totalVoters           21643 non-null  float64\n",
      " 10  pre.blankVotes        21643 non-null  int64  \n",
      " 11  pre.nullVotes         21643 non-null  int64  \n",
      " 12  pre.votersPercentage  21643 non-null  float64\n",
      " 13  pre.subscribedVoters  21643 non-null  int64  \n",
      " 14  pre.totalVoters       21643 non-null  int64  \n",
      " 15  Party                 21643 non-null  int32  \n",
      " 16  Mandates              21643 non-null  int64  \n",
      " 17  Percentage            21643 non-null  float64\n",
      " 18  validVotesPercentage  21643 non-null  float64\n",
      " 19  Votes                 21643 non-null  int64  \n",
      " 20  Hondt                 21643 non-null  int64  \n",
      "dtypes: float64(5), int32(2), int64(14)\n",
      "memory usage: 3.3 MB\n"
     ]
    }
   ],
   "source": [
    "X.info()"
   ]
  },
  {
   "cell_type": "markdown",
   "id": "b1e1983e-f7a6-4334-815f-2ae719d001bb",
   "metadata": {},
   "source": [
    "All features are now in numerical type."
   ]
  },
  {
   "cell_type": "markdown",
   "id": "75499888-5f34-4311-b275-55c823232cc4",
   "metadata": {},
   "source": [
    "<div class=\"alert alert-success\"><b>5. Standardization</b></div>"
   ]
  },
  {
   "cell_type": "code",
   "execution_count": 88,
   "id": "dd935a66-c51b-4d7b-b7ba-a0ff9bcfc782",
   "metadata": {},
   "outputs": [],
   "source": [
    "# Standard Scaling\n",
    "X_columns = X.columns\n",
    "y_columns = y.columns\n",
    "X = pd.DataFrame(StandardScaler().fit_transform(X), columns=X_columns)\n",
    "y = pd.DataFrame(StandardScaler().fit_transform(y), columns=y_columns) # target scaling for LinearRegression Model"
   ]
  },
  {
   "cell_type": "code",
   "execution_count": null,
   "id": "3ef92306-7f83-4132-b70f-31faf898ed82",
   "metadata": {},
   "outputs": [],
   "source": []
  },
  {
   "cell_type": "code",
   "execution_count": null,
   "id": "8a8ca70d-32b9-459b-921d-4fafb70b8783",
   "metadata": {},
   "outputs": [],
   "source": []
  },
  {
   "cell_type": "markdown",
   "id": "795c65af-fbd9-455a-a4ac-18e26d3f20c9",
   "metadata": {},
   "source": [
    "<div class=\"alert alert-success\"><b>6. Feature Engineering</b></div>"
   ]
  },
  {
   "cell_type": "code",
   "execution_count": null,
   "id": "f30a7a70-010b-4925-aed2-a188fb0df1ac",
   "metadata": {},
   "outputs": [],
   "source": []
  },
  {
   "cell_type": "code",
   "execution_count": null,
   "id": "b2a87f69-a1aa-4019-8501-0ea22b2d3f40",
   "metadata": {},
   "outputs": [],
   "source": []
  },
  {
   "cell_type": "code",
   "execution_count": null,
   "id": "c43f1c0a-8ef5-491d-b6f1-d2ac176de6b1",
   "metadata": {},
   "outputs": [],
   "source": []
  },
  {
   "cell_type": "code",
   "execution_count": 123,
   "id": "ae729e54-bc34-4c38-b543-6a412164359a",
   "metadata": {},
   "outputs": [],
   "source": [
    "cdata.to_csv(path_or_buf='./dataset/Processed_Portugal_Election_Data.csv', index=False, encoding = 'utf-8')"
   ]
  },
  {
   "cell_type": "markdown",
   "id": "b7009c4c-aa93-433c-a735-3cba04e73dba",
   "metadata": {},
   "source": [
    "***\n",
    "### <div align=\"center\"> Modeling</div>\n",
    "***"
   ]
  },
  {
   "cell_type": "code",
   "execution_count": 89,
   "id": "bf0932df-73b8-49b7-8d0b-abdf75b63952",
   "metadata": {},
   "outputs": [],
   "source": [
    "X_train, X_test, y_train, y_test = train_test_split(X, y, test_size = 0.3, random_state = 42)"
   ]
  },
  {
   "cell_type": "code",
   "execution_count": 90,
   "id": "41e3c127-1a53-4354-ae09-4855a78b125f",
   "metadata": {},
   "outputs": [],
   "source": [
    "r2_dict = {}\n",
    "def check_metrices(y_test, y_pred, model):\n",
    "    print(f\"Performance of {model} Model\\n{'_'*50}\\n\")\n",
    "    print(f'      MAE =  {mean_absolute_error(y_test, y_pred)}')\n",
    "    print(f'      MSE =  {mean_squared_error(y_test, y_pred)}')\n",
    "    r2 = r2_score(y_test, y_pred)\n",
    "    r2_dict[model] = r2\n",
    "    print(f' R2_Score =  {r2}')\n",
    "    print(f'Max Error =  {max_error(y_test, y_pred)}')"
   ]
  },
  {
   "cell_type": "markdown",
   "id": "0e13acb5-01bd-4c3a-8a2f-4c9da0b22036",
   "metadata": {},
   "source": [
    "#### 01. Linear Regression "
   ]
  },
  {
   "cell_type": "code",
   "execution_count": 91,
   "id": "296821ce-0b13-46bf-8434-e93f8668b016",
   "metadata": {},
   "outputs": [
    {
     "name": "stdout",
     "output_type": "stream",
     "text": [
      "Performance of LinearRegression Model\n",
      "__________________________________________________\n",
      "\n",
      "      MAE =  0.02717600439491664\n",
      "      MSE =  0.00642250720598178\n",
      " R2_Score =  0.9946014355995932\n",
      "Max Error =  1.4739102268508155\n"
     ]
    }
   ],
   "source": [
    "from sklearn.linear_model import LinearRegression\n",
    "lr_model = LinearRegression().fit(X_train, y_train)\n",
    "lr_pred = lr_model.predict(X_test)\n",
    "check_metrices(y_test, lr_pred, 'LinearRegression')"
   ]
  },
  {
   "cell_type": "markdown",
   "id": "9b34903f-6a3f-4f2b-b161-35f6ebd2a392",
   "metadata": {},
   "source": [
    "#### 02. Random forest Regressor"
   ]
  },
  {
   "cell_type": "code",
   "execution_count": 92,
   "id": "b7e26834-dafb-47a0-ab4d-71a1e7312ca6",
   "metadata": {},
   "outputs": [
    {
     "name": "stdout",
     "output_type": "stream",
     "text": [
      "Performance of RandomForestRegressor Model\n",
      "__________________________________________________\n",
      "\n",
      "      MAE =  0.0003753665788332877\n",
      "      MSE =  2.9154676167434705e-05\n",
      " R2_Score =  0.9999754934651196\n",
      "Max Error =  0.14550777291690267\n"
     ]
    }
   ],
   "source": [
    "from sklearn.ensemble import RandomForestRegressor\n",
    "rf_model = RandomForestRegressor(random_state=42).fit(X_train, y_train)\n",
    "rf_pred = rf_model.predict(X_test)\n",
    "check_metrices(y_test, rf_pred, 'RandomForestRegressor')"
   ]
  },
  {
   "cell_type": "code",
   "execution_count": 108,
   "id": "4f7ce013-4761-43d2-b505-5a8cb2f0774d",
   "metadata": {},
   "outputs": [
    {
     "name": "stdout",
     "output_type": "stream",
     "text": [
      "territoryName = 0.04246673603206289\n",
      "totalMandates = 0.0037813218078910364\n",
      "availableMandates = 0.006826894235265821\n",
      "numParishes = 0.018882981805313708\n",
      "numParishesApproved = 0.018898184308762306\n",
      "blankVotes = 0.003155573894971623\n",
      "nullVotes = 0.002505597319478358\n",
      "votersPercentage = 0.008589882742206255\n",
      "subscribedVoters = 0.0030827476149516402\n",
      "totalVoters = 0.00443548608392701\n",
      "pre.blankVotes = 0.0032907092978540385\n",
      "pre.nullVotes = 0.003245918121836607\n",
      "pre.votersPercentage = 0.007309902812841605\n",
      "pre.subscribedVoters = 0.004252676072671226\n",
      "pre.totalVoters = 0.0034723128932969767\n",
      "Party = 1.0068751410202124\n",
      "Mandates = 0.00014808316934596878\n",
      "Percentage = 0.3899893427783523\n",
      "validVotesPercentage = 0.4799808371884384\n",
      "Votes = 0.011036671248665574\n",
      "Hondt = 97.97777299955165\n"
     ]
    }
   ],
   "source": [
    "for key, value in zip(rf_model.feature_importances_, X.columns):\n",
    "    print(f'{value} = {key*100}')"
   ]
  },
  {
   "cell_type": "markdown",
   "id": "bf52716a-609f-4f4f-84e5-2cc08f6d4d3a",
   "metadata": {},
   "source": [
    "#### 03. XGBoost Regressor"
   ]
  },
  {
   "cell_type": "code",
   "execution_count": 93,
   "id": "83fb6b36-5833-4cb1-8a22-099668ca665b",
   "metadata": {},
   "outputs": [
    {
     "name": "stdout",
     "output_type": "stream",
     "text": [
      "Performance of XGBRegressor Model\n",
      "__________________________________________________\n",
      "\n",
      "      MAE =  0.0003753665788332877\n",
      "      MSE =  2.9154676167434705e-05\n",
      " R2_Score =  0.9999754934651196\n",
      "Max Error =  0.14550777291690267\n"
     ]
    }
   ],
   "source": [
    "from xgboost import XGBRegressor\n",
    "xgb_model = RandomForestRegressor(random_state=42).fit(X_train, y_train)\n",
    "xgb_pred = xgb_model.predict(X_test)\n",
    "check_metrices(y_test, xgb_pred, 'XGBRegressor')"
   ]
  },
  {
   "cell_type": "code",
   "execution_count": 94,
   "id": "e087e95b-4e21-45f3-964c-018024508c45",
   "metadata": {},
   "outputs": [],
   "source": [
    "best_model = max(r2_dict, key = lambda key: r2_dict[key])"
   ]
  },
  {
   "cell_type": "code",
   "execution_count": 95,
   "id": "cf59377d-fb58-4a53-bfd5-ba94a31dc752",
   "metadata": {},
   "outputs": [
    {
     "name": "stdout",
     "output_type": "stream",
     "text": [
      "Best model is RandomForestRegressor with R2_Score of 0.9999754934651196\n"
     ]
    }
   ],
   "source": [
    "print(f'Best model is {best_model} with R2_Score of {r2_dict.get(best_model)}')"
   ]
  },
  {
   "cell_type": "markdown",
   "id": "cbd4e767-2277-49d8-8882-0885667ef536",
   "metadata": {},
   "source": [
    "**target leakage or overfitting**"
   ]
  },
  {
   "cell_type": "code",
   "execution_count": null,
   "id": "1f1791f8-aa37-4c2c-ac08-ab7505ae7a36",
   "metadata": {},
   "outputs": [],
   "source": []
  }
 ],
 "metadata": {
  "kernelspec": {
   "display_name": "Python (ICTK)",
   "language": "python",
   "name": "ictk"
  },
  "language_info": {
   "codemirror_mode": {
    "name": "ipython",
    "version": 3
   },
   "file_extension": ".py",
   "mimetype": "text/x-python",
   "name": "python",
   "nbconvert_exporter": "python",
   "pygments_lexer": "ipython3",
   "version": "3.8.12"
  }
 },
 "nbformat": 4,
 "nbformat_minor": 5
}
