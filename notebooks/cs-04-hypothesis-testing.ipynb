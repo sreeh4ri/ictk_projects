{
 "cells": [
  {
   "cell_type": "markdown",
   "id": "f2b69bdc",
   "metadata": {},
   "source": [
    "# Case Study on Testing of Hypothesis\n",
    "**Sreehari P S**<br>\n",
    "*NORKA B5*\n",
    "***"
   ]
  },
  {
   "cell_type": "markdown",
   "id": "25898520",
   "metadata": {},
   "source": [
    "### Statement\n",
    "A company started to invest in digital marketing as a new way of their product promotions.For that they collected data and decided to carry out a study on it.<br>\n",
    "● The company wishes to clarify whether there is any increase in sales after stepping into digital marketing.<br>\n",
    "● The company needs to check whether there is any dependency between the features “Region” and “Manager”.<br>\n",
    "Help the company to carry out their study with the help of data provided.<br>\n",
    "***"
   ]
  },
  {
   "cell_type": "code",
   "execution_count": 1,
   "id": "c95de965",
   "metadata": {},
   "outputs": [],
   "source": [
    "import pandas as pd\n",
    "import numpy as np"
   ]
  },
  {
   "cell_type": "code",
   "execution_count": 2,
   "id": "3e9a5525",
   "metadata": {},
   "outputs": [
    {
     "data": {
      "text/html": [
       "<div>\n",
       "<style scoped>\n",
       "    .dataframe tbody tr th:only-of-type {\n",
       "        vertical-align: middle;\n",
       "    }\n",
       "\n",
       "    .dataframe tbody tr th {\n",
       "        vertical-align: top;\n",
       "    }\n",
       "\n",
       "    .dataframe thead th {\n",
       "        text-align: right;\n",
       "    }\n",
       "</style>\n",
       "<table border=\"1\" class=\"dataframe\">\n",
       "  <thead>\n",
       "    <tr style=\"text-align: right;\">\n",
       "      <th></th>\n",
       "      <th>Month</th>\n",
       "      <th>Region</th>\n",
       "      <th>Manager</th>\n",
       "      <th>Sales_before_digital_add(in $)</th>\n",
       "      <th>Sales_After_digital_add(in $)</th>\n",
       "    </tr>\n",
       "  </thead>\n",
       "  <tbody>\n",
       "    <tr>\n",
       "      <th>0</th>\n",
       "      <td>Month-1</td>\n",
       "      <td>Region - A</td>\n",
       "      <td>Manager - A</td>\n",
       "      <td>132921</td>\n",
       "      <td>270390</td>\n",
       "    </tr>\n",
       "    <tr>\n",
       "      <th>1</th>\n",
       "      <td>Month-2</td>\n",
       "      <td>Region - A</td>\n",
       "      <td>Manager - C</td>\n",
       "      <td>149559</td>\n",
       "      <td>223334</td>\n",
       "    </tr>\n",
       "    <tr>\n",
       "      <th>2</th>\n",
       "      <td>Month-3</td>\n",
       "      <td>Region - B</td>\n",
       "      <td>Manager - A</td>\n",
       "      <td>146278</td>\n",
       "      <td>244243</td>\n",
       "    </tr>\n",
       "    <tr>\n",
       "      <th>3</th>\n",
       "      <td>Month-4</td>\n",
       "      <td>Region - B</td>\n",
       "      <td>Manager - B</td>\n",
       "      <td>152167</td>\n",
       "      <td>231808</td>\n",
       "    </tr>\n",
       "    <tr>\n",
       "      <th>4</th>\n",
       "      <td>Month-5</td>\n",
       "      <td>Region - C</td>\n",
       "      <td>Manager - B</td>\n",
       "      <td>159525</td>\n",
       "      <td>258402</td>\n",
       "    </tr>\n",
       "  </tbody>\n",
       "</table>\n",
       "</div>"
      ],
      "text/plain": [
       "     Month      Region      Manager  Sales_before_digital_add(in $)  \\\n",
       "0  Month-1  Region - A  Manager - A                          132921   \n",
       "1  Month-2  Region - A  Manager - C                          149559   \n",
       "2  Month-3  Region - B  Manager - A                          146278   \n",
       "3  Month-4  Region - B  Manager - B                          152167   \n",
       "4  Month-5  Region - C  Manager - B                          159525   \n",
       "\n",
       "   Sales_After_digital_add(in $)  \n",
       "0                         270390  \n",
       "1                         223334  \n",
       "2                         244243  \n",
       "3                         231808  \n",
       "4                         258402  "
      ]
     },
     "execution_count": 2,
     "metadata": {},
     "output_type": "execute_result"
    }
   ],
   "source": [
    "data = pd.read_csv('./datasets/Sales_add.csv')\n",
    "data.head()"
   ]
  },
  {
   "cell_type": "code",
   "execution_count": 3,
   "id": "00050de9",
   "metadata": {},
   "outputs": [
    {
     "data": {
      "text/html": [
       "<div>\n",
       "<style scoped>\n",
       "    .dataframe tbody tr th:only-of-type {\n",
       "        vertical-align: middle;\n",
       "    }\n",
       "\n",
       "    .dataframe tbody tr th {\n",
       "        vertical-align: top;\n",
       "    }\n",
       "\n",
       "    .dataframe thead th {\n",
       "        text-align: right;\n",
       "    }\n",
       "</style>\n",
       "<table border=\"1\" class=\"dataframe\">\n",
       "  <thead>\n",
       "    <tr style=\"text-align: right;\">\n",
       "      <th></th>\n",
       "      <th>count</th>\n",
       "      <th>mean</th>\n",
       "      <th>std</th>\n",
       "      <th>min</th>\n",
       "      <th>25%</th>\n",
       "      <th>50%</th>\n",
       "      <th>75%</th>\n",
       "      <th>max</th>\n",
       "    </tr>\n",
       "  </thead>\n",
       "  <tbody>\n",
       "    <tr>\n",
       "      <th>Sales_before_digital_add(in $)</th>\n",
       "      <td>22.0</td>\n",
       "      <td>149239.95</td>\n",
       "      <td>14844.04</td>\n",
       "      <td>130263.0</td>\n",
       "      <td>138087.75</td>\n",
       "      <td>147444.0</td>\n",
       "      <td>157627.5</td>\n",
       "      <td>178939.0</td>\n",
       "    </tr>\n",
       "    <tr>\n",
       "      <th>Sales_After_digital_add(in $)</th>\n",
       "      <td>22.0</td>\n",
       "      <td>231123.73</td>\n",
       "      <td>25556.78</td>\n",
       "      <td>187305.0</td>\n",
       "      <td>214960.75</td>\n",
       "      <td>229986.5</td>\n",
       "      <td>250909.0</td>\n",
       "      <td>276279.0</td>\n",
       "    </tr>\n",
       "  </tbody>\n",
       "</table>\n",
       "</div>"
      ],
      "text/plain": [
       "                                count       mean       std       min  \\\n",
       "Sales_before_digital_add(in $)   22.0  149239.95  14844.04  130263.0   \n",
       "Sales_After_digital_add(in $)    22.0  231123.73  25556.78  187305.0   \n",
       "\n",
       "                                      25%       50%       75%       max  \n",
       "Sales_before_digital_add(in $)  138087.75  147444.0  157627.5  178939.0  \n",
       "Sales_After_digital_add(in $)   214960.75  229986.5  250909.0  276279.0  "
      ]
     },
     "execution_count": 3,
     "metadata": {},
     "output_type": "execute_result"
    }
   ],
   "source": [
    "data.describe().transpose().round(2)"
   ]
  },
  {
   "cell_type": "code",
   "execution_count": 4,
   "id": "090a196c",
   "metadata": {},
   "outputs": [
    {
     "data": {
      "text/plain": [
       "(22, 5)"
      ]
     },
     "execution_count": 4,
     "metadata": {},
     "output_type": "execute_result"
    }
   ],
   "source": [
    "data.shape"
   ]
  },
  {
   "cell_type": "markdown",
   "id": "1c2120f6",
   "metadata": {},
   "source": [
    "### 1: The company wishes to clarify whether there is any increase in sales after stepping into digital marketing"
   ]
  },
  {
   "cell_type": "markdown",
   "id": "5d776351",
   "metadata": {},
   "source": [
    "**Hypthesis**<br>\n",
    "H0 = Sales didnot increase after digital marketing<br>\n",
    "H1 = Sales increase after digital marketing"
   ]
  },
  {
   "cell_type": "markdown",
   "id": "c6bfc502",
   "metadata": {},
   "source": [
    "Hypothesis testing can be done with t-test as sample size is only 22\n",
    "***"
   ]
  },
  {
   "cell_type": "code",
   "execution_count": 5,
   "id": "f954e47f",
   "metadata": {},
   "outputs": [],
   "source": [
    "sales_before = data['Sales_before_digital_add(in $)']\n",
    "sales_after = data['Sales_After_digital_add(in $)']"
   ]
  },
  {
   "cell_type": "code",
   "execution_count": 6,
   "id": "63203bff",
   "metadata": {},
   "outputs": [],
   "source": [
    "from scipy import stats"
   ]
  },
  {
   "cell_type": "code",
   "execution_count": 7,
   "id": "80034055",
   "metadata": {},
   "outputs": [],
   "source": [
    "alpha = 0.05\n",
    "t_dof = 21"
   ]
  },
  {
   "cell_type": "code",
   "execution_count": 8,
   "id": "5197facd",
   "metadata": {},
   "outputs": [
    {
     "name": "stdout",
     "output_type": "stream",
     "text": [
      "Critical value = 1.7207429028118775\n",
      "P value = 2.614368006904645e-16\n",
      "T value = 12.995084451110877\n"
     ]
    }
   ],
   "source": [
    "t_critical = stats.t.ppf(q=1-alpha, df = t_dof)\n",
    "print(f\"Critical value = {t_critical}\")\n",
    "tvalue, p_value = stats.ttest_ind(sales_before,sales_after)\n",
    "tvalue = np.abs(tvalue)\n",
    "print(f\"P value = {p_value}\")\n",
    "print(f\"T value = {tvalue}\")"
   ]
  },
  {
   "cell_type": "code",
   "execution_count": 9,
   "id": "d39ff226",
   "metadata": {},
   "outputs": [
    {
     "name": "stdout",
     "output_type": "stream",
     "text": [
      "Reject H0\n"
     ]
    }
   ],
   "source": [
    "if tvalue>=t_critical and p_value<=alpha:\n",
    "    print(\"Reject H0\")\n",
    "else:\n",
    "    print(\"Accept H0\")"
   ]
  },
  {
   "cell_type": "markdown",
   "id": "5fe48398",
   "metadata": {},
   "source": [
    "So from the test we can clearly conclude that sales did increase after digital marketing\n",
    "***"
   ]
  },
  {
   "cell_type": "markdown",
   "id": "5eb1f7e2",
   "metadata": {},
   "source": [
    "### 2. The company needs to check whether there is any dependency between the features “Region” and \"Manager”."
   ]
  },
  {
   "cell_type": "markdown",
   "id": "89ab5d08",
   "metadata": {},
   "source": [
    "H0 = There is no dependency between Region and Manager\n",
    "H1 = There is a dependency between Region and Manager"
   ]
  },
  {
   "cell_type": "code",
   "execution_count": 10,
   "id": "6e6b35d0",
   "metadata": {},
   "outputs": [
    {
     "name": "stdout",
     "output_type": "stream",
     "text": [
      "Contingency_table :-\n",
      " Manager     Manager - A  Manager - B  Manager - C\n",
      "Region                                           \n",
      "Region - A            4            3            3\n",
      "Region - B            4            1            2\n",
      "Region - C            1            3            1\n",
      "Observed Values :-\n",
      " [[4 3 3]\n",
      " [4 1 2]\n",
      " [1 3 1]]\n"
     ]
    }
   ],
   "source": [
    "cont_table = pd.crosstab(data[\"Region\"], data[\"Manager\"])\n",
    "print('Contingency_table :-\\n',cont_table)\n",
    "#Observed Values\n",
    "Observed_Values = cont_table.values \n",
    "print(\"Observed Values :-\\n\",Observed_Values)"
   ]
  },
  {
   "cell_type": "code",
   "execution_count": 11,
   "id": "036c0991",
   "metadata": {},
   "outputs": [
    {
     "name": "stdout",
     "output_type": "stream",
     "text": [
      "Expected Values :-\n",
      " [[4.09090909 3.18181818 2.72727273]\n",
      " [2.86363636 2.22727273 1.90909091]\n",
      " [2.04545455 1.59090909 1.36363636]]\n"
     ]
    }
   ],
   "source": [
    "tup=stats.chi2_contingency(cont_table)\n",
    "Expected_Values = tup[3]\n",
    "print(\"Expected Values :-\\n\",Expected_Values)"
   ]
  },
  {
   "cell_type": "code",
   "execution_count": 12,
   "id": "a6891b18",
   "metadata": {},
   "outputs": [
    {
     "name": "stdout",
     "output_type": "stream",
     "text": [
      "Degree of Freedom:- 4\n"
     ]
    }
   ],
   "source": [
    "dof=tup[2]\n",
    "print(\"Degree of Freedom:-\",dof)"
   ]
  },
  {
   "cell_type": "code",
   "execution_count": 13,
   "id": "1831043c",
   "metadata": {},
   "outputs": [
    {
     "name": "stdout",
     "output_type": "stream",
     "text": [
      "Test Statistic:- 3.050566893424036\n"
     ]
    }
   ],
   "source": [
    "chis2=np.abs(tup[0])\n",
    "print(\"Test Statistic:-\",chis2)"
   ]
  },
  {
   "cell_type": "code",
   "execution_count": 14,
   "id": "1bb046b0",
   "metadata": {},
   "outputs": [
    {
     "name": "stdout",
     "output_type": "stream",
     "text": [
      "PValue:- 0.5493991051158094\n"
     ]
    }
   ],
   "source": [
    "pvalue = tup[1]\n",
    "print(\"PValue:-\",pvalue)"
   ]
  },
  {
   "cell_type": "code",
   "execution_count": 15,
   "id": "a2ae848c",
   "metadata": {},
   "outputs": [
    {
     "name": "stdout",
     "output_type": "stream",
     "text": [
      "9.487729036781154\n"
     ]
    }
   ],
   "source": [
    "critical_value=stats.chi2.ppf(q=1-alpha,df=dof)\n",
    "print(critical_value)"
   ]
  },
  {
   "cell_type": "code",
   "execution_count": 16,
   "id": "95ced8e9",
   "metadata": {},
   "outputs": [
    {
     "name": "stdout",
     "output_type": "stream",
     "text": [
      "Accept H0\n"
     ]
    }
   ],
   "source": [
    "if chis2>=critical_value and pvalue<=alpha:\n",
    "    print(\"Reject H0\")\n",
    "else:\n",
    "    print(\"Accept H0\")"
   ]
  },
  {
   "cell_type": "markdown",
   "id": "7a5a409b",
   "metadata": {},
   "source": [
    "Therefore it is clear that there is no dependency between Manager and Regions"
   ]
  }
 ],
 "metadata": {
  "kernelspec": {
   "display_name": "Python (ICTK)",
   "language": "python",
   "name": "ictk"
  },
  "language_info": {
   "codemirror_mode": {
    "name": "ipython",
    "version": 3
   },
   "file_extension": ".py",
   "mimetype": "text/x-python",
   "name": "python",
   "nbconvert_exporter": "python",
   "pygments_lexer": "ipython3",
   "version": "3.8.12"
  }
 },
 "nbformat": 4,
 "nbformat_minor": 5
}
