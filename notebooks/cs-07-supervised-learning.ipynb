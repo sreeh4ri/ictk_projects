{
 "cells": [
  {
   "cell_type": "markdown",
   "id": "3d444a34",
   "metadata": {},
   "source": [
    "# Case Study on Supervised Learning\n",
    "**Sreehari P S**<br>\n",
    "*NORKA B5*\n",
    "***"
   ]
  },
  {
   "cell_type": "markdown",
   "id": "7ad18772-44b8-4409-9f51-f8f6c8b985cf",
   "metadata": {},
   "source": [
    "**Problem Statement:** <br>\n",
    "Do the following in the iris dataset.<br>\n",
    "1. Read the dataset to the python environment.<br>\n",
    "2. Do necessary pre-processing steps.<br>\n",
    "3. Find out which classification model gives the best result to predict iris species.(also do random forest algorithm)\n",
    "***"
   ]
  },
  {
   "cell_type": "code",
   "execution_count": 1,
   "id": "3487d796-6443-4c0b-977e-3cc843f898e8",
   "metadata": {},
   "outputs": [],
   "source": [
    "import numpy as np\n",
    "import pandas as pd\n",
    "import matplotlib.pyplot as plt"
   ]
  },
  {
   "cell_type": "markdown",
   "id": "e7d08d51-347f-484c-9a87-f0aee4a859d6",
   "metadata": {},
   "source": [
    "### 1. Load data into the python environment\n",
    "***"
   ]
  },
  {
   "cell_type": "code",
   "execution_count": 2,
   "id": "82ef5baa-b1e2-4bdb-aed3-5014b3b39834",
   "metadata": {},
   "outputs": [
    {
     "data": {
      "text/html": [
       "<div>\n",
       "<style scoped>\n",
       "    .dataframe tbody tr th:only-of-type {\n",
       "        vertical-align: middle;\n",
       "    }\n",
       "\n",
       "    .dataframe tbody tr th {\n",
       "        vertical-align: top;\n",
       "    }\n",
       "\n",
       "    .dataframe thead th {\n",
       "        text-align: right;\n",
       "    }\n",
       "</style>\n",
       "<table border=\"1\" class=\"dataframe\">\n",
       "  <thead>\n",
       "    <tr style=\"text-align: right;\">\n",
       "      <th></th>\n",
       "      <th>SL</th>\n",
       "      <th>SW</th>\n",
       "      <th>PL</th>\n",
       "      <th>PW</th>\n",
       "      <th>Classification</th>\n",
       "    </tr>\n",
       "  </thead>\n",
       "  <tbody>\n",
       "    <tr>\n",
       "      <th>0</th>\n",
       "      <td>5.1</td>\n",
       "      <td>3.5</td>\n",
       "      <td>1.4</td>\n",
       "      <td>0.2</td>\n",
       "      <td>Iris-setosa</td>\n",
       "    </tr>\n",
       "    <tr>\n",
       "      <th>1</th>\n",
       "      <td>4.9</td>\n",
       "      <td>3.0</td>\n",
       "      <td>1.4</td>\n",
       "      <td>0.2</td>\n",
       "      <td>Iris-setosa</td>\n",
       "    </tr>\n",
       "    <tr>\n",
       "      <th>2</th>\n",
       "      <td>NaN</td>\n",
       "      <td>3.2</td>\n",
       "      <td>1.3</td>\n",
       "      <td>0.2</td>\n",
       "      <td>Iris-setosa</td>\n",
       "    </tr>\n",
       "    <tr>\n",
       "      <th>3</th>\n",
       "      <td>4.6</td>\n",
       "      <td>3.1</td>\n",
       "      <td>1.5</td>\n",
       "      <td>0.2</td>\n",
       "      <td>Iris-setosa</td>\n",
       "    </tr>\n",
       "    <tr>\n",
       "      <th>4</th>\n",
       "      <td>5.0</td>\n",
       "      <td>3.6</td>\n",
       "      <td>1.4</td>\n",
       "      <td>0.2</td>\n",
       "      <td>Iris-setosa</td>\n",
       "    </tr>\n",
       "  </tbody>\n",
       "</table>\n",
       "</div>"
      ],
      "text/plain": [
       "    SL   SW   PL   PW Classification\n",
       "0  5.1  3.5  1.4  0.2    Iris-setosa\n",
       "1  4.9  3.0  1.4  0.2    Iris-setosa\n",
       "2  NaN  3.2  1.3  0.2    Iris-setosa\n",
       "3  4.6  3.1  1.5  0.2    Iris-setosa\n",
       "4  5.0  3.6  1.4  0.2    Iris-setosa"
      ]
     },
     "execution_count": 2,
     "metadata": {},
     "output_type": "execute_result"
    }
   ],
   "source": [
    "data = pd.read_excel('./datasets/iris_week11.xls')\n",
    "data.head()"
   ]
  },
  {
   "cell_type": "code",
   "execution_count": 3,
   "id": "3d11977f-98a1-49ce-be7f-e5cfb1035469",
   "metadata": {},
   "outputs": [
    {
     "data": {
      "text/plain": [
       "Iris-setosa        50\n",
       "Iris-versicolor    50\n",
       "Iris-virginica     50\n",
       "Name: Classification, dtype: int64"
      ]
     },
     "execution_count": 3,
     "metadata": {},
     "output_type": "execute_result"
    }
   ],
   "source": [
    "data.Classification.value_counts()"
   ]
  },
  {
   "cell_type": "markdown",
   "id": "342b5a1f-b333-42b7-a2e2-1dd5095c4674",
   "metadata": {},
   "source": [
    "From the above result it can be concluded that the above problem statement belongs to **\"Multi-Class Classification Problem\"**"
   ]
  },
  {
   "cell_type": "markdown",
   "id": "160f7bda-3e14-4968-9c2f-6c12c7d01dbb",
   "metadata": {},
   "source": [
    "### 2. Pre-processing\n",
    "***"
   ]
  },
  {
   "cell_type": "code",
   "execution_count": 4,
   "id": "b839d0f1-12a1-4c4a-9ef7-1683baa78b3f",
   "metadata": {},
   "outputs": [
    {
     "data": {
      "text/plain": [
       "(150, 5)"
      ]
     },
     "execution_count": 4,
     "metadata": {},
     "output_type": "execute_result"
    }
   ],
   "source": [
    "# shape\n",
    "data.shape"
   ]
  },
  {
   "cell_type": "code",
   "execution_count": 5,
   "id": "8e1cfce0-35d5-4af9-8683-7aa62f4cb83f",
   "metadata": {},
   "outputs": [
    {
     "name": "stdout",
     "output_type": "stream",
     "text": [
      "<class 'pandas.core.frame.DataFrame'>\n",
      "RangeIndex: 150 entries, 0 to 149\n",
      "Data columns (total 5 columns):\n",
      " #   Column          Non-Null Count  Dtype  \n",
      "---  ------          --------------  -----  \n",
      " 0   SL              143 non-null    float64\n",
      " 1   SW              144 non-null    float64\n",
      " 2   PL              144 non-null    float64\n",
      " 3   PW              150 non-null    float64\n",
      " 4   Classification  150 non-null    object \n",
      "dtypes: float64(4), object(1)\n",
      "memory usage: 6.0+ KB\n"
     ]
    }
   ],
   "source": [
    "# info\n",
    "data.info()"
   ]
  },
  {
   "cell_type": "markdown",
   "id": "2e16cb3e-af74-430d-a069-e5634c6e5985",
   "metadata": {},
   "source": [
    "There are 4 columns in iris dataset out of which the predictor column 'Classification' belongs to object type. Rest columns belongs to float"
   ]
  },
  {
   "cell_type": "code",
   "execution_count": 6,
   "id": "08ca5556-52a8-4e90-9531-a812d65a6923",
   "metadata": {},
   "outputs": [
    {
     "data": {
      "text/plain": [
       "SL                7\n",
       "SW                6\n",
       "PL                6\n",
       "PW                0\n",
       "Classification    0\n",
       "dtype: int64"
      ]
     },
     "execution_count": 6,
     "metadata": {},
     "output_type": "execute_result"
    }
   ],
   "source": [
    "# check for null values\n",
    "data.isna().sum()"
   ]
  },
  {
   "cell_type": "markdown",
   "id": "eaa34ea2-5d29-4586-b77d-4d31819d903b",
   "metadata": {},
   "source": [
    "There are null values present in dataset"
   ]
  },
  {
   "cell_type": "code",
   "execution_count": 7,
   "id": "5a52e894-a1d0-4043-84aa-018730637775",
   "metadata": {},
   "outputs": [
    {
     "data": {
      "image/png": "[encoded data removed]",
      "text/plain": [
       "<Figure size 432x288 with 1 Axes>"
      ]
     },
     "metadata": {
      "needs_background": "light"
     },
     "output_type": "display_data"
    },
    {
     "data": {
      "image/png": "[encoded data removed]",
      "text/plain": [
       "<Figure size 432x288 with 1 Axes>"
      ]
     },
     "metadata": {
      "needs_background": "light"
     },
     "output_type": "display_data"
    },
    {
     "data": {
      "image/png": "[encoded data removed]",
      "text/plain": [
       "<Figure size 432x288 with 1 Axes>"
      ]
     },
     "metadata": {
      "needs_background": "light"
     },
     "output_type": "display_data"
    },
    {
     "data": {
      "image/png": "[encoded data removed]",
      "text/plain": [
       "<Figure size 432x288 with 1 Axes>"
      ]
     },
     "metadata": {
      "needs_background": "light"
     },
     "output_type": "display_data"
    }
   ],
   "source": [
    "for column in data.columns[:-1]:\n",
    "    data[column].plot.hist()\n",
    "    plt.show()"
   ]
  },
  {
   "cell_type": "markdown",
   "id": "a096a9b4-db31-4f15-8713-fe73b512c094",
   "metadata": {},
   "source": [
    "From the histogram it is clear that columns in dataset are almost normally distributed, so null values can be replaced with mean"
   ]
  },
  {
   "cell_type": "code",
   "execution_count": 8,
   "id": "6a9d7bc3-90f3-4679-a794-29745445c180",
   "metadata": {},
   "outputs": [
    {
     "data": {
      "text/html": [
       "<div>\n",
       "<style scoped>\n",
       "    .dataframe tbody tr th:only-of-type {\n",
       "        vertical-align: middle;\n",
       "    }\n",
       "\n",
       "    .dataframe tbody tr th {\n",
       "        vertical-align: top;\n",
       "    }\n",
       "\n",
       "    .dataframe thead th {\n",
       "        text-align: right;\n",
       "    }\n",
       "</style>\n",
       "<table border=\"1\" class=\"dataframe\">\n",
       "  <thead>\n",
       "    <tr style=\"text-align: right;\">\n",
       "      <th></th>\n",
       "      <th>count</th>\n",
       "      <th>mean</th>\n",
       "      <th>std</th>\n",
       "      <th>min</th>\n",
       "      <th>25%</th>\n",
       "      <th>50%</th>\n",
       "      <th>75%</th>\n",
       "      <th>max</th>\n",
       "    </tr>\n",
       "  </thead>\n",
       "  <tbody>\n",
       "    <tr>\n",
       "      <th>SL</th>\n",
       "      <td>143.0</td>\n",
       "      <td>5.855944</td>\n",
       "      <td>0.828168</td>\n",
       "      <td>4.3</td>\n",
       "      <td>5.1</td>\n",
       "      <td>5.80</td>\n",
       "      <td>6.4</td>\n",
       "      <td>7.9</td>\n",
       "    </tr>\n",
       "    <tr>\n",
       "      <th>SW</th>\n",
       "      <td>144.0</td>\n",
       "      <td>3.049306</td>\n",
       "      <td>0.430644</td>\n",
       "      <td>2.0</td>\n",
       "      <td>2.8</td>\n",
       "      <td>3.00</td>\n",
       "      <td>3.3</td>\n",
       "      <td>4.4</td>\n",
       "    </tr>\n",
       "    <tr>\n",
       "      <th>PL</th>\n",
       "      <td>144.0</td>\n",
       "      <td>3.756250</td>\n",
       "      <td>1.761306</td>\n",
       "      <td>1.0</td>\n",
       "      <td>1.6</td>\n",
       "      <td>4.35</td>\n",
       "      <td>5.1</td>\n",
       "      <td>6.9</td>\n",
       "    </tr>\n",
       "    <tr>\n",
       "      <th>PW</th>\n",
       "      <td>150.0</td>\n",
       "      <td>1.198667</td>\n",
       "      <td>0.763161</td>\n",
       "      <td>0.1</td>\n",
       "      <td>0.3</td>\n",
       "      <td>1.30</td>\n",
       "      <td>1.8</td>\n",
       "      <td>2.5</td>\n",
       "    </tr>\n",
       "  </tbody>\n",
       "</table>\n",
       "</div>"
      ],
      "text/plain": [
       "    count      mean       std  min  25%   50%  75%  max\n",
       "SL  143.0  5.855944  0.828168  4.3  5.1  5.80  6.4  7.9\n",
       "SW  144.0  3.049306  0.430644  2.0  2.8  3.00  3.3  4.4\n",
       "PL  144.0  3.756250  1.761306  1.0  1.6  4.35  5.1  6.9\n",
       "PW  150.0  1.198667  0.763161  0.1  0.3  1.30  1.8  2.5"
      ]
     },
     "execution_count": 8,
     "metadata": {},
     "output_type": "execute_result"
    }
   ],
   "source": [
    "data.describe().T"
   ]
  },
  {
   "cell_type": "code",
   "execution_count": 9,
   "id": "74e3aa46-5094-444f-89b4-c252c7cf3af1",
   "metadata": {},
   "outputs": [],
   "source": [
    "# Filling missing values\n",
    "for column in data.columns[:-1]:\n",
    "    data[column].fillna(round(data[column].mean(), 1), inplace= True)"
   ]
  },
  {
   "cell_type": "code",
   "execution_count": 10,
   "id": "7c74ed91-3771-4c90-8657-dadba1174fab",
   "metadata": {},
   "outputs": [
    {
     "data": {
      "text/plain": [
       "SL                0\n",
       "SW                0\n",
       "PL                0\n",
       "PW                0\n",
       "Classification    0\n",
       "dtype: int64"
      ]
     },
     "execution_count": 10,
     "metadata": {},
     "output_type": "execute_result"
    }
   ],
   "source": [
    "data.isna().sum()"
   ]
  },
  {
   "cell_type": "markdown",
   "id": "59d4aadf-19ce-4b44-963e-eeddb798bb85",
   "metadata": {},
   "source": [
    "All the null values have been removed"
   ]
  },
  {
   "cell_type": "code",
   "execution_count": 11,
   "id": "bca30acf-d3ad-46e9-b60c-9add2ee18ee6",
   "metadata": {},
   "outputs": [
    {
     "data": {
      "text/html": [
       "<div>\n",
       "<style scoped>\n",
       "    .dataframe tbody tr th:only-of-type {\n",
       "        vertical-align: middle;\n",
       "    }\n",
       "\n",
       "    .dataframe tbody tr th {\n",
       "        vertical-align: top;\n",
       "    }\n",
       "\n",
       "    .dataframe thead th {\n",
       "        text-align: right;\n",
       "    }\n",
       "</style>\n",
       "<table border=\"1\" class=\"dataframe\">\n",
       "  <thead>\n",
       "    <tr style=\"text-align: right;\">\n",
       "      <th></th>\n",
       "      <th>count</th>\n",
       "      <th>mean</th>\n",
       "      <th>std</th>\n",
       "      <th>min</th>\n",
       "      <th>25%</th>\n",
       "      <th>50%</th>\n",
       "      <th>75%</th>\n",
       "      <th>max</th>\n",
       "    </tr>\n",
       "  </thead>\n",
       "  <tbody>\n",
       "    <tr>\n",
       "      <th>SL</th>\n",
       "      <td>150.0</td>\n",
       "      <td>5.858000</td>\n",
       "      <td>0.808534</td>\n",
       "      <td>4.3</td>\n",
       "      <td>5.2</td>\n",
       "      <td>5.8</td>\n",
       "      <td>6.400</td>\n",
       "      <td>7.9</td>\n",
       "    </tr>\n",
       "    <tr>\n",
       "      <th>SW</th>\n",
       "      <td>150.0</td>\n",
       "      <td>3.047333</td>\n",
       "      <td>0.421995</td>\n",
       "      <td>2.0</td>\n",
       "      <td>2.8</td>\n",
       "      <td>3.0</td>\n",
       "      <td>3.275</td>\n",
       "      <td>4.4</td>\n",
       "    </tr>\n",
       "    <tr>\n",
       "      <th>PL</th>\n",
       "      <td>150.0</td>\n",
       "      <td>3.758000</td>\n",
       "      <td>1.725500</td>\n",
       "      <td>1.0</td>\n",
       "      <td>1.6</td>\n",
       "      <td>4.2</td>\n",
       "      <td>5.100</td>\n",
       "      <td>6.9</td>\n",
       "    </tr>\n",
       "    <tr>\n",
       "      <th>PW</th>\n",
       "      <td>150.0</td>\n",
       "      <td>1.198667</td>\n",
       "      <td>0.763161</td>\n",
       "      <td>0.1</td>\n",
       "      <td>0.3</td>\n",
       "      <td>1.3</td>\n",
       "      <td>1.800</td>\n",
       "      <td>2.5</td>\n",
       "    </tr>\n",
       "  </tbody>\n",
       "</table>\n",
       "</div>"
      ],
      "text/plain": [
       "    count      mean       std  min  25%  50%    75%  max\n",
       "SL  150.0  5.858000  0.808534  4.3  5.2  5.8  6.400  7.9\n",
       "SW  150.0  3.047333  0.421995  2.0  2.8  3.0  3.275  4.4\n",
       "PL  150.0  3.758000  1.725500  1.0  1.6  4.2  5.100  6.9\n",
       "PW  150.0  1.198667  0.763161  0.1  0.3  1.3  1.800  2.5"
      ]
     },
     "execution_count": 11,
     "metadata": {},
     "output_type": "execute_result"
    }
   ],
   "source": [
    "data.describe().T"
   ]
  },
  {
   "cell_type": "markdown",
   "id": "8f0c0fb3-e011-4706-b3b1-88e39538cfe3",
   "metadata": {},
   "source": [
    "Filling with mean didnot introduce observable change in dataset"
   ]
  },
  {
   "cell_type": "code",
   "execution_count": 12,
   "id": "69043e45-f232-476e-8e60-77f4fe12e95d",
   "metadata": {},
   "outputs": [],
   "source": [
    "# Label Encode 'Classification' Column\n",
    "from sklearn.preprocessing import LabelEncoder\n",
    "data['Classification'] = LabelEncoder().fit_transform(data['Classification'])"
   ]
  },
  {
   "cell_type": "code",
   "execution_count": 13,
   "id": "8d1297ef-e74f-41b7-bdd1-f6e1fe5e8dea",
   "metadata": {},
   "outputs": [
    {
     "data": {
      "text/plain": [
       "0    50\n",
       "1    50\n",
       "2    50\n",
       "Name: Classification, dtype: int64"
      ]
     },
     "execution_count": 13,
     "metadata": {},
     "output_type": "execute_result"
    }
   ],
   "source": [
    "data.Classification.value_counts()"
   ]
  },
  {
   "cell_type": "markdown",
   "id": "78d03067-fafe-4ea1-88ce-3efedc605f93",
   "metadata": {},
   "source": [
    "### 3. Model Building\n",
    "***"
   ]
  },
  {
   "cell_type": "code",
   "execution_count": 14,
   "id": "e82b5049-03aa-428c-aeef-dbaf819851de",
   "metadata": {},
   "outputs": [],
   "source": [
    "# Function to check model performances\n",
    "from sklearn.metrics import f1_score, accuracy_score, precision_score, recall_score, confusion_matrix\n",
    "def check_model_metrices(y_test, y_pred):\n",
    "    print('Model Accuracy = ', accuracy_score(y_test, y_pred))\n",
    "    print('Model Precision = ', precision_score(y_test, y_pred, average='micro'))\n",
    "    print('Model Recall = ', recall_score(y_test, y_pred, average='micro'))\n",
    "    print('Model F1 Score = ', f1_score(y_test, y_pred, average='micro'))\n",
    "    print('Confusion Matrix = \\n', confusion_matrix(y_test, y_pred))"
   ]
  },
  {
   "cell_type": "code",
   "execution_count": 15,
   "id": "de22ff19-9aec-48a0-aa44-b113e2af98a1",
   "metadata": {},
   "outputs": [
    {
     "name": "stdout",
     "output_type": "stream",
     "text": [
      "Feature shape: (150, 4)\n"
     ]
    }
   ],
   "source": [
    "# feature selection\n",
    "X = data[data.columns[:-1]] # features\n",
    "y = data['Classification'] # target\n",
    "print(f'Feature shape: {X.shape}')"
   ]
  },
  {
   "cell_type": "code",
   "execution_count": 16,
   "id": "45431ffb-c7d7-4b9b-8508-2981284edc95",
   "metadata": {},
   "outputs": [
    {
     "name": "stdout",
     "output_type": "stream",
     "text": [
      "X_train shape: (105, 4)\n",
      "X_test shape: (45, 4)\n"
     ]
    }
   ],
   "source": [
    "# Spliting to training and testing sets\n",
    "from sklearn.model_selection import train_test_split\n",
    "X_train, X_test, y_train, y_test = train_test_split(X, y, test_size=0.3, random_state=42)\n",
    "print(f'X_train shape: {X_train.shape}')\n",
    "print(f'X_test shape: {X_test.shape}')"
   ]
  },
  {
   "cell_type": "markdown",
   "id": "d65cb5f5-585e-4bef-a73c-060c7db67dab",
   "metadata": {},
   "source": [
    "#### Model 1: Multinominal Logistic Regression\n",
    "***"
   ]
  },
  {
   "cell_type": "code",
   "execution_count": 17,
   "id": "56757f13-2a32-4078-9de0-f29b4a320b7f",
   "metadata": {},
   "outputs": [],
   "source": [
    "from sklearn.linear_model import LogisticRegression\n",
    "lr = LogisticRegression(multi_class='multinomial', solver='newton-cg') # solver = Algorithm to use in the optimization\n",
    "lr.fit(X_train, y_train)\n",
    "lr_pred = lr.predict(X_test)"
   ]
  },
  {
   "cell_type": "code",
   "execution_count": 18,
   "id": "365eb0a5-5cd7-4a35-8078-ef1aaf9ccb71",
   "metadata": {},
   "outputs": [
    {
     "name": "stdout",
     "output_type": "stream",
     "text": [
      "Model Accuracy =  0.9777777777777777\n",
      "Model Precision =  0.9777777777777777\n",
      "Model Recall =  0.9777777777777777\n",
      "Model F1 Score =  0.9777777777777777\n",
      "Confusion Matrix = \n",
      " [[18  1  0]\n",
      " [ 0 13  0]\n",
      " [ 0  0 13]]\n"
     ]
    }
   ],
   "source": [
    "check_model_metrices(y_test, lr_pred)"
   ]
  },
  {
   "cell_type": "markdown",
   "id": "5929f224-1d9f-4342-9faf-99e5fd33aebf",
   "metadata": {},
   "source": [
    "**Logistic Regression classifier has predicted with an accuracy of 97.7% with just 1 misclassification.**"
   ]
  },
  {
   "cell_type": "markdown",
   "id": "cd9c1379-1a47-4209-b406-5b4a1516c889",
   "metadata": {},
   "source": [
    "#### Model 2: k-Nearest Neighbors\n",
    "***"
   ]
  },
  {
   "cell_type": "code",
   "execution_count": 19,
   "id": "d511ab61-9d09-4b44-b4ba-3e4be2386f07",
   "metadata": {},
   "outputs": [],
   "source": [
    "from sklearn.neighbors import KNeighborsClassifier"
   ]
  },
  {
   "cell_type": "code",
   "execution_count": 20,
   "id": "2535206d-ffdb-4331-82a0-c9916d63cfcb",
   "metadata": {},
   "outputs": [],
   "source": [
    "def generate_kNN_model(x_train, y_train, x_test, k):\n",
    "    knn_model = KNeighborsClassifier(n_neighbors=k, metric='minkowski')\n",
    "    knn_model.fit(x_train, y_train)\n",
    "    return knn_model.predict(x_test)\n",
    "\n",
    "# Optimizing 'k' or 'n-neighbers' value\n",
    "def find_optimal_k(x_train, y_train, x_test):\n",
    "    accur_dict = dict()\n",
    "    for k in np.arange(3,16):\n",
    "        y_pred = generate_kNN_model(x_train, y_train, x_test, k)\n",
    "        accur_dict[k] = accuracy_score(y_test, y_pred)\n",
    "    #Plot\n",
    "    plt.plot(list(accur_dict.keys()),list(accur_dict.values()), marker ='o')\n",
    "    plt.title('k-Values vs Accuracy')\n",
    "    plt.show()\n",
    "    optimal_k = max(accur_dict, key = lambda x: accur_dict[x])\n",
    "    print('Best k value = ', optimal_k)\n",
    "    return optimal_k"
   ]
  },
  {
   "cell_type": "code",
   "execution_count": 21,
   "id": "39b4a2c5-2e26-4b0b-8baa-3c7c25813c79",
   "metadata": {},
   "outputs": [
    {
     "data": {
      "image/png": "[encoded data removed]",
      "text/plain": [
       "<Figure size 432x288 with 1 Axes>"
      ]
     },
     "metadata": {
      "needs_background": "light"
     },
     "output_type": "display_data"
    },
    {
     "name": "stdout",
     "output_type": "stream",
     "text": [
      "Best k value =  4\n",
      "kNN classifier with k = 4 has :: \n",
      "\n",
      "Model Accuracy =  0.9777777777777777\n",
      "Model Precision =  0.9777777777777777\n",
      "Model Recall =  0.9777777777777777\n",
      "Model F1 Score =  0.9777777777777777\n",
      "Confusion Matrix = \n",
      " [[18  1  0]\n",
      " [ 0 13  0]\n",
      " [ 0  0 13]]\n"
     ]
    }
   ],
   "source": [
    "# Find Optimal k value\n",
    "k_optimal = find_optimal_k(X_train, y_train, X_test)\n",
    "knn_y_pred = generate_kNN_model(X_train, y_train, X_test, k_optimal)\n",
    "print(f'kNN classifier with k = {k_optimal} has :: \\n')\n",
    "check_model_metrices(y_test, knn_y_pred)"
   ]
  },
  {
   "cell_type": "markdown",
   "id": "7d139613-84d7-4a06-a8a2-f3efee9d6321",
   "metadata": {},
   "source": [
    "**kNN classifier has predicted with an accuracy of 97.7% with just 1 misclassification.**"
   ]
  },
  {
   "cell_type": "markdown",
   "id": "80286bfc-a7a3-4f51-8409-6b01cfcc1c67",
   "metadata": {},
   "source": [
    "#### Model 3: SVM with multi-class\n",
    "***"
   ]
  },
  {
   "cell_type": "code",
   "execution_count": 22,
   "id": "4b4d1f09-f03c-4924-99ff-d5c28cfa89c4",
   "metadata": {},
   "outputs": [],
   "source": [
    "from sklearn.svm import SVC\n",
    "linear = SVC(kernel='linear', decision_function_shape='ovo') # decision_function_shape is set to One-vs_One for multi-class\n",
    "linear.fit(X_train, y_train)\n",
    "linear_pred = linear.predict(X_test)"
   ]
  },
  {
   "cell_type": "code",
   "execution_count": 23,
   "id": "eb8424fa-a867-4fd4-aaea-4663251e6055",
   "metadata": {},
   "outputs": [
    {
     "name": "stdout",
     "output_type": "stream",
     "text": [
      "Model Accuracy =  1.0\n",
      "Model Precision =  1.0\n",
      "Model Recall =  1.0\n",
      "Model F1 Score =  1.0\n",
      "Confusion Matrix = \n",
      " [[19  0  0]\n",
      " [ 0 13  0]\n",
      " [ 0  0 13]]\n"
     ]
    }
   ],
   "source": [
    "check_model_metrices(y_test, linear_pred)"
   ]
  },
  {
   "cell_type": "markdown",
   "id": "06dc9f79-a482-4749-804e-19f60bb2b4b5",
   "metadata": {},
   "source": [
    "**Perfect Model**"
   ]
  },
  {
   "cell_type": "code",
   "execution_count": 24,
   "id": "cdc55ec5-4e1d-45aa-9e27-2eaf55b1ea87",
   "metadata": {},
   "outputs": [],
   "source": [
    "rbf = SVC(kernel='rbf', decision_function_shape='ovo') # decision_function_shape is set to One-vs_One for multi-class\n",
    "rbf.fit(X_train, y_train)\n",
    "rbf_pred = rbf.predict(X_test)"
   ]
  },
  {
   "cell_type": "code",
   "execution_count": 25,
   "id": "28e09aaa-440a-47fe-a923-959412e84d9f",
   "metadata": {},
   "outputs": [
    {
     "name": "stdout",
     "output_type": "stream",
     "text": [
      "Model Accuracy =  0.9777777777777777\n",
      "Model Precision =  0.9777777777777777\n",
      "Model Recall =  0.9777777777777777\n",
      "Model F1 Score =  0.9777777777777777\n",
      "Confusion Matrix = \n",
      " [[18  1  0]\n",
      " [ 0 13  0]\n",
      " [ 0  0 13]]\n"
     ]
    }
   ],
   "source": [
    "check_model_metrices(y_test, rbf_pred)"
   ]
  },
  {
   "cell_type": "code",
   "execution_count": 26,
   "id": "1728b79d-dde4-4df3-90cd-75409c3e904a",
   "metadata": {},
   "outputs": [],
   "source": [
    "poly = SVC(kernel='poly', degree = 3, decision_function_shape='ovo') # decision_function_shape is set to One-vs_One for multi-class\n",
    "poly.fit(X_train, y_train)\n",
    "poly_pred = poly.predict(X_test)"
   ]
  },
  {
   "cell_type": "code",
   "execution_count": 27,
   "id": "b8d28ef0-d2de-46d8-a0c8-e63e66644a19",
   "metadata": {},
   "outputs": [
    {
     "name": "stdout",
     "output_type": "stream",
     "text": [
      "Model Accuracy =  0.9777777777777777\n",
      "Model Precision =  0.9777777777777777\n",
      "Model Recall =  0.9777777777777777\n",
      "Model F1 Score =  0.9777777777777777\n",
      "Confusion Matrix = \n",
      " [[19  0  0]\n",
      " [ 0 12  1]\n",
      " [ 0  0 13]]\n"
     ]
    }
   ],
   "source": [
    "check_model_metrices(y_test, poly_pred)"
   ]
  },
  {
   "cell_type": "markdown",
   "id": "e75957cc-9f17-411e-a598-2aefc9b7d5c9",
   "metadata": {},
   "source": [
    "**SVC linear has predicted with an accuracy of 100% and other (poly, rbf) with just 1 misclassification.**"
   ]
  },
  {
   "cell_type": "markdown",
   "id": "a3599203-cda7-4ea4-9195-4e0ac23ec9b3",
   "metadata": {},
   "source": [
    "#### Model 4: Decision Trees\n",
    "***"
   ]
  },
  {
   "cell_type": "code",
   "execution_count": 28,
   "id": "ee5f647b-b8f2-42b9-aeb0-8f9a6dbd9f47",
   "metadata": {},
   "outputs": [],
   "source": [
    "from sklearn.tree import DecisionTreeClassifier\n",
    "dt_model = DecisionTreeClassifier()\n",
    "dt_model.fit(X_train, y_train)\n",
    "dt_pred = dt_model.predict(X_test)"
   ]
  },
  {
   "cell_type": "code",
   "execution_count": 29,
   "id": "28bf58bf-dcd3-487a-ab88-74f6fab10fc2",
   "metadata": {},
   "outputs": [
    {
     "name": "stdout",
     "output_type": "stream",
     "text": [
      "Model Accuracy =  1.0\n",
      "Model Precision =  1.0\n",
      "Model Recall =  1.0\n",
      "Model F1 Score =  1.0\n",
      "Confusion Matrix = \n",
      " [[19  0  0]\n",
      " [ 0 13  0]\n",
      " [ 0  0 13]]\n"
     ]
    }
   ],
   "source": [
    "check_model_metrices(y_test, dt_pred)"
   ]
  },
  {
   "cell_type": "markdown",
   "id": "2c17a499-a436-48be-82c2-85f3de72188d",
   "metadata": {},
   "source": [
    "**Perfect Model**"
   ]
  },
  {
   "cell_type": "markdown",
   "id": "f2a1489b-36a3-41de-ad87-9faf9c1b363e",
   "metadata": {},
   "source": [
    "**Decision Tree has predicted with an accuracy of 100%**"
   ]
  },
  {
   "cell_type": "markdown",
   "id": "5028f0fc-ee54-445b-8ff2-d532cb0edc84",
   "metadata": {},
   "source": [
    "#### Model 5: Random Forest\n",
    "***"
   ]
  },
  {
   "cell_type": "code",
   "execution_count": 30,
   "id": "8ebce3a4-708f-4f0e-ac56-a5f2b3cd68d0",
   "metadata": {},
   "outputs": [],
   "source": [
    "from sklearn.ensemble import RandomForestClassifier\n",
    "rf = RandomForestClassifier()\n",
    "rf.fit(X_train, y_train)\n",
    "rf_pred = rf.predict(X_test)"
   ]
  },
  {
   "cell_type": "code",
   "execution_count": 31,
   "id": "8069f5ac-abeb-4c94-87b5-8ecf8c1a6b00",
   "metadata": {},
   "outputs": [
    {
     "name": "stdout",
     "output_type": "stream",
     "text": [
      "Model Accuracy =  1.0\n",
      "Model Precision =  1.0\n",
      "Model Recall =  1.0\n",
      "Model F1 Score =  1.0\n",
      "Confusion Matrix = \n",
      " [[19  0  0]\n",
      " [ 0 13  0]\n",
      " [ 0  0 13]]\n"
     ]
    }
   ],
   "source": [
    "check_model_metrices(y_test, rf_pred)"
   ]
  },
  {
   "cell_type": "markdown",
   "id": "6ee742fc-5507-4a42-a70b-0f6649ec3fd1",
   "metadata": {},
   "source": [
    "**Perfect Model**"
   ]
  },
  {
   "cell_type": "markdown",
   "id": "8d2cc041-661a-42a4-8705-17b088ca4fe1",
   "metadata": {},
   "source": [
    "**Random Forest has predicted with an accuracy of 100%**\n",
    "***"
   ]
  },
  {
   "cell_type": "markdown",
   "id": "ac503c07-1d25-44de-855d-665b776eabb2",
   "metadata": {},
   "source": [
    "## <u>Final Verdict</u>\n",
    "The best performing models are:<br>\n",
    "1. Multi-Class SVM with linear kernal<br>\n",
    "2. Decision Tree<br>\n",
    "3. Random Forest<br>\n",
    "All the above 3 alogorithms scored perfect scores in all 4 tests\n",
    "***"
   ]
  }
 ],
 "metadata": {
  "kernelspec": {
   "display_name": "Python (ICTK)",
   "language": "python",
   "name": "ictk"
  },
  "language_info": {
   "codemirror_mode": {
    "name": "ipython",
    "version": 3
   },
   "file_extension": ".py",
   "mimetype": "text/x-python",
   "name": "python",
   "nbconvert_exporter": "python",
   "pygments_lexer": "ipython3",
   "version": "3.8.12"
  }
 },
 "nbformat": 4,
 "nbformat_minor": 5
}
