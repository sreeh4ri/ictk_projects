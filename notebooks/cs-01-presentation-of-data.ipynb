{
 "cells": [
  {
   "cell_type": "markdown",
   "id": "b2c2e87e",
   "metadata": {},
   "source": [
    "# Case Study :: Presentation of Data\n",
    "<em>Sreehari P S</em></br><b>Norka B5</b>"
   ]
  },
  {
   "cell_type": "code",
   "execution_count": 1,
   "id": "9dc132ff",
   "metadata": {},
   "outputs": [],
   "source": [
    "#Initial imports\n",
    "#import numpy as np\n",
    "import pandas as pd\n",
    "import matplotlib.pyplot as plt\n",
    "import seaborn as sns"
   ]
  },
  {
   "cell_type": "markdown",
   "id": "06b355e7",
   "metadata": {},
   "source": [
    "### Q1 :: Read the dataset to the python environment."
   ]
  },
  {
   "cell_type": "code",
   "execution_count": 2,
   "id": "3115f443",
   "metadata": {},
   "outputs": [
    {
     "data": {
      "text/plain": [
       "<bound method NDFrame.head of          Make        Model    Nickname Car Gender Buyer Gender  Buyer Age  \\\n",
       "0      Suzuki       Vitara  Philippine     Female       Female         51   \n",
       "1       Honda        S2000      Henrik       Male         Male         30   \n",
       "2         BMW           Z4      Lebbie       Male       Female         54   \n",
       "3      Toyota       Tacoma    Jefferey     Female         Male         68   \n",
       "4        Ford      Festiva     Glendon     Female         Male         70   \n",
       "...       ...          ...         ...        ...          ...        ...   \n",
       "9995    Mazda      Tribute      Cooper       Male         Male         44   \n",
       "9996      GMC  Sierra 2500         Dud       Male         Male         40   \n",
       "9997  Mercury      Mariner     Chariot       Male         Male         37   \n",
       "9998   Daewoo      Leganza       Dynah     Female       Female         21   \n",
       "9999   Toyota      Sequoia    Zedekiah     Female         Male         21   \n",
       "\n",
       "           Buzzword      Country             City  Dealer Latitude  \\\n",
       "0     User-friendly      Belgium        Antwerpen        51.247239   \n",
       "1         analyzing        China            Jinhu        33.025433   \n",
       "2          software        China             Gemo        30.916207   \n",
       "3        monitoring     Portugal  Queluz de Baixo        38.745168   \n",
       "4          Sharable       Latvia         Jaunpils        56.729980   \n",
       "...             ...          ...              ...              ...   \n",
       "9995       hardware     Pakistan  Chishtiān Mandi        29.919386   \n",
       "9996       Enhanced   Costa Rica          Ángeles        10.075000   \n",
       "9997     monitoring       Poland        Dąbrowice        52.311923   \n",
       "9998       cohesive  Philippines         Villasis        15.901640   \n",
       "9999      analyzing  Philippines            Basud        14.048167   \n",
       "\n",
       "      Dealer Longitude    Color  New Car Purchase Date  Sale Price  Discount  \\\n",
       "0             4.440346   Yellow    False    19/07/2009    54806.14    0.2467   \n",
       "1           119.020584  Crimson    False    26/10/2015    51826.30    0.3147   \n",
       "2           121.677640    Khaki    False    28/03/2010    82929.14    0.5414   \n",
       "3            -9.267087     Puce    False    07/05/2008    56928.66    0.0850   \n",
       "4            23.016588   Yellow    False    01/06/2008    77201.26    0.1642   \n",
       "...                ...      ...      ...           ...         ...       ...   \n",
       "9995         73.074787     Pink    False    05/01/2020    58580.65    0.1611   \n",
       "9996        -84.241523     Puce    False    28/12/2005    75229.74    0.2691   \n",
       "9997         19.084965     Blue    False    08/03/2013    34755.44    0.2493   \n",
       "9998        120.587828     Teal     True    21/02/2008    98725.42    0.4654   \n",
       "9999        122.955697     Pink    False    16/12/2017    96769.78    0.5446   \n",
       "\n",
       "      Resell Price  5-yr Depreciation  Top Speed  0-60 Time  \n",
       "0         33858.32               0.13      200.9       11.5  \n",
       "1          2989.28               0.02      158.5        8.8  \n",
       "2         35049.16               0.24      149.5       14.4  \n",
       "3          8236.15               0.20      153.3       11.5  \n",
       "4         32765.76               0.18      122.0       14.9  \n",
       "...            ...                ...        ...        ...  \n",
       "9995      42640.82               0.14      245.8        8.0  \n",
       "9996      21115.58               0.11      147.4       12.3  \n",
       "9997       2731.25               0.12      198.1       11.8  \n",
       "9998      18718.58               0.04      206.7       12.2  \n",
       "9999       4545.95               0.07      242.1        3.2  \n",
       "\n",
       "[10000 rows x 20 columns]>"
      ]
     },
     "metadata": {},
     "output_type": "display_data"
    }
   ],
   "source": [
    "car_data = pd.read_csv('./datasets/cars_data.csv')\n",
    "display(car_data.head)"
   ]
  },
  {
   "cell_type": "markdown",
   "id": "96c420ef",
   "metadata": {},
   "source": [
    "### Q2 :: Check for the null values present in the dataset."
   ]
  },
  {
   "cell_type": "code",
   "execution_count": 3,
   "id": "e87efcad",
   "metadata": {},
   "outputs": [
    {
     "name": "stdout",
     "output_type": "stream",
     "text": [
      "No null values are present in dataset. Good to proceed further.\n"
     ]
    }
   ],
   "source": [
    "if ~(car_data.isnull().values.any()):\n",
    "    print('No null values are present in dataset. Good to proceed further.')\n",
    "else :\n",
    "    car_nulls = car_data.isnull().sum();\n",
    "    print(f'!! Action needed. Null values present at following location :: \\n {car_nulls[car_nulls>0]}');"
   ]
  },
  {
   "cell_type": "markdown",
   "id": "666db465",
   "metadata": {},
   "source": [
    "### Q3 :: Plot a bar graph of male vs female buyers participated in the sales."
   ]
  },
  {
   "cell_type": "code",
   "execution_count": 4,
   "id": "af702127",
   "metadata": {},
   "outputs": [
    {
     "data": {
      "image/png": "[encoded data removed]",
      "text/plain": [
       "<Figure size 432x288 with 1 Axes>"
      ]
     },
     "metadata": {
      "needs_background": "light"
     },
     "output_type": "display_data"
    }
   ],
   "source": [
    "plt.title('Male vs Female buyers participated in sales', fontsize = 15, fontweight = 'bold', pad= 35)\n",
    "plt.xlabel('Gender')\n",
    "sns.countplot(y= 'Buyer Gender',data = car_data, )\n",
    "plt.grid(True)"
   ]
  },
  {
   "cell_type": "markdown",
   "id": "b896e47c",
   "metadata": {},
   "source": [
    "From the graph it can be observed that female buyers are more when compared to male members"
   ]
  },
  {
   "cell_type": "markdown",
   "id": "d094ca9f",
   "metadata": {},
   "source": [
    "### Q4 :: Find the top 5 cars based on their sales price."
   ]
  },
  {
   "cell_type": "code",
   "execution_count": 5,
   "id": "0d301578",
   "metadata": {},
   "outputs": [
    {
     "name": "stdout",
     "output_type": "stream",
     "text": [
      "Top 5 cars based on sales\n"
     ]
    },
    {
     "data": {
      "text/html": [
       "<div>\n",
       "<style scoped>\n",
       "    .dataframe tbody tr th:only-of-type {\n",
       "        vertical-align: middle;\n",
       "    }\n",
       "\n",
       "    .dataframe tbody tr th {\n",
       "        vertical-align: top;\n",
       "    }\n",
       "\n",
       "    .dataframe thead th {\n",
       "        text-align: right;\n",
       "    }\n",
       "</style>\n",
       "<table border=\"1\" class=\"dataframe\">\n",
       "  <thead>\n",
       "    <tr style=\"text-align: right;\">\n",
       "      <th></th>\n",
       "      <th>Make</th>\n",
       "      <th>Model</th>\n",
       "      <th>Sale Price</th>\n",
       "    </tr>\n",
       "  </thead>\n",
       "  <tbody>\n",
       "    <tr>\n",
       "      <th>5984</th>\n",
       "      <td>Volkswagen</td>\n",
       "      <td>Jetta III</td>\n",
       "      <td>99997.65</td>\n",
       "    </tr>\n",
       "    <tr>\n",
       "      <th>1270</th>\n",
       "      <td>Audi</td>\n",
       "      <td>A6</td>\n",
       "      <td>99991.91</td>\n",
       "    </tr>\n",
       "    <tr>\n",
       "      <th>3460</th>\n",
       "      <td>Lexus</td>\n",
       "      <td>LX</td>\n",
       "      <td>99983.38</td>\n",
       "    </tr>\n",
       "    <tr>\n",
       "      <th>9032</th>\n",
       "      <td>Mazda</td>\n",
       "      <td>MX-6</td>\n",
       "      <td>99978.17</td>\n",
       "    </tr>\n",
       "    <tr>\n",
       "      <th>302</th>\n",
       "      <td>Lexus</td>\n",
       "      <td>ES</td>\n",
       "      <td>99973.44</td>\n",
       "    </tr>\n",
       "  </tbody>\n",
       "</table>\n",
       "</div>"
      ],
      "text/plain": [
       "            Make      Model  Sale Price\n",
       "5984  Volkswagen  Jetta III    99997.65\n",
       "1270        Audi         A6    99991.91\n",
       "3460       Lexus         LX    99983.38\n",
       "9032       Mazda       MX-6    99978.17\n",
       "302        Lexus         ES    99973.44"
      ]
     },
     "metadata": {},
     "output_type": "display_data"
    }
   ],
   "source": [
    "print('Top 5 cars based on sales')\n",
    "display(car_data.nlargest(5, 'Sale Price')[['Make','Model' ,'Sale Price']])"
   ]
  },
  {
   "cell_type": "markdown",
   "id": "6b830be4",
   "metadata": {},
   "source": [
    "### Q5 :: Find the least 5 cars based on their Resell price."
   ]
  },
  {
   "cell_type": "code",
   "execution_count": 6,
   "id": "7dfcec30",
   "metadata": {},
   "outputs": [
    {
     "name": "stdout",
     "output_type": "stream",
     "text": [
      "Least 5 valued cars\n"
     ]
    },
    {
     "data": {
      "text/html": [
       "<div>\n",
       "<style scoped>\n",
       "    .dataframe tbody tr th:only-of-type {\n",
       "        vertical-align: middle;\n",
       "    }\n",
       "\n",
       "    .dataframe tbody tr th {\n",
       "        vertical-align: top;\n",
       "    }\n",
       "\n",
       "    .dataframe thead th {\n",
       "        text-align: right;\n",
       "    }\n",
       "</style>\n",
       "<table border=\"1\" class=\"dataframe\">\n",
       "  <thead>\n",
       "    <tr style=\"text-align: right;\">\n",
       "      <th></th>\n",
       "      <th>Make</th>\n",
       "      <th>Model</th>\n",
       "      <th>Resell Price</th>\n",
       "    </tr>\n",
       "  </thead>\n",
       "  <tbody>\n",
       "    <tr>\n",
       "      <th>2446</th>\n",
       "      <td>Chevrolet</td>\n",
       "      <td>1500</td>\n",
       "      <td>2000.84</td>\n",
       "    </tr>\n",
       "    <tr>\n",
       "      <th>4933</th>\n",
       "      <td>GMC</td>\n",
       "      <td>Savana 1500</td>\n",
       "      <td>2005.44</td>\n",
       "    </tr>\n",
       "    <tr>\n",
       "      <th>566</th>\n",
       "      <td>Jaguar</td>\n",
       "      <td>XF</td>\n",
       "      <td>2014.09</td>\n",
       "    </tr>\n",
       "    <tr>\n",
       "      <th>2538</th>\n",
       "      <td>Mitsubishi</td>\n",
       "      <td>3000GT</td>\n",
       "      <td>2017.24</td>\n",
       "    </tr>\n",
       "    <tr>\n",
       "      <th>5869</th>\n",
       "      <td>Infiniti</td>\n",
       "      <td>G37</td>\n",
       "      <td>2017.83</td>\n",
       "    </tr>\n",
       "  </tbody>\n",
       "</table>\n",
       "</div>"
      ],
      "text/plain": [
       "            Make        Model  Resell Price\n",
       "2446   Chevrolet         1500       2000.84\n",
       "4933         GMC  Savana 1500       2005.44\n",
       "566       Jaguar           XF       2014.09\n",
       "2538  Mitsubishi       3000GT       2017.24\n",
       "5869    Infiniti          G37       2017.83"
      ]
     },
     "metadata": {},
     "output_type": "display_data"
    }
   ],
   "source": [
    "print('Least 5 valued cars')\n",
    "display(car_data.nsmallest(5, 'Resell Price')[['Make','Model' ,'Resell Price']])"
   ]
  }
 ],
 "metadata": {
  "kernelspec": {
   "display_name": "Python (ICTK)",
   "language": "python",
   "name": "ictk"
  },
  "language_info": {
   "codemirror_mode": {
    "name": "ipython",
    "version": 3
   },
   "file_extension": ".py",
   "mimetype": "text/x-python",
   "name": "python",
   "nbconvert_exporter": "python",
   "pygments_lexer": "ipython3",
   "version": "3.8.12"
  }
 },
 "nbformat": 4,
 "nbformat_minor": 5
}
