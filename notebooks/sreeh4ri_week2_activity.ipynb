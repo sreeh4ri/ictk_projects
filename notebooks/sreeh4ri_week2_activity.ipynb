{
  "nbformat": 4,
  "nbformat_minor": 0,
  "metadata": {
    "kernelspec": {
      "display_name": "Python 3",
      "language": "python",
      "name": "python3"
    },
    "language_info": {
      "codemirror_mode": {
        "name": "ipython",
        "version": 3
      },
      "file_extension": ".py",
      "mimetype": "text/x-python",
      "name": "python",
      "nbconvert_exporter": "python",
      "pygments_lexer": "ipython3",
      "version": "3.7.6"
    },
    "colab": {
      "name": "sreehari_ps_Q&A_activity_week_1.ipynb",
      "provenance": [],
      "collapsed_sections": []
    }
  },
  "cells": [
    {
      "cell_type": "markdown",
      "metadata": {
        "id": "4z_Z-K1tlrS7"
      },
      "source": [
        "## 1. Complete the following code to find the area of an equilateral triangle. Output should be as displayed"
      ]
    },
    {
      "cell_type": "code",
      "metadata": {
        "id": "rP2qFD_SlrS_",
        "colab": {
          "base_uri": "https://localhost:8080/"
        },
        "outputId": "c85e8a36-98c8-49ba-8813-61f170303299"
      },
      "source": [
        "import math\n",
        "side = float(input(\"Enter the side of the equilateral triangle: \"))\n",
        "area = ((math.sqrt(3))/4)*pow(side,2)\n",
        "print(f'Area of triangle with side = {side} is {area}')\n"
      ],
      "execution_count": 81,
      "outputs": [
        {
          "output_type": "stream",
          "name": "stdout",
          "text": [
            "Enter the side of the equilateral triangle: 1.5\n",
            "Area of triangle with side = 1.5 is 0.9742785792574934\n"
          ]
        }
      ]
    },
    {
      "cell_type": "markdown",
      "metadata": {
        "id": "TjVKjIfclrTB"
      },
      "source": [
        "## 2. Write a program to count the number of each characters in a string"
      ]
    },
    {
      "cell_type": "code",
      "metadata": {
        "id": "JY5seVUQlrTC",
        "colab": {
          "base_uri": "https://localhost:8080/"
        },
        "outputId": "6bed5ccd-6dba-4b21-f143-0811663b2131"
      },
      "source": [
        "string = str(input(\"Enter a string to find its length \"))\n",
        "count = {}\n",
        "for i in string:\n",
        "  if i in count:\n",
        "    count[i]+=1\n",
        "  else:\n",
        "    count[i] = 1\n",
        "print(f'Count the number of each characters in {string} is \\n {count}')\n"
      ],
      "execution_count": 80,
      "outputs": [
        {
          "output_type": "stream",
          "name": "stdout",
          "text": [
            "Enter a string to find its length this is cool and this is fun\n",
            "Count the number of each characters in this is cool and this is fun is \n",
            " {'t': 2, 'h': 2, 'i': 4, 's': 4, ' ': 6, 'c': 1, 'o': 2, 'l': 1, 'a': 1, 'n': 2, 'd': 1, 'f': 1, 'u': 1}\n"
          ]
        }
      ]
    },
    {
      "cell_type": "markdown",
      "metadata": {
        "id": "l3LCULfklrTD"
      },
      "source": [
        "## Write a program to find the area and perimeter of a rectangle using functions"
      ]
    },
    {
      "cell_type": "code",
      "metadata": {
        "id": "8haQD8edlrTD",
        "colab": {
          "base_uri": "https://localhost:8080/"
        },
        "outputId": "035145fc-2a11-455f-beb5-0a59c69b180f"
      },
      "source": [
        "def cal_property(l, b, prop):\n",
        "  if prop == 'area':\n",
        "    return l*b\n",
        "  elif prop == 'perimeter':\n",
        "    return 2*(l+b)\n",
        "  else:\n",
        "    return 'invalid'\n",
        "\n",
        "length = float(input('Enter length of rectangle : '))\n",
        "breath = float(input('Enter breath of rectangle : '))\n",
        "prop = str(input('Enter property to be displayed (area/perimeter): '))\n",
        "print(f'{prop} of rectangle is {cal_property(length, breath, prop.lower())}')"
      ],
      "execution_count": 14,
      "outputs": [
        {
          "output_type": "stream",
          "name": "stdout",
          "text": [
            "Enter length of rectangle : 3\n",
            "Enter breath of rectangle : 6\n",
            "Enter property to be displayed (area/perimeter): perimeter\n",
            "perimeter of rectangle is 18.0\n"
          ]
        }
      ]
    },
    {
      "cell_type": "markdown",
      "metadata": {
        "id": "JHK4ZdsflrTE"
      },
      "source": [
        "## 4. Write a program to print the fibonacci series till a specified number"
      ]
    },
    {
      "cell_type": "code",
      "metadata": {
        "id": "LyBEj-4SlrTE",
        "colab": {
          "base_uri": "https://localhost:8080/"
        },
        "outputId": "f1bcbe91-7876-447f-9fbf-5e8d6177f375"
      },
      "source": [
        "number = int(input('Enter a number :'))\n",
        "a, b = 0,1\n",
        "if(number == a):\n",
        "  print(a, end = \" \")\n",
        "else:\n",
        "  print(a,b,end=\" \")\n",
        "while True:\n",
        "    sum = a+b\n",
        "    if(sum>number):\n",
        "      break\n",
        "    else:\n",
        "      a, b = b, sum\n",
        "      print(sum, end = \" \")"
      ],
      "execution_count": 103,
      "outputs": [
        {
          "output_type": "stream",
          "name": "stdout",
          "text": [
            "Enter a number :20\n",
            "0 1 1 2 3 5 8 13 "
          ]
        }
      ]
    },
    {
      "cell_type": "markdown",
      "metadata": {
        "id": "u4uBUcQKlrTE"
      },
      "source": [
        "## 5. Complete the following code to find the minimum of 3 number using cinditional statements. Output should be as displayed"
      ]
    },
    {
      "cell_type": "code",
      "metadata": {
        "colab": {
          "base_uri": "https://localhost:8080/"
        },
        "id": "FTqqtb1yMB84",
        "outputId": "46472034-aa62-4032-bbd6-9cb7c5aa93c6"
      },
      "source": [
        "a,b,c = input(\"Enter three numbers followed by space : \").split()\n",
        "a = int(a) # convering string to int, otherwise len() is considered in condition\n",
        "b = int(b)\n",
        "c = int(c)\n",
        "print(\"First number :\",a)\n",
        "print(\"Second number :\",b)\n",
        "print(\"Third number :\",c)\n",
        "if a==b==c:\n",
        "    print(\"Entered numbers are equal!!!\")\n",
        "elif a<b and a<c:\n",
        "    print(a,\" is smallest\")\n",
        "elif b<a and b<c:\n",
        "    print(b,\" is smallest\")\n",
        "else:\n",
        "    print(c,\" is smallest\")"
      ],
      "execution_count": 71,
      "outputs": [
        {
          "output_type": "stream",
          "name": "stdout",
          "text": [
            "Enter three numbers followed by space : 11 -11 -25698\n",
            "First number : 11\n",
            "Second number : -11\n",
            "Third number : -25698\n",
            "-25698  is smallest\n"
          ]
        }
      ]
    },
    {
      "cell_type": "markdown",
      "metadata": {
        "id": "aR_CnToWlrTG"
      },
      "source": [
        "## 6. Write a program to print star pyramind. The number of rows should be taken as input from the user"
      ]
    },
    {
      "cell_type": "code",
      "metadata": {
        "id": "M37A-buplrTG",
        "colab": {
          "base_uri": "https://localhost:8080/"
        },
        "outputId": "355c41a4-340a-4f98-d417-4bb501f05bbf"
      },
      "source": [
        "row = int(input('Enter pyramid rows : '))\n",
        "rowOdd = row*2 + 1 # making row odd for the pyramid to be beautiful with spaces\n",
        "for i in range(0,row):\n",
        "  space = rowOdd//2-i # space for pyramid\n",
        "  print(' '*space + '*'*(i*2+1))"
      ],
      "execution_count": 46,
      "outputs": [
        {
          "output_type": "stream",
          "name": "stdout",
          "text": [
            "Enter pyramid rows : 20\n",
            "                    *\n",
            "                   ***\n",
            "                  *****\n",
            "                 *******\n",
            "                *********\n",
            "               ***********\n",
            "              *************\n",
            "             ***************\n",
            "            *****************\n",
            "           *******************\n",
            "          *********************\n",
            "         ***********************\n",
            "        *************************\n",
            "       ***************************\n",
            "      *****************************\n",
            "     *******************************\n",
            "    *********************************\n",
            "   ***********************************\n",
            "  *************************************\n",
            " ***************************************\n"
          ]
        }
      ]
    },
    {
      "cell_type": "markdown",
      "metadata": {
        "id": "tlY6aFWBlrTH"
      },
      "source": [
        "## 7. Complete the following code to convert hour into seconds. Output should be as displayed"
      ]
    },
    {
      "cell_type": "code",
      "metadata": {
        "id": "YOZQFk7FlrTH",
        "colab": {
          "base_uri": "https://localhost:8080/"
        },
        "outputId": "0cf69225-2951-4508-a660-8315f65e49b5"
      },
      "source": [
        "def to_seconds(t):\n",
        "    t = t*3600\n",
        "    return t\n",
        "time_in_hours = int(input('Enter time in Hours :'))\n",
        "print(time_in_hours ,\" Hour is equal to\" ,to_seconds(time_in_hours) ,\" Seconds\")"
      ],
      "execution_count": 15,
      "outputs": [
        {
          "output_type": "stream",
          "name": "stdout",
          "text": [
            "Enter time in Hours :12\n",
            "12  Hour is equal to 43200  Seconds\n"
          ]
        }
      ]
    },
    {
      "cell_type": "markdown",
      "metadata": {
        "id": "CnYorNiLlrTI"
      },
      "source": [
        "## 8. Write a program to print multiplication table as below"
      ]
    },
    {
      "cell_type": "code",
      "metadata": {
        "id": "dPQqDPuDlrTI",
        "colab": {
          "base_uri": "https://localhost:8080/"
        },
        "outputId": "09d59759-3dea-4696-c01a-f731c6e8c00b"
      },
      "source": [
        "number = int(input('Enter a number to find the multiplication table: '))\n",
        "for i in range(1,11):\n",
        "  print(f'{i} x {number} = {i*number}')"
      ],
      "execution_count": 16,
      "outputs": [
        {
          "output_type": "stream",
          "name": "stdout",
          "text": [
            "Enter a number to find the multiplication table: 4\n",
            "1 x 4 = 4\n",
            "2 x 4 = 8\n",
            "3 x 4 = 12\n",
            "4 x 4 = 16\n",
            "5 x 4 = 20\n",
            "6 x 4 = 24\n",
            "7 x 4 = 28\n",
            "8 x 4 = 32\n",
            "9 x 4 = 36\n",
            "10 x 4 = 40\n"
          ]
        }
      ]
    },
    {
      "cell_type": "markdown",
      "metadata": {
        "id": "Fiaez8iblrTI"
      },
      "source": [
        "## 9. Write a program to take your 5 favorite food as list and print each as 'I like Biriyani'"
      ]
    },
    {
      "cell_type": "code",
      "metadata": {
        "id": "39W1zFX7lrTJ",
        "colab": {
          "base_uri": "https://localhost:8080/"
        },
        "outputId": "3cd114a3-da6a-450a-e96b-a4fe339e0b75"
      },
      "source": [
        "foods = str(input('Enter your favorite food list followed by space : ')).split()\n",
        "for food in foods[0:5]: # 5 favorite foods\n",
        "  print(f'I like  {food}')"
      ],
      "execution_count": 61,
      "outputs": [
        {
          "output_type": "stream",
          "name": "stdout",
          "text": [
            "Enter your favorite food list followed by space : biriyani cream dosa idli ice choco\n",
            "I like  biriyani\n",
            "I like  cream\n",
            "I like  dosa\n",
            "I like  idli\n",
            "I like  ice\n"
          ]
        }
      ]
    },
    {
      "cell_type": "markdown",
      "metadata": {
        "id": "3vlcDNNEP7d_"
      },
      "source": [
        "## 10. Find error(s) in the following code(if any) and rewrite code.\n",
        "\n"
      ]
    },
    {
      "cell_type": "code",
      "metadata": {
        "id": "coREkcY3P9sG",
        "colab": {
          "base_uri": "https://localhost:8080/"
        },
        "outputId": "2c7bb6d5-06c0-4325-f667-e509815e8586"
      },
      "source": [
        "x= int(input(\"Enter value of x:\"))\n",
        "for y in range(0,10):\n",
        "     if x==y:\n",
        "          print(\"They are equal\")\n",
        "     else:\n",
        "         print( \"They are unequal\")"
      ],
      "execution_count": 27,
      "outputs": [
        {
          "output_type": "stream",
          "name": "stdout",
          "text": [
            "Enter value of x:5\n",
            "They are unequal\n",
            "They are unequal\n",
            "They are unequal\n",
            "They are unequal\n",
            "They are unequal\n",
            "They are equal\n",
            "They are unequal\n",
            "They are unequal\n",
            "They are unequal\n",
            "They are unequal\n"
          ]
        }
      ]
    }
  ]
}