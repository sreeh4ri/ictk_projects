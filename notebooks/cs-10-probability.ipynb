{
 "cells": [
  {
   "cell_type": "markdown",
   "id": "eb15d811-7272-47a7-9590-d79a3426e270",
   "metadata": {},
   "source": [
    "# Case study on Probability for Data Science\n",
    "**Sreehari P S**<br>\n",
    "*NORKA B5*\n",
    "***"
   ]
  },
  {
   "cell_type": "code",
   "execution_count": 1,
   "id": "75dc85e2-59e7-403a-8043-4fb5ee4c72ad",
   "metadata": {},
   "outputs": [],
   "source": [
    "import pandas as pd\n",
    "import numpy as np\n",
    "import matplotlib.pyplot as plt\n",
    "import seaborn as sns\n",
    "import warnings\n",
    "warnings.filterwarnings(\"ignore\")"
   ]
  },
  {
   "cell_type": "markdown",
   "id": "df32675f-42ac-4545-910c-fe31227abba0",
   "metadata": {},
   "source": [
    "### Problem Statement:\n",
    "To make a suitable machine learning algorithm to predict if the mushroom is edible or poisonous (e or p) using the given dataset.(Along with other ML algorithms, Naïve Bayes’ Classifier should be applied). Also, if some data pre-processing is necessary do that as well.\n",
    "***"
   ]
  },
  {
   "cell_type": "code",
   "execution_count": 2,
   "id": "caecc81c-1e31-48e4-bbe4-a6dfce815825",
   "metadata": {},
   "outputs": [],
   "source": [
    "pd.set_option(\"display.max_columns\", None)"
   ]
  },
  {
   "cell_type": "code",
   "execution_count": 3,
   "id": "acd71275-b337-478f-8d64-fc3aa00b4b9f",
   "metadata": {},
   "outputs": [
    {
     "data": {
      "text/html": [
       "<div>\n",
       "<style scoped>\n",
       "    .dataframe tbody tr th:only-of-type {\n",
       "        vertical-align: middle;\n",
       "    }\n",
       "\n",
       "    .dataframe tbody tr th {\n",
       "        vertical-align: top;\n",
       "    }\n",
       "\n",
       "    .dataframe thead th {\n",
       "        text-align: right;\n",
       "    }\n",
       "</style>\n",
       "<table border=\"1\" class=\"dataframe\">\n",
       "  <thead>\n",
       "    <tr style=\"text-align: right;\">\n",
       "      <th></th>\n",
       "      <th>class</th>\n",
       "      <th>cap-shape</th>\n",
       "      <th>cap-surface</th>\n",
       "      <th>cap-color</th>\n",
       "      <th>bruises</th>\n",
       "      <th>odor</th>\n",
       "      <th>gill-attachment</th>\n",
       "      <th>gill-spacing</th>\n",
       "      <th>gill-size</th>\n",
       "      <th>gill-color</th>\n",
       "      <th>stalk-shape</th>\n",
       "      <th>stalk-root</th>\n",
       "      <th>stalk-surface-above-ring</th>\n",
       "      <th>stalk-surface-below-ring</th>\n",
       "      <th>stalk-color-above-ring</th>\n",
       "      <th>stalk-color-below-ring</th>\n",
       "      <th>veil-type</th>\n",
       "      <th>veil-color</th>\n",
       "      <th>ring-number</th>\n",
       "      <th>ring-type</th>\n",
       "      <th>spore-print-color</th>\n",
       "      <th>population</th>\n",
       "      <th>habitat</th>\n",
       "    </tr>\n",
       "  </thead>\n",
       "  <tbody>\n",
       "    <tr>\n",
       "      <th>0</th>\n",
       "      <td>p</td>\n",
       "      <td>x</td>\n",
       "      <td>s</td>\n",
       "      <td>n</td>\n",
       "      <td>t</td>\n",
       "      <td>p</td>\n",
       "      <td>f</td>\n",
       "      <td>c</td>\n",
       "      <td>n</td>\n",
       "      <td>k</td>\n",
       "      <td>e</td>\n",
       "      <td>e</td>\n",
       "      <td>s</td>\n",
       "      <td>s</td>\n",
       "      <td>w</td>\n",
       "      <td>w</td>\n",
       "      <td>p</td>\n",
       "      <td>w</td>\n",
       "      <td>o</td>\n",
       "      <td>p</td>\n",
       "      <td>k</td>\n",
       "      <td>s</td>\n",
       "      <td>u</td>\n",
       "    </tr>\n",
       "    <tr>\n",
       "      <th>1</th>\n",
       "      <td>e</td>\n",
       "      <td>x</td>\n",
       "      <td>s</td>\n",
       "      <td>y</td>\n",
       "      <td>t</td>\n",
       "      <td>a</td>\n",
       "      <td>f</td>\n",
       "      <td>c</td>\n",
       "      <td>b</td>\n",
       "      <td>k</td>\n",
       "      <td>e</td>\n",
       "      <td>c</td>\n",
       "      <td>s</td>\n",
       "      <td>s</td>\n",
       "      <td>w</td>\n",
       "      <td>w</td>\n",
       "      <td>p</td>\n",
       "      <td>w</td>\n",
       "      <td>o</td>\n",
       "      <td>p</td>\n",
       "      <td>n</td>\n",
       "      <td>n</td>\n",
       "      <td>g</td>\n",
       "    </tr>\n",
       "    <tr>\n",
       "      <th>2</th>\n",
       "      <td>e</td>\n",
       "      <td>b</td>\n",
       "      <td>s</td>\n",
       "      <td>w</td>\n",
       "      <td>t</td>\n",
       "      <td>l</td>\n",
       "      <td>f</td>\n",
       "      <td>c</td>\n",
       "      <td>b</td>\n",
       "      <td>n</td>\n",
       "      <td>e</td>\n",
       "      <td>c</td>\n",
       "      <td>s</td>\n",
       "      <td>s</td>\n",
       "      <td>w</td>\n",
       "      <td>w</td>\n",
       "      <td>p</td>\n",
       "      <td>w</td>\n",
       "      <td>o</td>\n",
       "      <td>p</td>\n",
       "      <td>n</td>\n",
       "      <td>n</td>\n",
       "      <td>m</td>\n",
       "    </tr>\n",
       "    <tr>\n",
       "      <th>3</th>\n",
       "      <td>p</td>\n",
       "      <td>x</td>\n",
       "      <td>y</td>\n",
       "      <td>w</td>\n",
       "      <td>t</td>\n",
       "      <td>p</td>\n",
       "      <td>f</td>\n",
       "      <td>c</td>\n",
       "      <td>n</td>\n",
       "      <td>n</td>\n",
       "      <td>e</td>\n",
       "      <td>e</td>\n",
       "      <td>s</td>\n",
       "      <td>s</td>\n",
       "      <td>w</td>\n",
       "      <td>w</td>\n",
       "      <td>p</td>\n",
       "      <td>w</td>\n",
       "      <td>o</td>\n",
       "      <td>p</td>\n",
       "      <td>k</td>\n",
       "      <td>s</td>\n",
       "      <td>u</td>\n",
       "    </tr>\n",
       "    <tr>\n",
       "      <th>4</th>\n",
       "      <td>e</td>\n",
       "      <td>x</td>\n",
       "      <td>s</td>\n",
       "      <td>g</td>\n",
       "      <td>f</td>\n",
       "      <td>n</td>\n",
       "      <td>f</td>\n",
       "      <td>w</td>\n",
       "      <td>b</td>\n",
       "      <td>k</td>\n",
       "      <td>t</td>\n",
       "      <td>e</td>\n",
       "      <td>s</td>\n",
       "      <td>s</td>\n",
       "      <td>w</td>\n",
       "      <td>w</td>\n",
       "      <td>p</td>\n",
       "      <td>w</td>\n",
       "      <td>o</td>\n",
       "      <td>e</td>\n",
       "      <td>n</td>\n",
       "      <td>a</td>\n",
       "      <td>g</td>\n",
       "    </tr>\n",
       "  </tbody>\n",
       "</table>\n",
       "</div>"
      ],
      "text/plain": [
       "  class cap-shape cap-surface cap-color bruises odor gill-attachment  \\\n",
       "0     p         x           s         n       t    p               f   \n",
       "1     e         x           s         y       t    a               f   \n",
       "2     e         b           s         w       t    l               f   \n",
       "3     p         x           y         w       t    p               f   \n",
       "4     e         x           s         g       f    n               f   \n",
       "\n",
       "  gill-spacing gill-size gill-color stalk-shape stalk-root  \\\n",
       "0            c         n          k           e          e   \n",
       "1            c         b          k           e          c   \n",
       "2            c         b          n           e          c   \n",
       "3            c         n          n           e          e   \n",
       "4            w         b          k           t          e   \n",
       "\n",
       "  stalk-surface-above-ring stalk-surface-below-ring stalk-color-above-ring  \\\n",
       "0                        s                        s                      w   \n",
       "1                        s                        s                      w   \n",
       "2                        s                        s                      w   \n",
       "3                        s                        s                      w   \n",
       "4                        s                        s                      w   \n",
       "\n",
       "  stalk-color-below-ring veil-type veil-color ring-number ring-type  \\\n",
       "0                      w         p          w           o         p   \n",
       "1                      w         p          w           o         p   \n",
       "2                      w         p          w           o         p   \n",
       "3                      w         p          w           o         p   \n",
       "4                      w         p          w           o         e   \n",
       "\n",
       "  spore-print-color population habitat  \n",
       "0                 k          s       u  \n",
       "1                 n          n       g  \n",
       "2                 n          n       m  \n",
       "3                 k          s       u  \n",
       "4                 n          a       g  "
      ]
     },
     "execution_count": 3,
     "metadata": {},
     "output_type": "execute_result"
    }
   ],
   "source": [
    "data = pd.read_csv(\"./datasets/mushrooms.csv\")\n",
    "data.head()"
   ]
  },
  {
   "cell_type": "code",
   "execution_count": 4,
   "id": "98f1a63d-a99b-4662-8fc3-1899a5fe75fd",
   "metadata": {},
   "outputs": [
    {
     "data": {
      "text/plain": [
       "(8124, 23)"
      ]
     },
     "execution_count": 4,
     "metadata": {},
     "output_type": "execute_result"
    }
   ],
   "source": [
    "data.shape"
   ]
  },
  {
   "cell_type": "markdown",
   "id": "db8f6b1e-5d20-45a4-9336-65165e11b334",
   "metadata": {},
   "source": [
    "There are 8124 rows and 23 columns in mushroom dataset"
   ]
  },
  {
   "cell_type": "code",
   "execution_count": 5,
   "id": "8c1d47f5-9bd6-4fe9-a285-b367f6a01210",
   "metadata": {},
   "outputs": [
    {
     "name": "stdout",
     "output_type": "stream",
     "text": [
      "<class 'pandas.core.frame.DataFrame'>\n",
      "RangeIndex: 8124 entries, 0 to 8123\n",
      "Data columns (total 23 columns):\n",
      " #   Column                    Non-Null Count  Dtype \n",
      "---  ------                    --------------  ----- \n",
      " 0   class                     8124 non-null   object\n",
      " 1   cap-shape                 8124 non-null   object\n",
      " 2   cap-surface               8124 non-null   object\n",
      " 3   cap-color                 8124 non-null   object\n",
      " 4   bruises                   8124 non-null   object\n",
      " 5   odor                      8124 non-null   object\n",
      " 6   gill-attachment           8124 non-null   object\n",
      " 7   gill-spacing              8124 non-null   object\n",
      " 8   gill-size                 8124 non-null   object\n",
      " 9   gill-color                8124 non-null   object\n",
      " 10  stalk-shape               8124 non-null   object\n",
      " 11  stalk-root                8124 non-null   object\n",
      " 12  stalk-surface-above-ring  8124 non-null   object\n",
      " 13  stalk-surface-below-ring  8124 non-null   object\n",
      " 14  stalk-color-above-ring    8124 non-null   object\n",
      " 15  stalk-color-below-ring    8124 non-null   object\n",
      " 16  veil-type                 8124 non-null   object\n",
      " 17  veil-color                8124 non-null   object\n",
      " 18  ring-number               8124 non-null   object\n",
      " 19  ring-type                 8124 non-null   object\n",
      " 20  spore-print-color         8124 non-null   object\n",
      " 21  population                8124 non-null   object\n",
      " 22  habitat                   8124 non-null   object\n",
      "dtypes: object(23)\n",
      "memory usage: 1.4+ MB\n"
     ]
    }
   ],
   "source": [
    "data.info()"
   ]
  },
  {
   "cell_type": "markdown",
   "id": "875625ed-c382-4a5c-b9ba-a38f31c3235b",
   "metadata": {},
   "source": [
    "All columns are of type \"Object\""
   ]
  },
  {
   "cell_type": "code",
   "execution_count": 6,
   "id": "f36df5de-f19c-459f-818f-1b6e4dbb6a48",
   "metadata": {},
   "outputs": [
    {
     "data": {
      "text/html": [
       "<div>\n",
       "<style scoped>\n",
       "    .dataframe tbody tr th:only-of-type {\n",
       "        vertical-align: middle;\n",
       "    }\n",
       "\n",
       "    .dataframe tbody tr th {\n",
       "        vertical-align: top;\n",
       "    }\n",
       "\n",
       "    .dataframe thead th {\n",
       "        text-align: right;\n",
       "    }\n",
       "</style>\n",
       "<table border=\"1\" class=\"dataframe\">\n",
       "  <thead>\n",
       "    <tr style=\"text-align: right;\">\n",
       "      <th></th>\n",
       "      <th>class</th>\n",
       "      <th>cap-shape</th>\n",
       "      <th>cap-surface</th>\n",
       "      <th>cap-color</th>\n",
       "      <th>bruises</th>\n",
       "      <th>odor</th>\n",
       "      <th>gill-attachment</th>\n",
       "      <th>gill-spacing</th>\n",
       "      <th>gill-size</th>\n",
       "      <th>gill-color</th>\n",
       "      <th>stalk-shape</th>\n",
       "      <th>stalk-root</th>\n",
       "      <th>stalk-surface-above-ring</th>\n",
       "      <th>stalk-surface-below-ring</th>\n",
       "      <th>stalk-color-above-ring</th>\n",
       "      <th>stalk-color-below-ring</th>\n",
       "      <th>veil-type</th>\n",
       "      <th>veil-color</th>\n",
       "      <th>ring-number</th>\n",
       "      <th>ring-type</th>\n",
       "      <th>spore-print-color</th>\n",
       "      <th>population</th>\n",
       "      <th>habitat</th>\n",
       "    </tr>\n",
       "  </thead>\n",
       "  <tbody>\n",
       "    <tr>\n",
       "      <th>count</th>\n",
       "      <td>8124</td>\n",
       "      <td>8124</td>\n",
       "      <td>8124</td>\n",
       "      <td>8124</td>\n",
       "      <td>8124</td>\n",
       "      <td>8124</td>\n",
       "      <td>8124</td>\n",
       "      <td>8124</td>\n",
       "      <td>8124</td>\n",
       "      <td>8124</td>\n",
       "      <td>8124</td>\n",
       "      <td>8124</td>\n",
       "      <td>8124</td>\n",
       "      <td>8124</td>\n",
       "      <td>8124</td>\n",
       "      <td>8124</td>\n",
       "      <td>8124</td>\n",
       "      <td>8124</td>\n",
       "      <td>8124</td>\n",
       "      <td>8124</td>\n",
       "      <td>8124</td>\n",
       "      <td>8124</td>\n",
       "      <td>8124</td>\n",
       "    </tr>\n",
       "    <tr>\n",
       "      <th>unique</th>\n",
       "      <td>2</td>\n",
       "      <td>6</td>\n",
       "      <td>4</td>\n",
       "      <td>10</td>\n",
       "      <td>2</td>\n",
       "      <td>9</td>\n",
       "      <td>2</td>\n",
       "      <td>2</td>\n",
       "      <td>2</td>\n",
       "      <td>12</td>\n",
       "      <td>2</td>\n",
       "      <td>5</td>\n",
       "      <td>4</td>\n",
       "      <td>4</td>\n",
       "      <td>9</td>\n",
       "      <td>9</td>\n",
       "      <td>1</td>\n",
       "      <td>4</td>\n",
       "      <td>3</td>\n",
       "      <td>5</td>\n",
       "      <td>9</td>\n",
       "      <td>6</td>\n",
       "      <td>7</td>\n",
       "    </tr>\n",
       "    <tr>\n",
       "      <th>top</th>\n",
       "      <td>e</td>\n",
       "      <td>x</td>\n",
       "      <td>y</td>\n",
       "      <td>n</td>\n",
       "      <td>f</td>\n",
       "      <td>n</td>\n",
       "      <td>f</td>\n",
       "      <td>c</td>\n",
       "      <td>b</td>\n",
       "      <td>b</td>\n",
       "      <td>t</td>\n",
       "      <td>b</td>\n",
       "      <td>s</td>\n",
       "      <td>s</td>\n",
       "      <td>w</td>\n",
       "      <td>w</td>\n",
       "      <td>p</td>\n",
       "      <td>w</td>\n",
       "      <td>o</td>\n",
       "      <td>p</td>\n",
       "      <td>w</td>\n",
       "      <td>v</td>\n",
       "      <td>d</td>\n",
       "    </tr>\n",
       "    <tr>\n",
       "      <th>freq</th>\n",
       "      <td>4208</td>\n",
       "      <td>3656</td>\n",
       "      <td>3244</td>\n",
       "      <td>2284</td>\n",
       "      <td>4748</td>\n",
       "      <td>3528</td>\n",
       "      <td>7914</td>\n",
       "      <td>6812</td>\n",
       "      <td>5612</td>\n",
       "      <td>1728</td>\n",
       "      <td>4608</td>\n",
       "      <td>3776</td>\n",
       "      <td>5176</td>\n",
       "      <td>4936</td>\n",
       "      <td>4464</td>\n",
       "      <td>4384</td>\n",
       "      <td>8124</td>\n",
       "      <td>7924</td>\n",
       "      <td>7488</td>\n",
       "      <td>3968</td>\n",
       "      <td>2388</td>\n",
       "      <td>4040</td>\n",
       "      <td>3148</td>\n",
       "    </tr>\n",
       "  </tbody>\n",
       "</table>\n",
       "</div>"
      ],
      "text/plain": [
       "       class cap-shape cap-surface cap-color bruises  odor gill-attachment  \\\n",
       "count   8124      8124        8124      8124    8124  8124            8124   \n",
       "unique     2         6           4        10       2     9               2   \n",
       "top        e         x           y         n       f     n               f   \n",
       "freq    4208      3656        3244      2284    4748  3528            7914   \n",
       "\n",
       "       gill-spacing gill-size gill-color stalk-shape stalk-root  \\\n",
       "count          8124      8124       8124        8124       8124   \n",
       "unique            2         2         12           2          5   \n",
       "top               c         b          b           t          b   \n",
       "freq           6812      5612       1728        4608       3776   \n",
       "\n",
       "       stalk-surface-above-ring stalk-surface-below-ring  \\\n",
       "count                      8124                     8124   \n",
       "unique                        4                        4   \n",
       "top                           s                        s   \n",
       "freq                       5176                     4936   \n",
       "\n",
       "       stalk-color-above-ring stalk-color-below-ring veil-type veil-color  \\\n",
       "count                    8124                   8124      8124       8124   \n",
       "unique                      9                      9         1          4   \n",
       "top                         w                      w         p          w   \n",
       "freq                     4464                   4384      8124       7924   \n",
       "\n",
       "       ring-number ring-type spore-print-color population habitat  \n",
       "count         8124      8124              8124       8124    8124  \n",
       "unique           3         5                 9          6       7  \n",
       "top              o         p                 w          v       d  \n",
       "freq          7488      3968              2388       4040    3148  "
      ]
     },
     "execution_count": 6,
     "metadata": {},
     "output_type": "execute_result"
    }
   ],
   "source": [
    "data.describe(include = \"object\")"
   ]
  },
  {
   "cell_type": "code",
   "execution_count": 7,
   "id": "49290b4b-dcef-45fc-be70-f017022a77e4",
   "metadata": {},
   "outputs": [
    {
     "data": {
      "text/plain": [
       "class                       0\n",
       "cap-shape                   0\n",
       "cap-surface                 0\n",
       "cap-color                   0\n",
       "bruises                     0\n",
       "odor                        0\n",
       "gill-attachment             0\n",
       "gill-spacing                0\n",
       "gill-size                   0\n",
       "gill-color                  0\n",
       "stalk-shape                 0\n",
       "stalk-root                  0\n",
       "stalk-surface-above-ring    0\n",
       "stalk-surface-below-ring    0\n",
       "stalk-color-above-ring      0\n",
       "stalk-color-below-ring      0\n",
       "veil-type                   0\n",
       "veil-color                  0\n",
       "ring-number                 0\n",
       "ring-type                   0\n",
       "spore-print-color           0\n",
       "population                  0\n",
       "habitat                     0\n",
       "dtype: int64"
      ]
     },
     "execution_count": 7,
     "metadata": {},
     "output_type": "execute_result"
    }
   ],
   "source": [
    "data.isna().sum()"
   ]
  },
  {
   "cell_type": "markdown",
   "id": "5fff61d7-46d8-4d7a-8fce-efc4fae28009",
   "metadata": {},
   "source": [
    "No Null values are present"
   ]
  },
  {
   "cell_type": "code",
   "execution_count": 8,
   "id": "36026c8a-f759-4db5-a357-b3e3bee3eb2e",
   "metadata": {},
   "outputs": [
    {
     "name": "stdout",
     "output_type": "stream",
     "text": [
      "class -> 2, ['p' 'e']\n",
      "cap-shape -> 6, ['x' 'b' 's' 'f' 'k' 'c']\n",
      "cap-surface -> 4, ['s' 'y' 'f' 'g']\n",
      "cap-color -> 10, ['n' 'y' 'w' 'g' 'e' 'p' 'b' 'u' 'c' 'r']\n",
      "bruises -> 2, ['t' 'f']\n",
      "odor -> 9, ['p' 'a' 'l' 'n' 'f' 'c' 'y' 's' 'm']\n",
      "gill-attachment -> 2, ['f' 'a']\n",
      "gill-spacing -> 2, ['c' 'w']\n",
      "gill-size -> 2, ['n' 'b']\n",
      "gill-color -> 12, ['k' 'n' 'g' 'p' 'w' 'h' 'u' 'e' 'b' 'r' 'y' 'o']\n",
      "stalk-shape -> 2, ['e' 't']\n",
      "stalk-root -> 5, ['e' 'c' 'b' 'r' '?']\n",
      "stalk-surface-above-ring -> 4, ['s' 'f' 'k' 'y']\n",
      "stalk-surface-below-ring -> 4, ['s' 'f' 'y' 'k']\n",
      "stalk-color-above-ring -> 9, ['w' 'g' 'p' 'n' 'b' 'e' 'o' 'c' 'y']\n",
      "stalk-color-below-ring -> 9, ['w' 'p' 'g' 'b' 'n' 'e' 'y' 'o' 'c']\n",
      "veil-type -> 1, ['p']\n",
      "veil-color -> 4, ['w' 'n' 'o' 'y']\n",
      "ring-number -> 3, ['o' 't' 'n']\n",
      "ring-type -> 5, ['p' 'e' 'l' 'f' 'n']\n",
      "spore-print-color -> 9, ['k' 'n' 'u' 'h' 'w' 'r' 'o' 'y' 'b']\n",
      "population -> 6, ['s' 'n' 'a' 'v' 'y' 'c']\n",
      "habitat -> 7, ['u' 'g' 'm' 'd' 'p' 'w' 'l']\n"
     ]
    }
   ],
   "source": [
    "for column in data.columns:\n",
    "    print(f\"{column} -> {data[column].nunique()}, {data[column].unique()}\")"
   ]
  },
  {
   "cell_type": "markdown",
   "id": "a3535a11-7908-4dcf-b834-b4fa4eb25a8d",
   "metadata": {},
   "source": [
    "From the above observation it is clear that column **\"stalk-root\"** has a missing identifier **\"?\"**."
   ]
  },
  {
   "cell_type": "code",
   "execution_count": 9,
   "id": "9f343404-de10-45bc-9bc3-71c18def469c",
   "metadata": {},
   "outputs": [
    {
     "data": {
      "text/plain": [
       "b    3776\n",
       "?    2480\n",
       "e    1120\n",
       "c     556\n",
       "r     192\n",
       "Name: stalk-root, dtype: int64"
      ]
     },
     "execution_count": 9,
     "metadata": {},
     "output_type": "execute_result"
    }
   ],
   "source": [
    "data[\"stalk-root\"].value_counts()"
   ]
  },
  {
   "cell_type": "markdown",
   "id": "42754f1e-7722-4714-b6ca-f92df1d94b10",
   "metadata": {},
   "source": [
    "There are 2480 missing values present in \"stalk-root\" column, so it is not good to full it median or mode. Best approach will be to make **\"?\"** it self as a class and consider for model."
   ]
  },
  {
   "cell_type": "markdown",
   "id": "e5f935fe-8982-4291-ae1d-00478c7dd253",
   "metadata": {},
   "source": [
    "Similarly column **\"veil-type\"** has only one value so it can be removed from feature set."
   ]
  },
  {
   "cell_type": "code",
   "execution_count": 10,
   "id": "9856af1d-d4b6-4c08-bf13-d4871465c400",
   "metadata": {},
   "outputs": [],
   "source": [
    "data[\"stalk-root\"].replace([\"?\"], [\"missing\"], inplace=True)"
   ]
  },
  {
   "cell_type": "code",
   "execution_count": 11,
   "id": "b13184ff-d1dd-49e8-adab-c9c9c5c9e769",
   "metadata": {},
   "outputs": [
    {
     "data": {
      "text/plain": [
       "b          3776\n",
       "missing    2480\n",
       "e          1120\n",
       "c           556\n",
       "r           192\n",
       "Name: stalk-root, dtype: int64"
      ]
     },
     "execution_count": 11,
     "metadata": {},
     "output_type": "execute_result"
    }
   ],
   "source": [
    "data[\"stalk-root\"].value_counts()"
   ]
  },
  {
   "cell_type": "markdown",
   "id": "5958ccf0-7189-43a5-8e7c-c3d70da04241",
   "metadata": {},
   "source": [
    "### Extracting features"
   ]
  },
  {
   "cell_type": "code",
   "execution_count": 12,
   "id": "f47ddad8-5337-4ff6-807e-31d46d7e10e3",
   "metadata": {},
   "outputs": [
    {
     "data": {
      "text/plain": [
       "Index(['class', 'cap-shape', 'cap-surface', 'cap-color', 'bruises', 'odor',\n",
       "       'gill-attachment', 'gill-spacing', 'gill-size', 'gill-color',\n",
       "       'stalk-shape', 'stalk-root', 'stalk-surface-above-ring',\n",
       "       'stalk-surface-below-ring', 'stalk-color-above-ring',\n",
       "       'stalk-color-below-ring', 'veil-type', 'veil-color', 'ring-number',\n",
       "       'ring-type', 'spore-print-color', 'population', 'habitat'],\n",
       "      dtype='object')"
      ]
     },
     "execution_count": 12,
     "metadata": {},
     "output_type": "execute_result"
    }
   ],
   "source": [
    "data.columns"
   ]
  },
  {
   "cell_type": "code",
   "execution_count": 13,
   "id": "b785017c-c7d3-4063-9bf5-ee715d370665",
   "metadata": {},
   "outputs": [],
   "source": [
    "X = data.drop(columns=['class', 'veil-type'], axis = 1)\n",
    "y = data['class']"
   ]
  },
  {
   "cell_type": "code",
   "execution_count": 14,
   "id": "0ddac97f-a24d-42f4-b799-45a44ad48cc8",
   "metadata": {},
   "outputs": [
    {
     "name": "stdout",
     "output_type": "stream",
     "text": [
      "Onehot columns = ['bruises', 'gill-attachment', 'gill-spacing', 'gill-size', 'stalk-shape', 'ring-number']\n",
      "Label columns = ['cap-shape', 'cap-surface', 'cap-color', 'odor', 'gill-color', 'stalk-root', 'stalk-surface-above-ring', 'stalk-surface-below-ring', 'stalk-color-above-ring', 'stalk-color-below-ring', 'veil-color', 'ring-type', 'spore-print-color', 'population', 'habitat']\n"
     ]
    }
   ],
   "source": [
    "onehot_columns = []\n",
    "label_columns = []\n",
    "for column in X.columns:\n",
    "    label_columns.append(column) if X[column].nunique()>3 else onehot_columns.append(column)\n",
    "print(f\"Onehot columns = {onehot_columns}\")\n",
    "print(f\"Label columns = {label_columns}\")"
   ]
  },
  {
   "cell_type": "code",
   "execution_count": 15,
   "id": "92b6034f-39c0-4677-832e-901a393c5a97",
   "metadata": {},
   "outputs": [],
   "source": [
    "# Onehot encode\n",
    "X = pd.get_dummies(data = X, columns=onehot_columns)"
   ]
  },
  {
   "cell_type": "code",
   "execution_count": 16,
   "id": "fffa0349-2106-43d1-9721-cf310172edf8",
   "metadata": {},
   "outputs": [],
   "source": [
    "#Label encoding\n",
    "from sklearn.preprocessing import LabelEncoder\n",
    "for column in label_columns:\n",
    "    X[column] = LabelEncoder().fit_transform(X[column])"
   ]
  },
  {
   "cell_type": "markdown",
   "id": "2206e2ff-5256-42b2-9803-8bd486f514fa",
   "metadata": {},
   "source": [
    "### Split data sets"
   ]
  },
  {
   "cell_type": "code",
   "execution_count": 17,
   "id": "d3f95720-8139-445d-9d6e-b0d4f78eafca",
   "metadata": {},
   "outputs": [],
   "source": [
    "from sklearn.model_selection import train_test_split\n",
    "X_train, X_test, y_train, y_test = train_test_split(X, y, random_state=42, test_size=0.2)"
   ]
  },
  {
   "cell_type": "markdown",
   "id": "11489112-99e0-4467-8cf1-1420e81370b0",
   "metadata": {},
   "source": [
    "### Check Model Accuracy"
   ]
  },
  {
   "cell_type": "code",
   "execution_count": 18,
   "id": "b2b7998d-ce0d-4760-a50f-2304dca6d470",
   "metadata": {},
   "outputs": [],
   "source": [
    "# Function to check model performances\n",
    "from sklearn.metrics import classification_report, confusion_matrix\n",
    "def check_model_metrices(y_test, y_pred):\n",
    "    print(classification_report(y_test, y_pred))\n",
    "    print('Confusion Matrix = \\n', confusion_matrix(y_test, y_pred))"
   ]
  },
  {
   "cell_type": "markdown",
   "id": "4ae9bcc6-ad70-4b29-b601-d192c70859da",
   "metadata": {},
   "source": [
    "### Build Models\n",
    "***"
   ]
  },
  {
   "cell_type": "markdown",
   "id": "c1d3cfef-8925-4269-8eda-2b6231502f05",
   "metadata": {},
   "source": [
    "#### 1. Multi Logistic Rregression"
   ]
  },
  {
   "cell_type": "code",
   "execution_count": 19,
   "id": "560f77d0-41ad-4aec-a367-70565e960429",
   "metadata": {},
   "outputs": [
    {
     "name": "stdout",
     "output_type": "stream",
     "text": [
      "              precision    recall  f1-score   support\n",
      "\n",
      "           e       0.98      0.95      0.96       843\n",
      "           p       0.95      0.98      0.96       782\n",
      "\n",
      "    accuracy                           0.96      1625\n",
      "   macro avg       0.96      0.96      0.96      1625\n",
      "weighted avg       0.96      0.96      0.96      1625\n",
      "\n",
      "Confusion Matrix = \n",
      " [[801  42]\n",
      " [ 18 764]]\n"
     ]
    }
   ],
   "source": [
    "from sklearn.linear_model import LogisticRegression\n",
    "rf = LogisticRegression().fit(X_train, y_train)\n",
    "rf_pred = rf.predict(X_test)\n",
    "check_model_metrices(y_test, rf_pred)"
   ]
  },
  {
   "cell_type": "markdown",
   "id": "b8d0ccc3-e5f3-4192-9cee-cc4aef976151",
   "metadata": {},
   "source": [
    "#### 2. Linear SVM\n",
    "***"
   ]
  },
  {
   "cell_type": "code",
   "execution_count": 20,
   "id": "87a9c4ab-266c-4a08-8334-00a8b7ca60c9",
   "metadata": {},
   "outputs": [
    {
     "name": "stdout",
     "output_type": "stream",
     "text": [
      "              precision    recall  f1-score   support\n",
      "\n",
      "           e       0.98      0.95      0.97       843\n",
      "           p       0.95      0.98      0.96       782\n",
      "\n",
      "    accuracy                           0.96      1625\n",
      "   macro avg       0.96      0.97      0.96      1625\n",
      "weighted avg       0.97      0.96      0.96      1625\n",
      "\n",
      "Confusion Matrix = \n",
      " [[800  43]\n",
      " [ 14 768]]\n"
     ]
    }
   ],
   "source": [
    "from sklearn.svm import SVC\n",
    "linear = SVC(kernel='linear')\n",
    "linear.fit(X_train, y_train)\n",
    "linear_pred = linear.predict(X_test)\n",
    "check_model_metrices(y_test, linear_pred)"
   ]
  },
  {
   "cell_type": "markdown",
   "id": "6aecc189-709b-4d6e-acfb-94162b598547",
   "metadata": {},
   "source": [
    "#### 3. kNN Classifier\n",
    "***"
   ]
  },
  {
   "cell_type": "code",
   "execution_count": 21,
   "id": "365e94cb-e850-436f-9047-253a7b59d8e4",
   "metadata": {},
   "outputs": [
    {
     "data": {
      "image/png": "[encoded data removed]",
      "text/plain": [
       "<Figure size 432x288 with 1 Axes>"
      ]
     },
     "metadata": {
      "needs_background": "light"
     },
     "output_type": "display_data"
    },
    {
     "name": "stdout",
     "output_type": "stream",
     "text": [
      "Best k value =  3\n",
      "kNN classifier with k = 3 has :: \n",
      "\n",
      "              precision    recall  f1-score   support\n",
      "\n",
      "           e       1.00      1.00      1.00       843\n",
      "           p       1.00      1.00      1.00       782\n",
      "\n",
      "    accuracy                           1.00      1625\n",
      "   macro avg       1.00      1.00      1.00      1625\n",
      "weighted avg       1.00      1.00      1.00      1625\n",
      "\n",
      "Confusion Matrix = \n",
      " [[843   0]\n",
      " [  0 782]]\n"
     ]
    }
   ],
   "source": [
    "from sklearn.neighbors import KNeighborsClassifier\n",
    "from sklearn.metrics import accuracy_score\n",
    "def generate_kNN_model(x_train, y_train, x_test, k):\n",
    "    knn_model = KNeighborsClassifier(n_neighbors=k, metric='minkowski')\n",
    "    knn_model.fit(x_train, y_train)\n",
    "    return knn_model.predict(x_test)\n",
    "\n",
    "# Optimizing 'k' or 'n-neighbers' value\n",
    "def find_optimal_k(x_train, y_train, x_test):\n",
    "    accur_dict = dict()\n",
    "    for k in np.arange(3,16):\n",
    "        y_pred = generate_kNN_model(x_train, y_train, x_test, k)\n",
    "        accur_dict[k] = accuracy_score(y_test, y_pred)\n",
    "    #Plot\n",
    "    plt.plot(list(accur_dict.keys()),list(accur_dict.values()), marker ='o')\n",
    "    plt.title('k-Values vs Accuracy')\n",
    "    plt.show()\n",
    "    optimal_k = max(accur_dict, key = lambda x: accur_dict[x])\n",
    "    print('Best k value = ', optimal_k)\n",
    "    return optimal_k\n",
    "k_optimal = find_optimal_k(X_train, y_train, X_test)\n",
    "knn_y_pred = generate_kNN_model(X_train, y_train, X_test, k_optimal)\n",
    "print(f'kNN classifier with k = {k_optimal} has :: \\n')\n",
    "check_model_metrices(y_test, knn_y_pred)"
   ]
  },
  {
   "cell_type": "markdown",
   "id": "82975ed2-c66e-480f-b9c5-66181068ac8b",
   "metadata": {},
   "source": [
    "#### 4. Decision Trees\n",
    "***"
   ]
  },
  {
   "cell_type": "code",
   "execution_count": 22,
   "id": "c141ac85-1e4e-4f75-99d1-579479227e43",
   "metadata": {},
   "outputs": [
    {
     "name": "stdout",
     "output_type": "stream",
     "text": [
      "              precision    recall  f1-score   support\n",
      "\n",
      "           e       0.98      0.95      0.97       843\n",
      "           p       0.95      0.98      0.96       782\n",
      "\n",
      "    accuracy                           0.96      1625\n",
      "   macro avg       0.96      0.97      0.96      1625\n",
      "weighted avg       0.97      0.96      0.96      1625\n",
      "\n",
      "Confusion Matrix = \n",
      " [[800  43]\n",
      " [ 14 768]]\n"
     ]
    }
   ],
   "source": [
    "from sklearn.tree import DecisionTreeClassifier\n",
    "dt_model = DecisionTreeClassifier()\n",
    "dt_model.fit(X_train, y_train)\n",
    "dt_pred = dt_model.predict(X_test)\n",
    "check_model_metrices(y_test, linear_pred)"
   ]
  },
  {
   "cell_type": "markdown",
   "id": "2eb76dc2-34e0-4430-a32a-e72220812dde",
   "metadata": {},
   "source": [
    "#### 5. Random Forest\n",
    "***"
   ]
  },
  {
   "cell_type": "code",
   "execution_count": 23,
   "id": "b217412c-8dbe-4fe5-81ff-31e9b2623593",
   "metadata": {},
   "outputs": [
    {
     "name": "stdout",
     "output_type": "stream",
     "text": [
      "              precision    recall  f1-score   support\n",
      "\n",
      "           e       0.98      0.95      0.97       843\n",
      "           p       0.95      0.98      0.96       782\n",
      "\n",
      "    accuracy                           0.96      1625\n",
      "   macro avg       0.96      0.97      0.96      1625\n",
      "weighted avg       0.97      0.96      0.96      1625\n",
      "\n",
      "Confusion Matrix = \n",
      " [[800  43]\n",
      " [ 14 768]]\n"
     ]
    }
   ],
   "source": [
    "from sklearn.ensemble import RandomForestClassifier\n",
    "rf = RandomForestClassifier()\n",
    "rf.fit(X_train, y_train)\n",
    "rf_pred = rf.predict(X_test)\n",
    "check_model_metrices(y_test, linear_pred)"
   ]
  },
  {
   "cell_type": "markdown",
   "id": "2220705b-84df-4b42-9ebf-3093a7130760",
   "metadata": {},
   "source": [
    "#### 6. Naive Bayes Classifier\n",
    "***"
   ]
  },
  {
   "cell_type": "code",
   "execution_count": 24,
   "id": "712054ea-824b-493e-9720-dc491819a67d",
   "metadata": {},
   "outputs": [
    {
     "name": "stdout",
     "output_type": "stream",
     "text": [
      "              precision    recall  f1-score   support\n",
      "\n",
      "           e       0.89      0.95      0.92       843\n",
      "           p       0.94      0.87      0.91       782\n",
      "\n",
      "    accuracy                           0.91      1625\n",
      "   macro avg       0.92      0.91      0.91      1625\n",
      "weighted avg       0.91      0.91      0.91      1625\n",
      "\n",
      "Confusion Matrix = \n",
      " [[799  44]\n",
      " [ 98 684]]\n"
     ]
    }
   ],
   "source": [
    "from sklearn.naive_bayes import BernoulliNB\n",
    "bnb = BernoulliNB().fit(X_train, y_train)\n",
    "bnb_pred = bnb.predict(X_test)\n",
    "check_model_metrices(y_test, bnb_pred)"
   ]
  },
  {
   "cell_type": "code",
   "execution_count": 25,
   "id": "340d8038-c338-4845-9732-7de960855453",
   "metadata": {},
   "outputs": [
    {
     "name": "stdout",
     "output_type": "stream",
     "text": [
      "              precision    recall  f1-score   support\n",
      "\n",
      "           e       0.90      0.96      0.93       843\n",
      "           p       0.95      0.88      0.92       782\n",
      "\n",
      "    accuracy                           0.92      1625\n",
      "   macro avg       0.92      0.92      0.92      1625\n",
      "weighted avg       0.92      0.92      0.92      1625\n",
      "\n",
      "Confusion Matrix = \n",
      " [[808  35]\n",
      " [ 93 689]]\n"
     ]
    }
   ],
   "source": [
    "from sklearn.naive_bayes import GaussianNB\n",
    "gnb = GaussianNB().fit(X_train, y_train)\n",
    "gnb_pred = gnb.predict(X_test)\n",
    "check_model_metrices(y_test, gnb_pred)"
   ]
  },
  {
   "cell_type": "code",
   "execution_count": 26,
   "id": "7eca13af-76a6-48ae-9f5e-72c62ad25be2",
   "metadata": {},
   "outputs": [
    {
     "name": "stdout",
     "output_type": "stream",
     "text": [
      "              precision    recall  f1-score   support\n",
      "\n",
      "           e       0.79      0.94      0.86       843\n",
      "           p       0.91      0.73      0.81       782\n",
      "\n",
      "    accuracy                           0.84      1625\n",
      "   macro avg       0.85      0.83      0.83      1625\n",
      "weighted avg       0.85      0.84      0.83      1625\n",
      "\n",
      "Confusion Matrix = \n",
      " [[790  53]\n",
      " [212 570]]\n"
     ]
    }
   ],
   "source": [
    "from sklearn.naive_bayes import MultinomialNB\n",
    "mnb = MultinomialNB().fit(X_train, y_train)\n",
    "mnb_pred = mnb.predict(X_test)\n",
    "check_model_metrices(y_test, mnb_pred)"
   ]
  },
  {
   "cell_type": "markdown",
   "id": "4c68bf7b-840b-456b-b303-0e264bf6adfe",
   "metadata": {},
   "source": [
    "## Result\n",
    "***"
   ]
  },
  {
   "cell_type": "markdown",
   "id": "02a7bd02-393d-4151-a5be-2238848dcc64",
   "metadata": {},
   "source": [
    "**kNN classifier** generated best results with 100% accuracy."
   ]
  },
  {
   "cell_type": "markdown",
   "id": "f2a78cec-6454-4675-9708-fe5ff1c910ec",
   "metadata": {},
   "source": [
    "***"
   ]
  }
 ],
 "metadata": {
  "kernelspec": {
   "display_name": "Python (ICTK)",
   "language": "python",
   "name": "ictk"
  },
  "language_info": {
   "codemirror_mode": {
    "name": "ipython",
    "version": 3
   },
   "file_extension": ".py",
   "mimetype": "text/x-python",
   "name": "python",
   "nbconvert_exporter": "python",
   "pygments_lexer": "ipython3",
   "version": "3.8.12"
  }
 },
 "nbformat": 4,
 "nbformat_minor": 5
}
