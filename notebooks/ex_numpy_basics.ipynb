{
 "cells": [
  {
   "cell_type": "markdown",
   "id": "a291046d",
   "metadata": {},
   "source": [
    "# NumPy Basics"
   ]
  },
  {
   "cell_type": "code",
   "execution_count": 1,
   "id": "ccd89ca1",
   "metadata": {},
   "outputs": [
    {
     "name": "stdout",
     "output_type": "stream",
     "text": [
      "[0, 1, 2, 3, 4, 5, 6, 7, 8, 9, 11, 12, 13, 14, 15, 16, 17, 18, 19, 20]\n",
      "[11, 13, 15, 17, 19, 21, 23, 25, 27, 29]\n"
     ]
    }
   ],
   "source": [
    "# Traditional summing of list\n",
    "list1 = list(range(10))\n",
    "list2 = list(range(11,21))\n",
    "print(list1 + list2)\n",
    "list3 = []\n",
    "for i, j in zip(list1, list2):\n",
    "    list3.append(i+j)\n",
    "print(list3)"
   ]
  },
  {
   "cell_type": "markdown",
   "id": "eb8b1e7b",
   "metadata": {},
   "source": [
    "<h1> Numpy functions"
   ]
  },
  {
   "cell_type": "markdown",
   "id": "9bc87b76",
   "metadata": {},
   "source": [
    "<h2>1. np.array"
   ]
  },
  {
   "cell_type": "code",
   "execution_count": 3,
   "id": "0d8f7dfc",
   "metadata": {},
   "outputs": [
    {
     "name": "stdout",
     "output_type": "stream",
     "text": [
      "[11 13 15 17 19 21 23 25 27 29]\n"
     ]
    }
   ],
   "source": [
    "# Summing of list Using numpy\n",
    "import numpy as np\n",
    "arr1 = np.array(list1) #dtype = ndarray\n",
    "arr2 = np.array(list2)\n",
    "sum = arr1+arr2\n",
    "print(sum)"
   ]
  },
  {
   "cell_type": "code",
   "execution_count": 4,
   "id": "6e4fb384",
   "metadata": {},
   "outputs": [
    {
     "name": "stdout",
     "output_type": "stream",
     "text": [
      "[[ 1  2  3  4]\n",
      " [ 5  6  7  8]\n",
      " [ 9 10 11 12]]\n"
     ]
    }
   ],
   "source": [
    "# multdimensional array\n",
    "# np.array converts given type into desired output\n",
    "list4 = [[1,2,3,4],[5,6,7,8],[9,10,11,12]]\n",
    "arr_2d = np.array(list4)\n",
    "print(arr_2d)"
   ]
  },
  {
   "cell_type": "markdown",
   "id": "77568fef",
   "metadata": {},
   "source": [
    "<h2>Properties of ndarray"
   ]
  },
  {
   "cell_type": "code",
   "execution_count": 57,
   "id": "eb0fd474",
   "metadata": {},
   "outputs": [
    {
     "name": "stdout",
     "output_type": "stream",
     "text": [
      "int32\n",
      "2\n",
      "(3, 4)\n",
      "12\n"
     ]
    }
   ],
   "source": [
    "# data type of array\n",
    "print(arr_2d.dtype)\n",
    "# dimension of array\n",
    "print(arr_2d.ndim)\n",
    "# shape of array\n",
    "print(arr_2d.shape)\n",
    "#size\n",
    "print(arr_2d.size)"
   ]
  },
  {
   "cell_type": "markdown",
   "id": "ab96c3fa",
   "metadata": {},
   "source": [
    "<h3> More on np.array"
   ]
  },
  {
   "cell_type": "code",
   "execution_count": 82,
   "id": "43ce707d",
   "metadata": {},
   "outputs": [
    {
     "name": "stdout",
     "output_type": "stream",
     "text": [
      "arr3 :\n",
      "[[ 1.  2.  3.  4.]\n",
      " [ 5.  6.  7.  8.]\n",
      " [ 9. 10. 11. 12.]]\n",
      "\n",
      "arr3 type : float64\n",
      "\n",
      "arr4 :\n",
      "[{'s': 'd'} '1' 'np']\n",
      "arr4 type : object\n",
      "\n",
      "arr5 :\n",
      "[{'s': 'd'} '1' 'np']\n",
      "arr5 type : object\n"
     ]
    }
   ],
   "source": [
    "# changing data types\n",
    "arr3 = np.array(arr_2d,dtype=float)\n",
    "print(f'arr3 :\\n{arr3}\\n')\n",
    "print(f'arr3 type : {arr3.dtype}\\n')\n",
    "# all hetrogeneous collections are of type = object in np\n",
    "arr4 = np.array([{'s':'d'},'1','np'])\n",
    "print(f'arr4 :\\n{arr4}')\n",
    "print(f'arr4 type : {arr4.dtype}\\n')\n",
    "arr5 = np.array(arr4,dtype=list)\n",
    "print(f'arr5 :\\n{arr5}')\n",
    "print(f'arr5 type : {arr5.dtype}')"
   ]
  },
  {
   "cell_type": "markdown",
   "id": "8e4f7e58",
   "metadata": {},
   "source": [
    "<h3>ndarray functions"
   ]
  },
  {
   "cell_type": "code",
   "execution_count": 66,
   "id": "cd30cf92",
   "metadata": {},
   "outputs": [
    {
     "name": "stdout",
     "output_type": "stream",
     "text": [
      "arr6 :\n",
      "[[ 1.  2.  3.]\n",
      " [ 4.  5.  6.]\n",
      " [ 7.  8.  9.]\n",
      " [10. 11. 12.]]\n"
     ]
    }
   ],
   "source": [
    "#reshaape\n",
    "arr6 = arr3.reshape(4,3)\n",
    "print(f'arr6 :\\n{arr6}')\n",
    "#in reshape size of arrays should match"
   ]
  },
  {
   "cell_type": "markdown",
   "id": "c1c26487",
   "metadata": {},
   "source": [
    "<h2> 2. np.arange"
   ]
  },
  {
   "cell_type": "code",
   "execution_count": 93,
   "id": "69196a39",
   "metadata": {},
   "outputs": [
    {
     "name": "stdout",
     "output_type": "stream",
     "text": [
      "arr7 :\n",
      "[ 1  4  7 10 13 16 19]\n"
     ]
    }
   ],
   "source": [
    "# similar to range function in python\n",
    "arr7 = np.arange(1,20,3)\n",
    "print(f'arr7 :\\n{arr7}')"
   ]
  },
  {
   "cell_type": "markdown",
   "id": "0ecd66d6",
   "metadata": {},
   "source": [
    "<h2> 3. np.linspace"
   ]
  },
  {
   "cell_type": "code",
   "execution_count": 94,
   "id": "136fb6b2",
   "metadata": {},
   "outputs": [
    {
     "name": "stdout",
     "output_type": "stream",
     "text": [
      "arr8 :\n",
      "[ 1.  10.5 20. ]\n",
      "arr8 type : float64\n",
      "\n",
      "arr9 :\n",
      "[[ 1.         10.5        20.        ]\n",
      " [ 1.18367347 10.48979592 19.79591837]\n",
      " [ 1.36734694 10.47959184 19.59183673]\n",
      " [ 1.55102041 10.46938776 19.3877551 ]\n",
      " [ 1.73469388 10.45918367 19.18367347]\n",
      " [ 1.91836735 10.44897959 18.97959184]\n",
      " [ 2.10204082 10.43877551 18.7755102 ]\n",
      " [ 2.28571429 10.42857143 18.57142857]\n",
      " [ 2.46938776 10.41836735 18.36734694]\n",
      " [ 2.65306122 10.40816327 18.16326531]\n",
      " [ 2.83673469 10.39795918 17.95918367]\n",
      " [ 3.02040816 10.3877551  17.75510204]\n",
      " [ 3.20408163 10.37755102 17.55102041]\n",
      " [ 3.3877551  10.36734694 17.34693878]\n",
      " [ 3.57142857 10.35714286 17.14285714]\n",
      " [ 3.75510204 10.34693878 16.93877551]\n",
      " [ 3.93877551 10.33673469 16.73469388]\n",
      " [ 4.12244898 10.32653061 16.53061224]\n",
      " [ 4.30612245 10.31632653 16.32653061]\n",
      " [ 4.48979592 10.30612245 16.12244898]\n",
      " [ 4.67346939 10.29591837 15.91836735]\n",
      " [ 4.85714286 10.28571429 15.71428571]\n",
      " [ 5.04081633 10.2755102  15.51020408]\n",
      " [ 5.2244898  10.26530612 15.30612245]\n",
      " [ 5.40816327 10.25510204 15.10204082]\n",
      " [ 5.59183673 10.24489796 14.89795918]\n",
      " [ 5.7755102  10.23469388 14.69387755]\n",
      " [ 5.95918367 10.2244898  14.48979592]\n",
      " [ 6.14285714 10.21428571 14.28571429]\n",
      " [ 6.32653061 10.20408163 14.08163265]\n",
      " [ 6.51020408 10.19387755 13.87755102]\n",
      " [ 6.69387755 10.18367347 13.67346939]\n",
      " [ 6.87755102 10.17346939 13.46938776]\n",
      " [ 7.06122449 10.16326531 13.26530612]\n",
      " [ 7.24489796 10.15306122 13.06122449]\n",
      " [ 7.42857143 10.14285714 12.85714286]\n",
      " [ 7.6122449  10.13265306 12.65306122]\n",
      " [ 7.79591837 10.12244898 12.44897959]\n",
      " [ 7.97959184 10.1122449  12.24489796]\n",
      " [ 8.16326531 10.10204082 12.04081633]\n",
      " [ 8.34693878 10.09183673 11.83673469]\n",
      " [ 8.53061224 10.08163265 11.63265306]\n",
      " [ 8.71428571 10.07142857 11.42857143]\n",
      " [ 8.89795918 10.06122449 11.2244898 ]\n",
      " [ 9.08163265 10.05102041 11.02040816]\n",
      " [ 9.26530612 10.04081633 10.81632653]\n",
      " [ 9.44897959 10.03061224 10.6122449 ]\n",
      " [ 9.63265306 10.02040816 10.40816327]\n",
      " [ 9.81632653 10.01020408 10.20408163]\n",
      " [10.         10.         10.        ]]\n",
      "\n",
      "arr9 type : float64\n",
      "\n",
      "arr9 shape : (50, 3)\n",
      "\n",
      "arr9 size : 150\n",
      "\n",
      "arr9 dim : 2\n",
      "\n"
     ]
    }
   ],
   "source": [
    "#linspace function\n",
    "#creates linearly distributed array, dividing array in n fractions\n",
    "# n is _linspace_dispatcher()\n",
    "arr8 = np.linspace(1,20,3)\n",
    "print(f'arr8 :\\n{arr8}')\n",
    "print(f'arr8 type : {arr8.dtype}\\n')\n",
    "#cool\n",
    "arr9 = np.linspace(arr8,10)\n",
    "print(f'arr9 :\\n{arr9}\\n')\n",
    "print(f'arr9 type : {arr9.dtype}\\n')\n",
    "print(f'arr9 shape : {arr9.shape}\\n')\n",
    "print(f'arr9 size : {arr9.size}\\n')\n",
    "print(f'arr9 dim : {arr9.ndim}\\n')"
   ]
  },
  {
   "cell_type": "code",
   "execution_count": 97,
   "id": "70874add",
   "metadata": {},
   "outputs": [
    {
     "name": "stdout",
     "output_type": "stream",
     "text": [
      "Variable   Type       Data/Info\n",
      "-------------------------------\n",
      "arr1       ndarray    10: 10 elems, type `int32`, 40 bytes\n",
      "arr2       ndarray    10: 10 elems, type `int32`, 40 bytes\n",
      "arr3       ndarray    3x4: 12 elems, type `float64`, 96 bytes\n",
      "arr4       ndarray    3: 3 elems, type `object`, 24 bytes\n",
      "arr5       ndarray    3: 3 elems, type `object`, 24 bytes\n",
      "arr6       ndarray    4x3: 12 elems, type `float64`, 96 bytes\n",
      "arr7       ndarray    7: 7 elems, type `int32`, 28 bytes\n",
      "arr8       ndarray    3: 3 elems, type `float64`, 24 bytes\n",
      "arr9       ndarray    50x3: 150 elems, type `float64`, 1200 bytes\n",
      "arr_2d     ndarray    3x4: 12 elems, type `int32`, 48 bytes\n",
      "dir        dict       n=1\n",
      "i          int        9\n",
      "j          int        20\n",
      "list1      list       n=10\n",
      "list2      list       n=10\n",
      "list3      list       n=10\n",
      "list4      list       n=3\n",
      "np         module     <module 'numpy' from 'C:\\<...>ges\\\\numpy\\\\__init__.py'>\n",
      "sum        ndarray    10: 10 elems, type `int32`, 40 bytes\n"
     ]
    }
   ],
   "source": [
    "%whos"
   ]
  }
 ],
 "metadata": {
  "kernelspec": {
   "display_name": "Python 3 (ipykernel)",
   "language": "python",
   "name": "python3"
  },
  "language_info": {
   "codemirror_mode": {
    "name": "ipython",
    "version": 3
   },
   "file_extension": ".py",
   "mimetype": "text/x-python",
   "name": "python",
   "nbconvert_exporter": "python",
   "pygments_lexer": "ipython3",
   "version": "3.8.12"
  }
 },
 "nbformat": 4,
 "nbformat_minor": 5
}
