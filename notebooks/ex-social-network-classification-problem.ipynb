{
 "cells": [
  {
   "cell_type": "markdown",
   "id": "6d765765",
   "metadata": {},
   "source": [
    "# Working with Social Network Classification Problem :: (LR, kNN, DT, SVM)\n",
    "*Sreehari P S*\n",
    "***"
   ]
  },
  {
   "cell_type": "markdown",
   "id": "bcaa065b",
   "metadata": {},
   "source": [
    "**Problem statement:**<br>\n",
    "Given is a dataset of a social network sales company, which contains user id, gender, age, salary of a customer. Whether or not the customer purchased from the site is identified with \"Purchased\" column having values {0, 1}, where 0 represents \"not purchased\" and 1 represents \"Purchased.<br>\n",
    "**Purpose::**<br>\n",
    "Design models using Logistic Regression, kNN algorithms, SVM, Decision Trees to predict whether a customer will purchase or not.<br>This is an example of Binary classification problem."
   ]
  },
  {
   "cell_type": "code",
   "execution_count": 1,
   "id": "ebe029a5",
   "metadata": {},
   "outputs": [],
   "source": [
    "import numpy as np\n",
    "import pandas as pd\n",
    "import matplotlib.pyplot as plt"
   ]
  },
  {
   "cell_type": "code",
   "execution_count": 2,
   "id": "9ef72738",
   "metadata": {},
   "outputs": [
    {
     "data": {
      "text/html": [
       "<div>\n",
       "<style scoped>\n",
       "    .dataframe tbody tr th:only-of-type {\n",
       "        vertical-align: middle;\n",
       "    }\n",
       "\n",
       "    .dataframe tbody tr th {\n",
       "        vertical-align: top;\n",
       "    }\n",
       "\n",
       "    .dataframe thead th {\n",
       "        text-align: right;\n",
       "    }\n",
       "</style>\n",
       "<table border=\"1\" class=\"dataframe\">\n",
       "  <thead>\n",
       "    <tr style=\"text-align: right;\">\n",
       "      <th></th>\n",
       "      <th>User ID</th>\n",
       "      <th>Gender</th>\n",
       "      <th>Age</th>\n",
       "      <th>EstimatedSalary</th>\n",
       "      <th>Purchased</th>\n",
       "    </tr>\n",
       "  </thead>\n",
       "  <tbody>\n",
       "    <tr>\n",
       "      <th>0</th>\n",
       "      <td>15624510</td>\n",
       "      <td>Male</td>\n",
       "      <td>19</td>\n",
       "      <td>19000</td>\n",
       "      <td>0</td>\n",
       "    </tr>\n",
       "    <tr>\n",
       "      <th>1</th>\n",
       "      <td>15810944</td>\n",
       "      <td>Male</td>\n",
       "      <td>35</td>\n",
       "      <td>20000</td>\n",
       "      <td>0</td>\n",
       "    </tr>\n",
       "    <tr>\n",
       "      <th>2</th>\n",
       "      <td>15668575</td>\n",
       "      <td>Female</td>\n",
       "      <td>26</td>\n",
       "      <td>43000</td>\n",
       "      <td>0</td>\n",
       "    </tr>\n",
       "    <tr>\n",
       "      <th>3</th>\n",
       "      <td>15603246</td>\n",
       "      <td>Female</td>\n",
       "      <td>27</td>\n",
       "      <td>57000</td>\n",
       "      <td>0</td>\n",
       "    </tr>\n",
       "    <tr>\n",
       "      <th>4</th>\n",
       "      <td>15804002</td>\n",
       "      <td>Male</td>\n",
       "      <td>19</td>\n",
       "      <td>76000</td>\n",
       "      <td>0</td>\n",
       "    </tr>\n",
       "  </tbody>\n",
       "</table>\n",
       "</div>"
      ],
      "text/plain": [
       "    User ID  Gender  Age  EstimatedSalary  Purchased\n",
       "0  15624510    Male   19            19000          0\n",
       "1  15810944    Male   35            20000          0\n",
       "2  15668575  Female   26            43000          0\n",
       "3  15603246  Female   27            57000          0\n",
       "4  15804002    Male   19            76000          0"
      ]
     },
     "execution_count": 2,
     "metadata": {},
     "output_type": "execute_result"
    }
   ],
   "source": [
    "data = pd.read_csv('./datasets/Social_Network_Ads.csv')\n",
    "data.head()"
   ]
  },
  {
   "cell_type": "markdown",
   "id": "acc88720",
   "metadata": {},
   "source": [
    "Understanding Data\n",
    "***"
   ]
  },
  {
   "cell_type": "code",
   "execution_count": 3,
   "id": "5d5a24a8",
   "metadata": {},
   "outputs": [
    {
     "name": "stdout",
     "output_type": "stream",
     "text": [
      "<class 'pandas.core.frame.DataFrame'>\n",
      "RangeIndex: 400 entries, 0 to 399\n",
      "Data columns (total 5 columns):\n",
      " #   Column           Non-Null Count  Dtype \n",
      "---  ------           --------------  ----- \n",
      " 0   User ID          400 non-null    int64 \n",
      " 1   Gender           400 non-null    object\n",
      " 2   Age              400 non-null    int64 \n",
      " 3   EstimatedSalary  400 non-null    int64 \n",
      " 4   Purchased        400 non-null    int64 \n",
      "dtypes: int64(4), object(1)\n",
      "memory usage: 15.8+ KB\n"
     ]
    }
   ],
   "source": [
    "data.info()"
   ]
  },
  {
   "cell_type": "code",
   "execution_count": 4,
   "id": "e8acf4f7",
   "metadata": {},
   "outputs": [
    {
     "data": {
      "text/plain": [
       "(400, 5)"
      ]
     },
     "execution_count": 4,
     "metadata": {},
     "output_type": "execute_result"
    }
   ],
   "source": [
    "data.shape"
   ]
  },
  {
   "cell_type": "code",
   "execution_count": 5,
   "id": "e460a71b",
   "metadata": {},
   "outputs": [
    {
     "data": {
      "text/plain": [
       "User ID            0\n",
       "Gender             0\n",
       "Age                0\n",
       "EstimatedSalary    0\n",
       "Purchased          0\n",
       "dtype: int64"
      ]
     },
     "execution_count": 5,
     "metadata": {},
     "output_type": "execute_result"
    }
   ],
   "source": [
    "data.isna().sum()"
   ]
  },
  {
   "cell_type": "markdown",
   "id": "8ddd6fe0",
   "metadata": {},
   "source": [
    "No Null values present in dataset"
   ]
  },
  {
   "cell_type": "code",
   "execution_count": 6,
   "id": "f21774c7",
   "metadata": {},
   "outputs": [
    {
     "data": {
      "text/plain": [
       "Female    0.51\n",
       "Male      0.49\n",
       "Name: Gender, dtype: float64"
      ]
     },
     "execution_count": 6,
     "metadata": {},
     "output_type": "execute_result"
    }
   ],
   "source": [
    "#Checking gender\n",
    "data.Gender.value_counts(normalize=True)"
   ]
  },
  {
   "cell_type": "markdown",
   "id": "43983870",
   "metadata": {},
   "source": [
    "In this dataset female customers consitute 51% while male customers constitute 49%. Since the 'Gender' column is an 'Object' type, it needs to be encoded using OneHot Encoding."
   ]
  },
  {
   "cell_type": "code",
   "execution_count": 7,
   "id": "9c01d365",
   "metadata": {},
   "outputs": [
    {
     "data": {
      "text/plain": [
       "0    0.6425\n",
       "1    0.3575\n",
       "Name: Purchased, dtype: float64"
      ]
     },
     "execution_count": 7,
     "metadata": {},
     "output_type": "execute_result"
    }
   ],
   "source": [
    "data.Purchased.value_counts(normalize=True)"
   ]
  },
  {
   "cell_type": "markdown",
   "id": "0e73d19f",
   "metadata": {},
   "source": [
    "64% in this dataset purchased items from website and 36% not purchased"
   ]
  },
  {
   "cell_type": "markdown",
   "id": "89c748a9",
   "metadata": {},
   "source": [
    "**OneHot Encoding**\n",
    "***"
   ]
  },
  {
   "cell_type": "code",
   "execution_count": 8,
   "id": "94708a6a",
   "metadata": {},
   "outputs": [],
   "source": [
    "data = pd.get_dummies(data = data, columns = ['Gender'])"
   ]
  },
  {
   "cell_type": "code",
   "execution_count": 9,
   "id": "69b045d6",
   "metadata": {},
   "outputs": [
    {
     "data": {
      "text/html": [
       "<div>\n",
       "<style scoped>\n",
       "    .dataframe tbody tr th:only-of-type {\n",
       "        vertical-align: middle;\n",
       "    }\n",
       "\n",
       "    .dataframe tbody tr th {\n",
       "        vertical-align: top;\n",
       "    }\n",
       "\n",
       "    .dataframe thead th {\n",
       "        text-align: right;\n",
       "    }\n",
       "</style>\n",
       "<table border=\"1\" class=\"dataframe\">\n",
       "  <thead>\n",
       "    <tr style=\"text-align: right;\">\n",
       "      <th></th>\n",
       "      <th>User ID</th>\n",
       "      <th>Age</th>\n",
       "      <th>EstimatedSalary</th>\n",
       "      <th>Purchased</th>\n",
       "      <th>Gender_Female</th>\n",
       "      <th>Gender_Male</th>\n",
       "    </tr>\n",
       "  </thead>\n",
       "  <tbody>\n",
       "    <tr>\n",
       "      <th>0</th>\n",
       "      <td>15624510</td>\n",
       "      <td>19</td>\n",
       "      <td>19000</td>\n",
       "      <td>0</td>\n",
       "      <td>0</td>\n",
       "      <td>1</td>\n",
       "    </tr>\n",
       "    <tr>\n",
       "      <th>1</th>\n",
       "      <td>15810944</td>\n",
       "      <td>35</td>\n",
       "      <td>20000</td>\n",
       "      <td>0</td>\n",
       "      <td>0</td>\n",
       "      <td>1</td>\n",
       "    </tr>\n",
       "    <tr>\n",
       "      <th>2</th>\n",
       "      <td>15668575</td>\n",
       "      <td>26</td>\n",
       "      <td>43000</td>\n",
       "      <td>0</td>\n",
       "      <td>1</td>\n",
       "      <td>0</td>\n",
       "    </tr>\n",
       "    <tr>\n",
       "      <th>3</th>\n",
       "      <td>15603246</td>\n",
       "      <td>27</td>\n",
       "      <td>57000</td>\n",
       "      <td>0</td>\n",
       "      <td>1</td>\n",
       "      <td>0</td>\n",
       "    </tr>\n",
       "    <tr>\n",
       "      <th>4</th>\n",
       "      <td>15804002</td>\n",
       "      <td>19</td>\n",
       "      <td>76000</td>\n",
       "      <td>0</td>\n",
       "      <td>0</td>\n",
       "      <td>1</td>\n",
       "    </tr>\n",
       "  </tbody>\n",
       "</table>\n",
       "</div>"
      ],
      "text/plain": [
       "    User ID  Age  EstimatedSalary  Purchased  Gender_Female  Gender_Male\n",
       "0  15624510   19            19000          0              0            1\n",
       "1  15810944   35            20000          0              0            1\n",
       "2  15668575   26            43000          0              1            0\n",
       "3  15603246   27            57000          0              1            0\n",
       "4  15804002   19            76000          0              0            1"
      ]
     },
     "execution_count": 9,
     "metadata": {},
     "output_type": "execute_result"
    }
   ],
   "source": [
    "data.head()"
   ]
  },
  {
   "cell_type": "markdown",
   "id": "71e452e1",
   "metadata": {},
   "source": [
    "**Splitting data**\n",
    "***"
   ]
  },
  {
   "cell_type": "code",
   "execution_count": 10,
   "id": "cf22c65b",
   "metadata": {},
   "outputs": [],
   "source": [
    "from sklearn.model_selection import train_test_split"
   ]
  },
  {
   "cell_type": "code",
   "execution_count": 11,
   "id": "5c8a93cb",
   "metadata": {},
   "outputs": [],
   "source": [
    "x = data.drop(columns=['User ID', 'Purchased'], axis = 1)\n",
    "y = data['Purchased']"
   ]
  },
  {
   "cell_type": "code",
   "execution_count": 12,
   "id": "4be2ee6d",
   "metadata": {},
   "outputs": [],
   "source": [
    "x_train, x_test, y_train, y_test = train_test_split(x, y, random_state=42, test_size=0.2)"
   ]
  },
  {
   "cell_type": "code",
   "execution_count": 13,
   "id": "84bf442c",
   "metadata": {},
   "outputs": [
    {
     "name": "stdout",
     "output_type": "stream",
     "text": [
      "(320, 4)\n",
      "(320,)\n"
     ]
    }
   ],
   "source": [
    "print(x_train.shape)\n",
    "print(y_train.shape)"
   ]
  },
  {
   "cell_type": "markdown",
   "id": "0bd9cdec",
   "metadata": {},
   "source": [
    "### 1. Logistic Regression Classifier\n",
    "***"
   ]
  },
  {
   "cell_type": "code",
   "execution_count": 14,
   "id": "6e9d338b",
   "metadata": {},
   "outputs": [],
   "source": [
    "from sklearn.linear_model import LogisticRegression\n",
    "from sklearn.metrics import f1_score, accuracy_score, precision_score, recall_score, confusion_matrix"
   ]
  },
  {
   "cell_type": "code",
   "execution_count": 15,
   "id": "1fcafd6e",
   "metadata": {},
   "outputs": [],
   "source": [
    "def generate_logi_model(x_train, y_train, x_test):\n",
    "    logi_model = LogisticRegression()\n",
    "    logi_model.fit(x_train, y_train)\n",
    "    return logi_model.predict(x_test)"
   ]
  },
  {
   "cell_type": "code",
   "execution_count": 16,
   "id": "1886aa92",
   "metadata": {},
   "outputs": [],
   "source": [
    "def check_model_metrices(y_test, y_pred):\n",
    "    print('Model Accuracy = ', accuracy_score(y_test, y_pred))\n",
    "    print('Model Precision = ', precision_score(y_test, y_pred))\n",
    "    print('Model Recall = ', recall_score(y_test, y_pred))\n",
    "    print('Model F1 Score = ', f1_score(y_test, y_pred))\n",
    "    print('Confusion Matrix = \\n', confusion_matrix(y_test, y_pred))"
   ]
  },
  {
   "cell_type": "code",
   "execution_count": 17,
   "id": "0154c983",
   "metadata": {},
   "outputs": [
    {
     "name": "stdout",
     "output_type": "stream",
     "text": [
      "Model Accuracy =  0.65\n",
      "Model Precision =  0.0\n",
      "Model Recall =  0.0\n",
      "Model F1 Score =  0.0\n",
      "Confusion Matrix = \n",
      " [[52  0]\n",
      " [28  0]]\n"
     ]
    },
    {
     "name": "stderr",
     "output_type": "stream",
     "text": [
      "C:\\Users\\sreeh\\anaconda3\\envs\\ictk\\lib\\site-packages\\sklearn\\metrics\\_classification.py:1308: UndefinedMetricWarning: Precision is ill-defined and being set to 0.0 due to no predicted samples. Use `zero_division` parameter to control this behavior.\n",
      "  _warn_prf(average, modifier, msg_start, len(result))\n"
     ]
    }
   ],
   "source": [
    "#Try 1\n",
    "lr_y_pred = generate_logi_model(x_train, y_train, x_test)\n",
    "check_model_metrices(y_test, lr_y_pred)"
   ]
  },
  {
   "cell_type": "markdown",
   "id": "a8dba63a",
   "metadata": {},
   "source": [
    "### 2. kNN Classifier\n",
    "***"
   ]
  },
  {
   "cell_type": "code",
   "execution_count": 18,
   "id": "d955d9d8",
   "metadata": {},
   "outputs": [],
   "source": [
    "from sklearn.neighbors import KNeighborsClassifier"
   ]
  },
  {
   "cell_type": "code",
   "execution_count": 19,
   "id": "649285c5",
   "metadata": {},
   "outputs": [],
   "source": [
    "def generate_kNN_model(x_train, y_train, x_test, k):\n",
    "    knn_model = KNeighborsClassifier(n_neighbors=k, metric='minkowski')\n",
    "    knn_model.fit(x_train, y_train)\n",
    "    return knn_model.predict(x_test)"
   ]
  },
  {
   "cell_type": "code",
   "execution_count": 20,
   "id": "c891113a",
   "metadata": {},
   "outputs": [],
   "source": [
    "# Optimizing 'k' or 'n-neighbers' value\n",
    "def find_optimal_k(x_train, y_train, x_test):\n",
    "    accur_dict = dict()\n",
    "    for k in np.arange(3,16):\n",
    "        y_pred = generate_kNN_model(x_train, y_train, x_test, k)\n",
    "        accur_dict[k] = accuracy_score(y_test, y_pred)\n",
    "    #Plot\n",
    "    print('Various k values accuracies :: ', accur_dict)\n",
    "    plt.plot(list(accur_dict.keys()),list(accur_dict.values()), marker ='o')\n",
    "    plt.title('k-Values vs Accuracy')\n",
    "    plt.show()\n",
    "    optimal_k = max(accur_dict, key = lambda x: accur_dict[x])\n",
    "    print('Best k value = ', optimal_k)\n",
    "    return optimal_k"
   ]
  },
  {
   "cell_type": "code",
   "execution_count": 21,
   "id": "e8cda189",
   "metadata": {},
   "outputs": [
    {
     "name": "stdout",
     "output_type": "stream",
     "text": [
      "Various k values accuracies ::  {3: 0.8, 4: 0.8, 5: 0.825, 6: 0.775, 7: 0.8125, 8: 0.775, 9: 0.8, 10: 0.775, 11: 0.8, 12: 0.775, 13: 0.75, 14: 0.7625, 15: 0.775}\n"
     ]
    },
    {
     "data": {
      "image/png": "[encoded data removed]",
      "text/plain": [
       "<Figure size 432x288 with 1 Axes>"
      ]
     },
     "metadata": {
      "needs_background": "light"
     },
     "output_type": "display_data"
    },
    {
     "name": "stdout",
     "output_type": "stream",
     "text": [
      "Best k value =  5\n"
     ]
    }
   ],
   "source": [
    "# Find Optimal k value\n",
    "k_optimal = find_optimal_k(x_train, y_train, x_test)"
   ]
  },
  {
   "cell_type": "code",
   "execution_count": 22,
   "id": "e4ed3ea9",
   "metadata": {},
   "outputs": [
    {
     "name": "stdout",
     "output_type": "stream",
     "text": [
      "kNN classifier with k = 5 has :: \n",
      "\n",
      "Model Accuracy =  0.825\n",
      "Model Precision =  0.7692307692307693\n",
      "Model Recall =  0.7142857142857143\n",
      "Model F1 Score =  0.7407407407407408\n",
      "Confusion Matrix = \n",
      " [[46  6]\n",
      " [ 8 20]]\n"
     ]
    }
   ],
   "source": [
    "# Model with k = 5 and check metrices\n",
    "knn_y_pred = generate_kNN_model(x_train, y_train, x_test, k_optimal)\n",
    "print(f'kNN classifier with k = {k_optimal} has :: \\n')\n",
    "check_model_metrices(y_test, knn_y_pred)"
   ]
  },
  {
   "cell_type": "markdown",
   "id": "4ff3272a",
   "metadata": {},
   "source": [
    "kNN classifer has produced an accuracy of 82.5%"
   ]
  },
  {
   "cell_type": "markdown",
   "id": "8f8927c4",
   "metadata": {},
   "source": [
    "### Scale and Re-Test to improve accuracy\n",
    "***"
   ]
  },
  {
   "cell_type": "code",
   "execution_count": 23,
   "id": "9d9b6403",
   "metadata": {},
   "outputs": [],
   "source": [
    "from sklearn.preprocessing import StandardScaler\n",
    "scaler = StandardScaler()\n",
    "x_train = scaler.fit_transform(x_train)\n",
    "x_test = scaler.fit_transform(x_test)"
   ]
  },
  {
   "cell_type": "code",
   "execution_count": 24,
   "id": "dd712963",
   "metadata": {},
   "outputs": [
    {
     "name": "stdout",
     "output_type": "stream",
     "text": [
      "Model Accuracy =  0.875\n",
      "Model Precision =  0.875\n",
      "Model Recall =  0.75\n",
      "Model F1 Score =  0.8076923076923077\n",
      "Confusion Matrix = \n",
      " [[49  3]\n",
      " [ 7 21]]\n"
     ]
    }
   ],
   "source": [
    "# Recheck Logistic Regression\n",
    "lr_y_pred = generate_logi_model(x_train, y_train, x_test)\n",
    "check_model_metrices(y_test, lr_y_pred)"
   ]
  },
  {
   "cell_type": "markdown",
   "id": "81abdc56",
   "metadata": {},
   "source": [
    "Accuracy of the model has gone to 87.5%"
   ]
  },
  {
   "cell_type": "code",
   "execution_count": 25,
   "id": "6cf7da95",
   "metadata": {},
   "outputs": [
    {
     "name": "stdout",
     "output_type": "stream",
     "text": [
      "Various k values accuracies ::  {3: 0.925, 4: 0.925, 5: 0.925, 6: 0.925, 7: 0.925, 8: 0.925, 9: 0.925, 10: 0.925, 11: 0.925, 12: 0.925, 13: 0.925, 14: 0.925, 15: 0.925}\n"
     ]
    },
    {
     "data": {
      "image/png": "[encoded data removed]",
      "text/plain": [
       "<Figure size 432x288 with 1 Axes>"
      ]
     },
     "metadata": {
      "needs_background": "light"
     },
     "output_type": "display_data"
    },
    {
     "name": "stdout",
     "output_type": "stream",
     "text": [
      "Best k value =  3\n",
      "Model Accuracy =  0.925\n",
      "Model Precision =  0.84375\n",
      "Model Recall =  0.9642857142857143\n",
      "Model F1 Score =  0.8999999999999999\n",
      "Confusion Matrix = \n",
      " [[47  5]\n",
      " [ 1 27]]\n"
     ]
    }
   ],
   "source": [
    "# Recheck kNN classifier\n",
    "k_optimal = find_optimal_k(x_train, y_train, x_test)\n",
    "knn_y_pred = generate_kNN_model(x_train, y_train, x_test, k_optimal)\n",
    "check_model_metrices(y_test, knn_y_pred)"
   ]
  },
  {
   "cell_type": "markdown",
   "id": "8b02ad4b",
   "metadata": {},
   "source": [
    "Accuracy of kNN model has increased to 92.5%"
   ]
  },
  {
   "cell_type": "markdown",
   "id": "fbe7234a",
   "metadata": {},
   "source": [
    "### 3. Decision Tree Classifier\n",
    "***"
   ]
  },
  {
   "cell_type": "code",
   "execution_count": 26,
   "id": "acf8ef39",
   "metadata": {},
   "outputs": [],
   "source": [
    "from sklearn.tree import DecisionTreeClassifier"
   ]
  },
  {
   "cell_type": "code",
   "execution_count": 27,
   "id": "fa13b712",
   "metadata": {},
   "outputs": [],
   "source": [
    "dt_model = DecisionTreeClassifier()\n",
    "dt_model.fit(x_train, y_train)\n",
    "dt_pred = dt_model.predict(x_test)"
   ]
  },
  {
   "cell_type": "code",
   "execution_count": 28,
   "id": "e5fc084f",
   "metadata": {},
   "outputs": [
    {
     "name": "stdout",
     "output_type": "stream",
     "text": [
      "Model Accuracy =  0.825\n",
      "Model Precision =  0.71875\n",
      "Model Recall =  0.8214285714285714\n",
      "Model F1 Score =  0.7666666666666666\n",
      "Confusion Matrix = \n",
      " [[43  9]\n",
      " [ 5 23]]\n"
     ]
    }
   ],
   "source": [
    "check_model_metrices(y_test, dt_pred)"
   ]
  },
  {
   "cell_type": "markdown",
   "id": "c94276f4",
   "metadata": {},
   "source": [
    "### 4.  SVM Classifier\n",
    "***"
   ]
  },
  {
   "cell_type": "code",
   "execution_count": 29,
   "id": "6bef4c6f",
   "metadata": {},
   "outputs": [],
   "source": [
    "from sklearn.svm import SVC"
   ]
  },
  {
   "cell_type": "code",
   "execution_count": 30,
   "id": "ea9fc32a",
   "metadata": {},
   "outputs": [
    {
     "name": "stdout",
     "output_type": "stream",
     "text": [
      "Model Accuracy =  0.85\n",
      "Model Precision =  0.8333333333333334\n",
      "Model Recall =  0.7142857142857143\n",
      "Model F1 Score =  0.7692307692307692\n",
      "Confusion Matrix = \n",
      " [[48  4]\n",
      " [ 8 20]]\n"
     ]
    }
   ],
   "source": [
    "# Linear Model\n",
    "svc_linear = SVC(kernel='linear')\n",
    "svc_linear.fit(x_train, y_train)\n",
    "svc_linear_pred = svc_linear.predict(x_test)\n",
    "check_model_metrices(y_test, svc_linear_pred)"
   ]
  },
  {
   "cell_type": "code",
   "execution_count": 31,
   "id": "f11d924b",
   "metadata": {},
   "outputs": [
    {
     "name": "stdout",
     "output_type": "stream",
     "text": [
      "Model Accuracy =  0.775\n",
      "Model Precision =  0.7777777777777778\n",
      "Model Recall =  0.5\n",
      "Model F1 Score =  0.6086956521739131\n",
      "Confusion Matrix = \n",
      " [[48  4]\n",
      " [14 14]]\n"
     ]
    }
   ],
   "source": [
    "# Polynomial Model\n",
    "svc_poly = SVC(kernel='poly', degree = 4)\n",
    "svc_poly.fit(x_train, y_train)\n",
    "svc_poly_pred = svc_poly.predict(x_test)\n",
    "check_model_metrices(y_test, svc_poly_pred)"
   ]
  },
  {
   "cell_type": "code",
   "execution_count": 32,
   "id": "5edd7aa3",
   "metadata": {},
   "outputs": [
    {
     "name": "stdout",
     "output_type": "stream",
     "text": [
      "Model Accuracy =  0.9125\n",
      "Model Precision =  0.8387096774193549\n",
      "Model Recall =  0.9285714285714286\n",
      "Model F1 Score =  0.8813559322033899\n",
      "Confusion Matrix = \n",
      " [[47  5]\n",
      " [ 2 26]]\n"
     ]
    }
   ],
   "source": [
    "# RBF Model\n",
    "svc_rbf = SVC(kernel='rbf')\n",
    "svc_rbf.fit(x_train, y_train)\n",
    "svc_rbf_pred = svc_rbf.predict(x_test)\n",
    "check_model_metrices(y_test, svc_rbf_pred)"
   ]
  },
  {
   "cell_type": "markdown",
   "id": "f5033776",
   "metadata": {},
   "source": [
    "From the above three model it is clear that RBF(Radial Basis Function) classifier scored highest accuracy score of 91.25%"
   ]
  }
 ],
 "metadata": {
  "kernelspec": {
   "display_name": "Python (ICTK)",
   "language": "python",
   "name": "ictk"
  },
  "language_info": {
   "codemirror_mode": {
    "name": "ipython",
    "version": 3
   },
   "file_extension": ".py",
   "mimetype": "text/x-python",
   "name": "python",
   "nbconvert_exporter": "python",
   "pygments_lexer": "ipython3",
   "version": "3.8.12"
  }
 },
 "nbformat": 4,
 "nbformat_minor": 5
}
