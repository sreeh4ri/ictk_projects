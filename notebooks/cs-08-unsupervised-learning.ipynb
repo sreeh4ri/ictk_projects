{
 "cells": [
  {
   "cell_type": "markdown",
   "id": "e8c6ede3-1b18-493e-a23e-42a70fed671a",
   "metadata": {},
   "source": [
    "# Case study on Unsupervised Learning\n",
    "**Sreehari P S**<br>\n",
    "*NORKA B5*\n",
    "***"
   ]
  },
  {
   "cell_type": "markdown",
   "id": "70f1381d-859a-4d71-b64e-15ffdc2c9758",
   "metadata": {},
   "source": [
    "Do the following in the wine dataset.<br>\n",
    "1. Read the dataset to the python environment.\n",
    "2. Try out different clustering models in the wine dataset.\n",
    "3. Find the optimum number of clusters in each model and create the model with the optimum number of clusters"
   ]
  },
  {
   "cell_type": "code",
   "execution_count": 1,
   "id": "717b8086-3ceb-481a-b60d-76edbd5595b8",
   "metadata": {},
   "outputs": [],
   "source": [
    "import matplotlib.pyplot as plt\n",
    "import seaborn as sns\n",
    "import numpy as np\n",
    "import pandas as pd"
   ]
  },
  {
   "cell_type": "code",
   "execution_count": 2,
   "id": "ac4e1ef7-3305-47a8-bcf9-c5255b4a5a2c",
   "metadata": {},
   "outputs": [
    {
     "data": {
      "text/html": [
       "<div>\n",
       "<style scoped>\n",
       "    .dataframe tbody tr th:only-of-type {\n",
       "        vertical-align: middle;\n",
       "    }\n",
       "\n",
       "    .dataframe tbody tr th {\n",
       "        vertical-align: top;\n",
       "    }\n",
       "\n",
       "    .dataframe thead th {\n",
       "        text-align: right;\n",
       "    }\n",
       "</style>\n",
       "<table border=\"1\" class=\"dataframe\">\n",
       "  <thead>\n",
       "    <tr style=\"text-align: right;\">\n",
       "      <th></th>\n",
       "      <th>Alcohol</th>\n",
       "      <th>Malic_Acid</th>\n",
       "      <th>Ash</th>\n",
       "      <th>Ash_Alcanity</th>\n",
       "      <th>Magnesium</th>\n",
       "      <th>Total_Phenols</th>\n",
       "      <th>Flavanoids</th>\n",
       "      <th>Nonflavanoid_Phenols</th>\n",
       "      <th>Proanthocyanins</th>\n",
       "      <th>Color_Intensity</th>\n",
       "      <th>Hue</th>\n",
       "      <th>OD280</th>\n",
       "      <th>Proline</th>\n",
       "    </tr>\n",
       "  </thead>\n",
       "  <tbody>\n",
       "    <tr>\n",
       "      <th>0</th>\n",
       "      <td>14.23</td>\n",
       "      <td>1.71</td>\n",
       "      <td>2.43</td>\n",
       "      <td>15.6</td>\n",
       "      <td>127</td>\n",
       "      <td>2.80</td>\n",
       "      <td>3.06</td>\n",
       "      <td>0.28</td>\n",
       "      <td>2.29</td>\n",
       "      <td>5.64</td>\n",
       "      <td>1.04</td>\n",
       "      <td>3.92</td>\n",
       "      <td>1065</td>\n",
       "    </tr>\n",
       "    <tr>\n",
       "      <th>1</th>\n",
       "      <td>13.20</td>\n",
       "      <td>1.78</td>\n",
       "      <td>2.14</td>\n",
       "      <td>11.2</td>\n",
       "      <td>100</td>\n",
       "      <td>2.65</td>\n",
       "      <td>2.76</td>\n",
       "      <td>0.26</td>\n",
       "      <td>1.28</td>\n",
       "      <td>4.38</td>\n",
       "      <td>1.05</td>\n",
       "      <td>3.40</td>\n",
       "      <td>1050</td>\n",
       "    </tr>\n",
       "    <tr>\n",
       "      <th>2</th>\n",
       "      <td>13.16</td>\n",
       "      <td>2.36</td>\n",
       "      <td>2.67</td>\n",
       "      <td>18.6</td>\n",
       "      <td>101</td>\n",
       "      <td>2.80</td>\n",
       "      <td>3.24</td>\n",
       "      <td>0.30</td>\n",
       "      <td>2.81</td>\n",
       "      <td>5.68</td>\n",
       "      <td>1.03</td>\n",
       "      <td>3.17</td>\n",
       "      <td>1185</td>\n",
       "    </tr>\n",
       "    <tr>\n",
       "      <th>3</th>\n",
       "      <td>14.37</td>\n",
       "      <td>1.95</td>\n",
       "      <td>2.50</td>\n",
       "      <td>16.8</td>\n",
       "      <td>113</td>\n",
       "      <td>3.85</td>\n",
       "      <td>3.49</td>\n",
       "      <td>0.24</td>\n",
       "      <td>2.18</td>\n",
       "      <td>7.80</td>\n",
       "      <td>0.86</td>\n",
       "      <td>3.45</td>\n",
       "      <td>1480</td>\n",
       "    </tr>\n",
       "    <tr>\n",
       "      <th>4</th>\n",
       "      <td>13.24</td>\n",
       "      <td>2.59</td>\n",
       "      <td>2.87</td>\n",
       "      <td>21.0</td>\n",
       "      <td>118</td>\n",
       "      <td>2.80</td>\n",
       "      <td>2.69</td>\n",
       "      <td>0.39</td>\n",
       "      <td>1.82</td>\n",
       "      <td>4.32</td>\n",
       "      <td>1.04</td>\n",
       "      <td>2.93</td>\n",
       "      <td>735</td>\n",
       "    </tr>\n",
       "  </tbody>\n",
       "</table>\n",
       "</div>"
      ],
      "text/plain": [
       "   Alcohol  Malic_Acid   Ash  Ash_Alcanity  Magnesium  Total_Phenols  \\\n",
       "0    14.23        1.71  2.43          15.6        127           2.80   \n",
       "1    13.20        1.78  2.14          11.2        100           2.65   \n",
       "2    13.16        2.36  2.67          18.6        101           2.80   \n",
       "3    14.37        1.95  2.50          16.8        113           3.85   \n",
       "4    13.24        2.59  2.87          21.0        118           2.80   \n",
       "\n",
       "   Flavanoids  Nonflavanoid_Phenols  Proanthocyanins  Color_Intensity   Hue  \\\n",
       "0        3.06                  0.28             2.29             5.64  1.04   \n",
       "1        2.76                  0.26             1.28             4.38  1.05   \n",
       "2        3.24                  0.30             2.81             5.68  1.03   \n",
       "3        3.49                  0.24             2.18             7.80  0.86   \n",
       "4        2.69                  0.39             1.82             4.32  1.04   \n",
       "\n",
       "   OD280  Proline  \n",
       "0   3.92     1065  \n",
       "1   3.40     1050  \n",
       "2   3.17     1185  \n",
       "3   3.45     1480  \n",
       "4   2.93      735  "
      ]
     },
     "execution_count": 2,
     "metadata": {},
     "output_type": "execute_result"
    }
   ],
   "source": [
    "df = pd.read_csv(\"./datasets/Wine.csv\")\n",
    "df.head()"
   ]
  },
  {
   "cell_type": "code",
   "execution_count": 4,
   "id": "1d0df858-78db-444c-8cb6-1e7414c0aba3",
   "metadata": {},
   "outputs": [
    {
     "data": {
      "text/plain": [
       "(178, 13)"
      ]
     },
     "execution_count": 4,
     "metadata": {},
     "output_type": "execute_result"
    }
   ],
   "source": [
    "df.shape"
   ]
  },
  {
   "cell_type": "code",
   "execution_count": 9,
   "id": "1087fdf7-be10-4bdc-8775-c737e5c6f806",
   "metadata": {},
   "outputs": [
    {
     "name": "stdout",
     "output_type": "stream",
     "text": [
      "<class 'pandas.core.frame.DataFrame'>\n",
      "RangeIndex: 178 entries, 0 to 177\n",
      "Data columns (total 13 columns):\n",
      " #   Column                Non-Null Count  Dtype  \n",
      "---  ------                --------------  -----  \n",
      " 0   Alcohol               178 non-null    float64\n",
      " 1   Malic_Acid            178 non-null    float64\n",
      " 2   Ash                   178 non-null    float64\n",
      " 3   Ash_Alcanity          178 non-null    float64\n",
      " 4   Magnesium             178 non-null    int64  \n",
      " 5   Total_Phenols         178 non-null    float64\n",
      " 6   Flavanoids            178 non-null    float64\n",
      " 7   Nonflavanoid_Phenols  178 non-null    float64\n",
      " 8   Proanthocyanins       178 non-null    float64\n",
      " 9   Color_Intensity       178 non-null    float64\n",
      " 10  Hue                   178 non-null    float64\n",
      " 11  OD280                 178 non-null    float64\n",
      " 12  Proline               178 non-null    int64  \n",
      "dtypes: float64(11), int64(2)\n",
      "memory usage: 18.2 KB\n"
     ]
    }
   ],
   "source": [
    "df.info()"
   ]
  },
  {
   "cell_type": "code",
   "execution_count": 3,
   "id": "05ad3144-1209-4372-ba61-333af1b1fe85",
   "metadata": {},
   "outputs": [
    {
     "data": {
      "text/plain": [
       "Alcohol                 0\n",
       "Malic_Acid              0\n",
       "Ash                     0\n",
       "Ash_Alcanity            0\n",
       "Magnesium               0\n",
       "Total_Phenols           0\n",
       "Flavanoids              0\n",
       "Nonflavanoid_Phenols    0\n",
       "Proanthocyanins         0\n",
       "Color_Intensity         0\n",
       "Hue                     0\n",
       "OD280                   0\n",
       "Proline                 0\n",
       "dtype: int64"
      ]
     },
     "execution_count": 3,
     "metadata": {},
     "output_type": "execute_result"
    }
   ],
   "source": [
    "df.isna().sum()"
   ]
  },
  {
   "cell_type": "markdown",
   "id": "886e1000-64d6-4371-a96c-9fa79264dfd4",
   "metadata": {},
   "source": [
    "No Null values are present"
   ]
  },
  {
   "cell_type": "code",
   "execution_count": 6,
   "id": "4d15cc9c-76de-4c55-b0b6-369f8362a1ae",
   "metadata": {},
   "outputs": [
    {
     "data": {
      "text/html": [
       "<div>\n",
       "<style scoped>\n",
       "    .dataframe tbody tr th:only-of-type {\n",
       "        vertical-align: middle;\n",
       "    }\n",
       "\n",
       "    .dataframe tbody tr th {\n",
       "        vertical-align: top;\n",
       "    }\n",
       "\n",
       "    .dataframe thead th {\n",
       "        text-align: right;\n",
       "    }\n",
       "</style>\n",
       "<table border=\"1\" class=\"dataframe\">\n",
       "  <thead>\n",
       "    <tr style=\"text-align: right;\">\n",
       "      <th></th>\n",
       "      <th>Alcohol</th>\n",
       "      <th>Malic_Acid</th>\n",
       "      <th>Ash</th>\n",
       "      <th>Ash_Alcanity</th>\n",
       "      <th>Magnesium</th>\n",
       "      <th>Total_Phenols</th>\n",
       "      <th>Flavanoids</th>\n",
       "      <th>Nonflavanoid_Phenols</th>\n",
       "      <th>Proanthocyanins</th>\n",
       "      <th>Color_Intensity</th>\n",
       "      <th>Hue</th>\n",
       "      <th>OD280</th>\n",
       "      <th>Proline</th>\n",
       "    </tr>\n",
       "  </thead>\n",
       "  <tbody>\n",
       "    <tr>\n",
       "      <th>count</th>\n",
       "      <td>178.000000</td>\n",
       "      <td>178.000000</td>\n",
       "      <td>178.000000</td>\n",
       "      <td>178.000000</td>\n",
       "      <td>178.000000</td>\n",
       "      <td>178.000000</td>\n",
       "      <td>178.000000</td>\n",
       "      <td>178.000000</td>\n",
       "      <td>178.000000</td>\n",
       "      <td>178.000000</td>\n",
       "      <td>178.000000</td>\n",
       "      <td>178.000000</td>\n",
       "      <td>178.000000</td>\n",
       "    </tr>\n",
       "    <tr>\n",
       "      <th>mean</th>\n",
       "      <td>13.000618</td>\n",
       "      <td>2.336348</td>\n",
       "      <td>2.366517</td>\n",
       "      <td>19.494944</td>\n",
       "      <td>99.741573</td>\n",
       "      <td>2.295112</td>\n",
       "      <td>2.029270</td>\n",
       "      <td>0.361854</td>\n",
       "      <td>1.590899</td>\n",
       "      <td>5.058090</td>\n",
       "      <td>0.957449</td>\n",
       "      <td>2.611685</td>\n",
       "      <td>746.893258</td>\n",
       "    </tr>\n",
       "    <tr>\n",
       "      <th>std</th>\n",
       "      <td>0.811827</td>\n",
       "      <td>1.117146</td>\n",
       "      <td>0.274344</td>\n",
       "      <td>3.339564</td>\n",
       "      <td>14.282484</td>\n",
       "      <td>0.625851</td>\n",
       "      <td>0.998859</td>\n",
       "      <td>0.124453</td>\n",
       "      <td>0.572359</td>\n",
       "      <td>2.318286</td>\n",
       "      <td>0.228572</td>\n",
       "      <td>0.709990</td>\n",
       "      <td>314.907474</td>\n",
       "    </tr>\n",
       "    <tr>\n",
       "      <th>min</th>\n",
       "      <td>11.030000</td>\n",
       "      <td>0.740000</td>\n",
       "      <td>1.360000</td>\n",
       "      <td>10.600000</td>\n",
       "      <td>70.000000</td>\n",
       "      <td>0.980000</td>\n",
       "      <td>0.340000</td>\n",
       "      <td>0.130000</td>\n",
       "      <td>0.410000</td>\n",
       "      <td>1.280000</td>\n",
       "      <td>0.480000</td>\n",
       "      <td>1.270000</td>\n",
       "      <td>278.000000</td>\n",
       "    </tr>\n",
       "    <tr>\n",
       "      <th>25%</th>\n",
       "      <td>12.362500</td>\n",
       "      <td>1.602500</td>\n",
       "      <td>2.210000</td>\n",
       "      <td>17.200000</td>\n",
       "      <td>88.000000</td>\n",
       "      <td>1.742500</td>\n",
       "      <td>1.205000</td>\n",
       "      <td>0.270000</td>\n",
       "      <td>1.250000</td>\n",
       "      <td>3.220000</td>\n",
       "      <td>0.782500</td>\n",
       "      <td>1.937500</td>\n",
       "      <td>500.500000</td>\n",
       "    </tr>\n",
       "    <tr>\n",
       "      <th>50%</th>\n",
       "      <td>13.050000</td>\n",
       "      <td>1.865000</td>\n",
       "      <td>2.360000</td>\n",
       "      <td>19.500000</td>\n",
       "      <td>98.000000</td>\n",
       "      <td>2.355000</td>\n",
       "      <td>2.135000</td>\n",
       "      <td>0.340000</td>\n",
       "      <td>1.555000</td>\n",
       "      <td>4.690000</td>\n",
       "      <td>0.965000</td>\n",
       "      <td>2.780000</td>\n",
       "      <td>673.500000</td>\n",
       "    </tr>\n",
       "    <tr>\n",
       "      <th>75%</th>\n",
       "      <td>13.677500</td>\n",
       "      <td>3.082500</td>\n",
       "      <td>2.557500</td>\n",
       "      <td>21.500000</td>\n",
       "      <td>107.000000</td>\n",
       "      <td>2.800000</td>\n",
       "      <td>2.875000</td>\n",
       "      <td>0.437500</td>\n",
       "      <td>1.950000</td>\n",
       "      <td>6.200000</td>\n",
       "      <td>1.120000</td>\n",
       "      <td>3.170000</td>\n",
       "      <td>985.000000</td>\n",
       "    </tr>\n",
       "    <tr>\n",
       "      <th>max</th>\n",
       "      <td>14.830000</td>\n",
       "      <td>5.800000</td>\n",
       "      <td>3.230000</td>\n",
       "      <td>30.000000</td>\n",
       "      <td>162.000000</td>\n",
       "      <td>3.880000</td>\n",
       "      <td>5.080000</td>\n",
       "      <td>0.660000</td>\n",
       "      <td>3.580000</td>\n",
       "      <td>13.000000</td>\n",
       "      <td>1.710000</td>\n",
       "      <td>4.000000</td>\n",
       "      <td>1680.000000</td>\n",
       "    </tr>\n",
       "  </tbody>\n",
       "</table>\n",
       "</div>"
      ],
      "text/plain": [
       "          Alcohol  Malic_Acid         Ash  Ash_Alcanity   Magnesium  \\\n",
       "count  178.000000  178.000000  178.000000    178.000000  178.000000   \n",
       "mean    13.000618    2.336348    2.366517     19.494944   99.741573   \n",
       "std      0.811827    1.117146    0.274344      3.339564   14.282484   \n",
       "min     11.030000    0.740000    1.360000     10.600000   70.000000   \n",
       "25%     12.362500    1.602500    2.210000     17.200000   88.000000   \n",
       "50%     13.050000    1.865000    2.360000     19.500000   98.000000   \n",
       "75%     13.677500    3.082500    2.557500     21.500000  107.000000   \n",
       "max     14.830000    5.800000    3.230000     30.000000  162.000000   \n",
       "\n",
       "       Total_Phenols  Flavanoids  Nonflavanoid_Phenols  Proanthocyanins  \\\n",
       "count     178.000000  178.000000            178.000000       178.000000   \n",
       "mean        2.295112    2.029270              0.361854         1.590899   \n",
       "std         0.625851    0.998859              0.124453         0.572359   \n",
       "min         0.980000    0.340000              0.130000         0.410000   \n",
       "25%         1.742500    1.205000              0.270000         1.250000   \n",
       "50%         2.355000    2.135000              0.340000         1.555000   \n",
       "75%         2.800000    2.875000              0.437500         1.950000   \n",
       "max         3.880000    5.080000              0.660000         3.580000   \n",
       "\n",
       "       Color_Intensity         Hue       OD280      Proline  \n",
       "count       178.000000  178.000000  178.000000   178.000000  \n",
       "mean          5.058090    0.957449    2.611685   746.893258  \n",
       "std           2.318286    0.228572    0.709990   314.907474  \n",
       "min           1.280000    0.480000    1.270000   278.000000  \n",
       "25%           3.220000    0.782500    1.937500   500.500000  \n",
       "50%           4.690000    0.965000    2.780000   673.500000  \n",
       "75%           6.200000    1.120000    3.170000   985.000000  \n",
       "max          13.000000    1.710000    4.000000  1680.000000  "
      ]
     },
     "execution_count": 6,
     "metadata": {},
     "output_type": "execute_result"
    }
   ],
   "source": [
    "df.describe()"
   ]
  },
  {
   "cell_type": "markdown",
   "id": "44247104-675e-4236-a548-5c56927d1158",
   "metadata": {},
   "source": [
    "#### Normalize\n",
    "***"
   ]
  },
  {
   "cell_type": "code",
   "execution_count": 8,
   "id": "a83358a6-5286-4c3a-a77f-4e6c3ad7e112",
   "metadata": {},
   "outputs": [
    {
     "data": {
      "text/html": [
       "<div>\n",
       "<style scoped>\n",
       "    .dataframe tbody tr th:only-of-type {\n",
       "        vertical-align: middle;\n",
       "    }\n",
       "\n",
       "    .dataframe tbody tr th {\n",
       "        vertical-align: top;\n",
       "    }\n",
       "\n",
       "    .dataframe thead th {\n",
       "        text-align: right;\n",
       "    }\n",
       "</style>\n",
       "<table border=\"1\" class=\"dataframe\">\n",
       "  <thead>\n",
       "    <tr style=\"text-align: right;\">\n",
       "      <th></th>\n",
       "      <th>Alcohol</th>\n",
       "      <th>Malic_Acid</th>\n",
       "      <th>Ash</th>\n",
       "      <th>Ash_Alcanity</th>\n",
       "      <th>Magnesium</th>\n",
       "      <th>Total_Phenols</th>\n",
       "      <th>Flavanoids</th>\n",
       "      <th>Nonflavanoid_Phenols</th>\n",
       "      <th>Proanthocyanins</th>\n",
       "      <th>Color_Intensity</th>\n",
       "      <th>Hue</th>\n",
       "      <th>OD280</th>\n",
       "      <th>Proline</th>\n",
       "    </tr>\n",
       "  </thead>\n",
       "  <tbody>\n",
       "    <tr>\n",
       "      <th>count</th>\n",
       "      <td>178.000000</td>\n",
       "      <td>178.000000</td>\n",
       "      <td>178.000000</td>\n",
       "      <td>178.000000</td>\n",
       "      <td>178.000000</td>\n",
       "      <td>178.000000</td>\n",
       "      <td>178.000000</td>\n",
       "      <td>178.000000</td>\n",
       "      <td>178.000000</td>\n",
       "      <td>178.000000</td>\n",
       "      <td>178.000000</td>\n",
       "      <td>178.000000</td>\n",
       "      <td>178.000000</td>\n",
       "    </tr>\n",
       "    <tr>\n",
       "      <th>mean</th>\n",
       "      <td>0.019950</td>\n",
       "      <td>0.003711</td>\n",
       "      <td>0.003644</td>\n",
       "      <td>0.031124</td>\n",
       "      <td>0.151541</td>\n",
       "      <td>0.003444</td>\n",
       "      <td>0.002973</td>\n",
       "      <td>0.000581</td>\n",
       "      <td>0.002396</td>\n",
       "      <td>0.007342</td>\n",
       "      <td>0.001477</td>\n",
       "      <td>0.003993</td>\n",
       "      <td>0.986018</td>\n",
       "    </tr>\n",
       "    <tr>\n",
       "      <th>std</th>\n",
       "      <td>0.007321</td>\n",
       "      <td>0.002499</td>\n",
       "      <td>0.001409</td>\n",
       "      <td>0.014671</td>\n",
       "      <td>0.054081</td>\n",
       "      <td>0.001543</td>\n",
       "      <td>0.001802</td>\n",
       "      <td>0.000327</td>\n",
       "      <td>0.001249</td>\n",
       "      <td>0.003843</td>\n",
       "      <td>0.000736</td>\n",
       "      <td>0.001979</td>\n",
       "      <td>0.010073</td>\n",
       "    </tr>\n",
       "    <tr>\n",
       "      <th>min</th>\n",
       "      <td>0.008428</td>\n",
       "      <td>0.000944</td>\n",
       "      <td>0.001473</td>\n",
       "      <td>0.007739</td>\n",
       "      <td>0.064147</td>\n",
       "      <td>0.001255</td>\n",
       "      <td>0.000637</td>\n",
       "      <td>0.000145</td>\n",
       "      <td>0.000554</td>\n",
       "      <td>0.002241</td>\n",
       "      <td>0.000579</td>\n",
       "      <td>0.001675</td>\n",
       "      <td>0.951812</td>\n",
       "    </tr>\n",
       "    <tr>\n",
       "      <th>25%</th>\n",
       "      <td>0.013548</td>\n",
       "      <td>0.001684</td>\n",
       "      <td>0.002359</td>\n",
       "      <td>0.017615</td>\n",
       "      <td>0.109775</td>\n",
       "      <td>0.002385</td>\n",
       "      <td>0.001746</td>\n",
       "      <td>0.000277</td>\n",
       "      <td>0.001515</td>\n",
       "      <td>0.004612</td>\n",
       "      <td>0.000970</td>\n",
       "      <td>0.002535</td>\n",
       "      <td>0.981687</td>\n",
       "    </tr>\n",
       "    <tr>\n",
       "      <th>50%</th>\n",
       "      <td>0.018984</td>\n",
       "      <td>0.003174</td>\n",
       "      <td>0.003468</td>\n",
       "      <td>0.030036</td>\n",
       "      <td>0.146777</td>\n",
       "      <td>0.002946</td>\n",
       "      <td>0.002721</td>\n",
       "      <td>0.000514</td>\n",
       "      <td>0.002030</td>\n",
       "      <td>0.005981</td>\n",
       "      <td>0.001232</td>\n",
       "      <td>0.003384</td>\n",
       "      <td>0.988441</td>\n",
       "    </tr>\n",
       "    <tr>\n",
       "      <th>75%</th>\n",
       "      <td>0.024783</td>\n",
       "      <td>0.004981</td>\n",
       "      <td>0.004506</td>\n",
       "      <td>0.040010</td>\n",
       "      <td>0.183082</td>\n",
       "      <td>0.003886</td>\n",
       "      <td>0.003551</td>\n",
       "      <td>0.000833</td>\n",
       "      <td>0.003040</td>\n",
       "      <td>0.008853</td>\n",
       "      <td>0.001834</td>\n",
       "      <td>0.004870</td>\n",
       "      <td>0.993564</td>\n",
       "    </tr>\n",
       "    <tr>\n",
       "      <th>max</th>\n",
       "      <td>0.041106</td>\n",
       "      <td>0.014852</td>\n",
       "      <td>0.007305</td>\n",
       "      <td>0.069703</td>\n",
       "      <td>0.297958</td>\n",
       "      <td>0.008404</td>\n",
       "      <td>0.010560</td>\n",
       "      <td>0.002008</td>\n",
       "      <td>0.007469</td>\n",
       "      <td>0.021876</td>\n",
       "      <td>0.004727</td>\n",
       "      <td>0.010858</td>\n",
       "      <td>0.997835</td>\n",
       "    </tr>\n",
       "  </tbody>\n",
       "</table>\n",
       "</div>"
      ],
      "text/plain": [
       "          Alcohol  Malic_Acid         Ash  Ash_Alcanity   Magnesium  \\\n",
       "count  178.000000  178.000000  178.000000    178.000000  178.000000   \n",
       "mean     0.019950    0.003711    0.003644      0.031124    0.151541   \n",
       "std      0.007321    0.002499    0.001409      0.014671    0.054081   \n",
       "min      0.008428    0.000944    0.001473      0.007739    0.064147   \n",
       "25%      0.013548    0.001684    0.002359      0.017615    0.109775   \n",
       "50%      0.018984    0.003174    0.003468      0.030036    0.146777   \n",
       "75%      0.024783    0.004981    0.004506      0.040010    0.183082   \n",
       "max      0.041106    0.014852    0.007305      0.069703    0.297958   \n",
       "\n",
       "       Total_Phenols  Flavanoids  Nonflavanoid_Phenols  Proanthocyanins  \\\n",
       "count     178.000000  178.000000            178.000000       178.000000   \n",
       "mean        0.003444    0.002973              0.000581         0.002396   \n",
       "std         0.001543    0.001802              0.000327         0.001249   \n",
       "min         0.001255    0.000637              0.000145         0.000554   \n",
       "25%         0.002385    0.001746              0.000277         0.001515   \n",
       "50%         0.002946    0.002721              0.000514         0.002030   \n",
       "75%         0.003886    0.003551              0.000833         0.003040   \n",
       "max         0.008404    0.010560              0.002008         0.007469   \n",
       "\n",
       "       Color_Intensity         Hue       OD280     Proline  \n",
       "count       178.000000  178.000000  178.000000  178.000000  \n",
       "mean          0.007342    0.001477    0.003993    0.986018  \n",
       "std           0.003843    0.000736    0.001979    0.010073  \n",
       "min           0.002241    0.000579    0.001675    0.951812  \n",
       "25%           0.004612    0.000970    0.002535    0.981687  \n",
       "50%           0.005981    0.001232    0.003384    0.988441  \n",
       "75%           0.008853    0.001834    0.004870    0.993564  \n",
       "max           0.021876    0.004727    0.010858    0.997835  "
      ]
     },
     "execution_count": 8,
     "metadata": {},
     "output_type": "execute_result"
    }
   ],
   "source": [
    "from sklearn.preprocessing import Normalizer\n",
    "data = pd.DataFrame(Normalizer().fit_transform(df), columns=df.columns)\n",
    "data.describe()"
   ]
  },
  {
   "cell_type": "markdown",
   "id": "7a3efd94-3538-404e-a499-c5cc3ab2b4a5",
   "metadata": {},
   "source": [
    "### 1. KMeans Clustering\n",
    "***"
   ]
  },
  {
   "cell_type": "code",
   "execution_count": 11,
   "id": "f642c61a-e7f0-4182-8705-487c684a8aae",
   "metadata": {},
   "outputs": [],
   "source": [
    "from sklearn.cluster import KMeans"
   ]
  },
  {
   "cell_type": "code",
   "execution_count": 30,
   "id": "7a7edbcc-c06b-4550-883e-2fc25892c20e",
   "metadata": {},
   "outputs": [
    {
     "data": {
      "image/png": "[encoded data removed]",
      "text/plain": [
       "<Figure size 1080x432 with 1 Axes>"
      ]
     },
     "metadata": {
      "needs_background": "light"
     },
     "output_type": "display_data"
    }
   ],
   "source": [
    "# Finding optimal clusters using Elbow diagram\n",
    "kpoints = range(2,10)\n",
    "inertias = []\n",
    "for k in kpoints:\n",
    "    inertias.append(KMeans(n_clusters=k, init = \"k-means++\", random_state=42).fit(data).inertia_)\n",
    "plt.figure(figsize = (15, 6))\n",
    "plt.plot(kpoints, inertias, \"-o\")\n",
    "plt.title(\"Number of Clusters vs Distance\")\n",
    "plt.xlabel(\"Number of Clusters\")\n",
    "plt.ylabel(\"Distance\")\n",
    "plt.show()"
   ]
  },
  {
   "cell_type": "markdown",
   "id": "f1910873-9bb9-4249-b402-4ed8ca23f54a",
   "metadata": {},
   "source": [
    "Optimal k = 5"
   ]
  },
  {
   "cell_type": "code",
   "execution_count": 32,
   "id": "aedb6a27-0f3e-464b-9c7b-b3782aa7b378",
   "metadata": {},
   "outputs": [],
   "source": [
    "model_kmeans = KMeans(n_clusters=5, init = \"k-means++\", random_state=42)\n",
    "model_kmeans.fit(data)\n",
    "kmean_clusters = model_kmeans.labels_"
   ]
  },
  {
   "cell_type": "code",
   "execution_count": 33,
   "id": "f089781b-9ac0-4616-995a-fda913e02a83",
   "metadata": {},
   "outputs": [
    {
     "data": {
      "text/plain": [
       "array([1, 2, 2, 2, 3, 2, 2, 2, 2, 2, 2, 2, 2, 2, 2, 2, 2, 2, 2, 1, 3, 1,\n",
       "       2, 2, 1, 1, 2, 2, 1, 2, 2, 2, 2, 2, 2, 2, 1, 2, 2, 3, 1, 2, 2, 1,\n",
       "       1, 2, 2, 2, 2, 2, 2, 2, 2, 2, 2, 2, 1, 2, 2, 3, 1, 0, 1, 0, 4, 1,\n",
       "       3, 3, 1, 0, 1, 0, 3, 1, 1, 0, 0, 0, 3, 0, 4, 1, 1, 3, 3, 0, 3, 3,\n",
       "       1, 1, 3, 3, 3, 4, 4, 3, 0, 0, 1, 0, 1, 3, 0, 0, 1, 4, 3, 3, 4, 1,\n",
       "       3, 4, 3, 0, 0, 0, 3, 4, 0, 3, 3, 4, 4, 0, 0, 0, 0, 0, 4, 1, 3, 0,\n",
       "       3, 3, 1, 1, 1, 3, 3, 3, 3, 1, 3, 3, 1, 1, 0, 1, 1, 0, 0, 0, 4, 1,\n",
       "       3, 1, 3, 1, 1, 1, 3, 3, 3, 3, 1, 3, 3, 1, 1, 3, 3, 3, 1, 1, 1, 1,\n",
       "       1, 3])"
      ]
     },
     "execution_count": 33,
     "metadata": {},
     "output_type": "execute_result"
    }
   ],
   "source": [
    "kmean_clusters"
   ]
  },
  {
   "cell_type": "code",
   "execution_count": 43,
   "id": "3faaea04-850a-4967-af4c-2e45740244f8",
   "metadata": {},
   "outputs": [
    {
     "data": {
      "image/png": "[encoded data removed]",
      "text/plain": [
       "<Figure size 432x288 with 1 Axes>"
      ]
     },
     "metadata": {
      "needs_background": "light"
     },
     "output_type": "display_data"
    }
   ],
   "source": [
    "plt.title(\"Alcohol and Proline\")\n",
    "plt.scatter(data[\"Alcohol\"], data[\"Proline\"], c = kmean_clusters)\n",
    "plt.xlabel(\"Alchol\")\n",
    "plt.ylabel(\"Proline\")\n",
    "plt.show()"
   ]
  },
  {
   "cell_type": "markdown",
   "id": "5ae0cc48-4572-4de2-b533-027217c93011",
   "metadata": {},
   "source": [
    "### 2. Agglomerative Clustering\n",
    "***"
   ]
  },
  {
   "cell_type": "code",
   "execution_count": 37,
   "id": "2fe148ff-c2b5-423e-b294-1cb1245a88da",
   "metadata": {},
   "outputs": [
    {
     "data": {
      "image/png": "[encoded data removed]",
      "text/plain": [
       "<Figure size 1080x432 with 1 Axes>"
      ]
     },
     "metadata": {
      "needs_background": "light"
     },
     "output_type": "display_data"
    }
   ],
   "source": [
    "from scipy.cluster.hierarchy import dendrogram, linkage\n",
    "plt.figure(figsize = (15, 6))\n",
    "plt.title(\"Dendrogram\")\n",
    "plt.hlines(0.2, 0, 5000, linestyles=\"dashed\")\n",
    "dend = dendrogram(linkage(data, method = \"ward\"))"
   ]
  },
  {
   "cell_type": "markdown",
   "id": "3ff97e01-a21a-45f9-9ab6-9f218205dbc0",
   "metadata": {},
   "source": [
    "Optimal k = 5"
   ]
  },
  {
   "cell_type": "code",
   "execution_count": 48,
   "id": "3c4d5910-be6b-49aa-be04-2860c1dfb908",
   "metadata": {},
   "outputs": [],
   "source": [
    "from sklearn.cluster import AgglomerativeClustering\n",
    "model_ag = AgglomerativeClustering(n_clusters= 5, affinity= \"euclidean\", linkage = \"ward\").fit(data)\n",
    "ag_clusters = model_ag.labels_"
   ]
  },
  {
   "cell_type": "code",
   "execution_count": 49,
   "id": "e9e54740-c506-429d-ab55-470742b7e3fe",
   "metadata": {},
   "outputs": [
    {
     "data": {
      "text/plain": [
       "array([1, 2, 2, 2, 0, 2, 2, 2, 2, 2, 2, 2, 2, 2, 2, 2, 2, 2, 2, 1, 0, 1,\n",
       "       2, 2, 1, 1, 2, 2, 1, 2, 2, 2, 2, 2, 2, 2, 1, 2, 2, 0, 1, 2, 2, 1,\n",
       "       1, 2, 2, 2, 2, 2, 2, 2, 2, 2, 2, 2, 1, 2, 2, 0, 1, 3, 1, 3, 4, 1,\n",
       "       0, 0, 1, 3, 1, 3, 0, 1, 1, 3, 3, 3, 0, 3, 4, 1, 1, 0, 0, 3, 0, 0,\n",
       "       1, 1, 0, 0, 0, 4, 4, 0, 3, 0, 1, 3, 1, 0, 3, 3, 1, 4, 0, 0, 4, 1,\n",
       "       0, 4, 0, 3, 3, 3, 0, 4, 3, 0, 0, 3, 4, 3, 3, 3, 3, 3, 4, 1, 0, 0,\n",
       "       0, 0, 1, 1, 1, 0, 0, 0, 0, 1, 0, 0, 1, 1, 0, 1, 1, 0, 3, 3, 4, 1,\n",
       "       0, 1, 0, 1, 1, 1, 0, 0, 0, 0, 1, 0, 0, 1, 1, 0, 0, 0, 1, 1, 1, 1,\n",
       "       1, 0], dtype=int64)"
      ]
     },
     "execution_count": 49,
     "metadata": {},
     "output_type": "execute_result"
    }
   ],
   "source": [
    "ag_clusters"
   ]
  },
  {
   "cell_type": "code",
   "execution_count": 50,
   "id": "b9d1dc2b-5745-43de-b491-726dc87c65ea",
   "metadata": {},
   "outputs": [
    {
     "data": {
      "image/png": "[encoded data removed]",
      "text/plain": [
       "<Figure size 432x288 with 1 Axes>"
      ]
     },
     "metadata": {
      "needs_background": "light"
     },
     "output_type": "display_data"
    }
   ],
   "source": [
    "plt.title(\"Alcohol and Proline\")\n",
    "plt.scatter(data[\"Alcohol\"], data[\"Magnesium\"], c = ag_clusters)\n",
    "plt.xlabel(\"Alchol\")\n",
    "plt.ylabel(\"Magnesium\")\n",
    "plt.show()"
   ]
  },
  {
   "cell_type": "markdown",
   "id": "370616cb-079c-4fef-9eb7-6061cbf8d60e",
   "metadata": {},
   "source": [
    "## Result\n",
    "***"
   ]
  },
  {
   "cell_type": "markdown",
   "id": "44be76c9-0b87-4ec3-a9fb-d2ae048e487c",
   "metadata": {},
   "source": [
    "The wine dataset can be divided into 5 clusters\n",
    "***"
   ]
  }
 ],
 "metadata": {
  "kernelspec": {
   "display_name": "Python (ICTK)",
   "language": "python",
   "name": "ictk"
  },
  "language_info": {
   "codemirror_mode": {
    "name": "ipython",
    "version": 3
   },
   "file_extension": ".py",
   "mimetype": "text/x-python",
   "name": "python",
   "nbconvert_exporter": "python",
   "pygments_lexer": "ipython3",
   "version": "3.8.12"
  }
 },
 "nbformat": 4,
 "nbformat_minor": 5
}
