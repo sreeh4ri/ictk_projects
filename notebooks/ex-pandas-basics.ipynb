{
 "cells": [
  {
   "cell_type": "markdown",
   "id": "8a4f7920",
   "metadata": {},
   "source": [
    "# Pandas Basics"
   ]
  },
  {
   "cell_type": "code",
   "execution_count": 1,
   "id": "46ea1bd1",
   "metadata": {},
   "outputs": [],
   "source": [
    "import pandas as pd"
   ]
  },
  {
   "cell_type": "markdown",
   "id": "0f9dce35",
   "metadata": {},
   "source": [
    "<h2>1. Series"
   ]
  },
  {
   "cell_type": "code",
   "execution_count": 2,
   "id": "dff232b6",
   "metadata": {},
   "outputs": [
    {
     "name": "stdout",
     "output_type": "stream",
     "text": [
      "<class 'pandas.core.series.Series'> \n",
      "\n",
      "[1, 2]\n",
      "[3, 4, 5]\n"
     ]
    }
   ],
   "source": [
    "# series is an array underhood\n",
    "# syntax :: pd.Series(data=None,index=None,dtype: 'Dtype | None' = None,name=None,copy: 'bool' = False, fastpath: 'bool' = False,)\n",
    "series = pd.Series([1,2,12,14,25],index = ['one','two','three', 'four','five'],name='simple')\n",
    "print(type(series),'\\n')\n",
    "\n",
    "# list of list series\n",
    "ls_series = pd.Series([[1,2],[2,3],[1,3,4,5]],index = ['one','two','three'],name='ls simple')\n",
    "print(ls_series.values[0])\n",
    "print(ls_series.values[2][1:]) #cool"
   ]
  },
  {
   "cell_type": "code",
   "execution_count": 3,
   "id": "1e9d46fd",
   "metadata": {},
   "outputs": [
    {
     "name": "stdout",
     "output_type": "stream",
     "text": [
      "one       1\n",
      "two       2\n",
      "three    12\n",
      "four     14\n",
      "five     25\n",
      "Name: simple, dtype: int64 \n",
      "\n",
      "<class 'numpy.ndarray'> [ 1  2 12 14 25] \n",
      "\n",
      "Index(['one', 'two', 'three', 'four', 'five'], dtype='object') \n",
      "\n",
      "min =  1\n",
      "max =  25\n"
     ]
    }
   ],
   "source": [
    "print(series,\"\\n\")\n",
    "# series values\n",
    "print(type(series.values),series.values,\"\\n\") # prints the ndarray of this series, type is numpy.ndarray\n",
    "# Series indices\n",
    "print(series.index,'\\n')\n",
    "#min \n",
    "print('min = ',series.min())\n",
    "#max\n",
    "print('max = ',series.max())"
   ]
  },
  {
   "cell_type": "markdown",
   "id": "9161ae20",
   "metadata": {},
   "source": [
    "<h5> Conditional retrieval"
   ]
  },
  {
   "cell_type": "code",
   "execution_count": 4,
   "id": "9005d7c4",
   "metadata": {},
   "outputs": [
    {
     "name": "stdout",
     "output_type": "stream",
     "text": [
      "one      False\n",
      "two      False\n",
      "three     True\n",
      "four      True\n",
      "five      True\n",
      "Name: simple, dtype: bool \n",
      "\n",
      "three    12\n",
      "four     14\n",
      "Name: simple, dtype: int64\n"
     ]
    }
   ],
   "source": [
    "print(series>2.6,'\\n') # return bool series indicating conditional matches\n",
    "print(series[(series>2) & (series<22)])"
   ]
  },
  {
   "cell_type": "code",
   "execution_count": 5,
   "id": "580c97bd",
   "metadata": {},
   "outputs": [
    {
     "name": "stdout",
     "output_type": "stream",
     "text": [
      "one      1\n",
      "two      2\n",
      "three    3\n",
      "four     4\n",
      "five     5\n",
      "Name: list series, dtype: int64 \n",
      "\n",
      "india     1.0\n",
      "usa       2.0\n",
      "france    NaN\n",
      "china     NaN\n",
      "Name: dict series, dtype: float64\n"
     ]
    }
   ],
   "source": [
    "# using data as list throws error if length mismatch occurs between values and indices\n",
    "data = [1,2,3,4,5] # Data must be 1-dimensional\n",
    "indices = ['one','two','three', 'four','five']\n",
    "list_series = pd.Series(data,index = indices,name='list series')\n",
    "print(list_series,\"\\n\")\n",
    "\n",
    "# using data as dict wont throw error if length mismatch occurs between values and indices\n",
    "# rather as new type is introduced , NaN\n",
    "#data = pd.Series({'temp1':1,'temp2':2,'temp3':[1,2,3]}) ERROR as Series is an array and \"int + sequence\" not allowed\n",
    "data = {'india':1,'usa':2,'temp3':3}\n",
    "indices = ['india','usa','france','china']\n",
    "dict_series = pd.Series(data, index=indices, name = 'dict series')\n",
    "print(dict_series)"
   ]
  },
  {
   "cell_type": "code",
   "execution_count": 6,
   "id": "8a844728",
   "metadata": {},
   "outputs": [
    {
     "name": "stdout",
     "output_type": "stream",
     "text": [
      "india     1.0\n",
      "usa       2.0\n",
      "france    NaN\n",
      "china     NaN\n",
      "Name: country series, dtype: float64 \n",
      "\n",
      "india     False\n",
      "usa       False\n",
      "france     True\n",
      "china      True\n",
      "Name: country series, dtype: bool \n",
      "\n",
      "india      True\n",
      "usa        True\n",
      "france    False\n",
      "china     False\n",
      "Name: country series, dtype: bool\n"
     ]
    }
   ],
   "source": [
    "# when a dictionary is passed as data, dict_keys are used as indices\n",
    "id = {'india':1,'usa':2,'temp3':3}\n",
    "countries = ['india','usa','france','china']\n",
    "country_series = pd.Series(id, index=countries, name = 'country series')\n",
    "print(country_series,\"\\n\")\n",
    "print(country_series.isna(),\"\\n\") # produces boolean series\n",
    "print(country_series.notna()) # produces boolean series"
   ]
  },
  {
   "cell_type": "code",
   "execution_count": 7,
   "id": "d240af50",
   "metadata": {},
   "outputs": [
    {
     "name": "stdout",
     "output_type": "stream",
     "text": [
      "france   NaN\n",
      "china    NaN\n",
      "Name: country series, dtype: float64 \n",
      "\n",
      "india    1.0\n",
      "usa      2.0\n",
      "Name: country series, dtype: float64\n"
     ]
    }
   ],
   "source": [
    "print(country_series[country_series.isna()],\"\\n\")\n",
    "print(country_series[country_series.notna()]) # fetching series by provideing a series\n",
    "# NaN denotes missing values"
   ]
  },
  {
   "cell_type": "code",
   "execution_count": null,
   "id": "6df5c431",
   "metadata": {},
   "outputs": [],
   "source": []
  }
 ],
 "metadata": {
  "kernelspec": {
   "display_name": "Python 3 (ipykernel)",
   "language": "python",
   "name": "python3"
  },
  "language_info": {
   "codemirror_mode": {
    "name": "ipython",
    "version": 3
   },
   "file_extension": ".py",
   "mimetype": "text/x-python",
   "name": "python",
   "nbconvert_exporter": "python",
   "pygments_lexer": "ipython3",
   "version": "3.8.12"
  }
 },
 "nbformat": 4,
 "nbformat_minor": 5
}
