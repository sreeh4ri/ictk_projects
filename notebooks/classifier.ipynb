{
 "cells": [
  {
   "cell_type": "markdown",
   "id": "eb15d811-7272-47a7-9590-d79a3426e270",
   "metadata": {},
   "source": [
    "# Classifier\n",
    "*Sreehari P S*\n",
    "***"
   ]
  },
  {
   "cell_type": "code",
   "execution_count": 1,
   "id": "75dc85e2-59e7-403a-8043-4fb5ee4c72ad",
   "metadata": {},
   "outputs": [],
   "source": [
    "import pandas as pd\n",
    "import numpy as np\n",
    "import matplotlib.pyplot as plt\n",
    "import pickle"
   ]
  },
  {
   "cell_type": "markdown",
   "id": "df32675f-42ac-4545-910c-fe31227abba0",
   "metadata": {},
   "source": [
    "### Fetch processed dataframe from pickle file\n",
    "***"
   ]
  },
  {
   "cell_type": "code",
   "execution_count": 2,
   "id": "acd71275-b337-478f-8d64-fc3aa00b4b9f",
   "metadata": {},
   "outputs": [
    {
     "data": {
      "text/html": [
       "<div>\n",
       "<style scoped>\n",
       "    .dataframe tbody tr th:only-of-type {\n",
       "        vertical-align: middle;\n",
       "    }\n",
       "\n",
       "    .dataframe tbody tr th {\n",
       "        vertical-align: top;\n",
       "    }\n",
       "\n",
       "    .dataframe thead th {\n",
       "        text-align: right;\n",
       "    }\n",
       "</style>\n",
       "<table border=\"1\" class=\"dataframe\">\n",
       "  <thead>\n",
       "    <tr style=\"text-align: right;\">\n",
       "      <th></th>\n",
       "      <th>User ID</th>\n",
       "      <th>Age</th>\n",
       "      <th>EstimatedSalary</th>\n",
       "      <th>Purchased</th>\n",
       "      <th>Gender_Female</th>\n",
       "      <th>Gender_Male</th>\n",
       "    </tr>\n",
       "  </thead>\n",
       "  <tbody>\n",
       "    <tr>\n",
       "      <th>0</th>\n",
       "      <td>15624510</td>\n",
       "      <td>19</td>\n",
       "      <td>19000</td>\n",
       "      <td>0</td>\n",
       "      <td>0</td>\n",
       "      <td>1</td>\n",
       "    </tr>\n",
       "    <tr>\n",
       "      <th>1</th>\n",
       "      <td>15810944</td>\n",
       "      <td>35</td>\n",
       "      <td>20000</td>\n",
       "      <td>0</td>\n",
       "      <td>0</td>\n",
       "      <td>1</td>\n",
       "    </tr>\n",
       "    <tr>\n",
       "      <th>2</th>\n",
       "      <td>15668575</td>\n",
       "      <td>26</td>\n",
       "      <td>43000</td>\n",
       "      <td>0</td>\n",
       "      <td>1</td>\n",
       "      <td>0</td>\n",
       "    </tr>\n",
       "    <tr>\n",
       "      <th>3</th>\n",
       "      <td>15603246</td>\n",
       "      <td>27</td>\n",
       "      <td>57000</td>\n",
       "      <td>0</td>\n",
       "      <td>1</td>\n",
       "      <td>0</td>\n",
       "    </tr>\n",
       "    <tr>\n",
       "      <th>4</th>\n",
       "      <td>15804002</td>\n",
       "      <td>19</td>\n",
       "      <td>76000</td>\n",
       "      <td>0</td>\n",
       "      <td>0</td>\n",
       "      <td>1</td>\n",
       "    </tr>\n",
       "  </tbody>\n",
       "</table>\n",
       "</div>"
      ],
      "text/plain": [
       "    User ID  Age  EstimatedSalary  Purchased  Gender_Female  Gender_Male\n",
       "0  15624510   19            19000          0              0            1\n",
       "1  15810944   35            20000          0              0            1\n",
       "2  15668575   26            43000          0              1            0\n",
       "3  15603246   27            57000          0              1            0\n",
       "4  15804002   19            76000          0              0            1"
      ]
     },
     "execution_count": 2,
     "metadata": {},
     "output_type": "execute_result"
    }
   ],
   "source": [
    "file_name = 'social-media-adds.pkl'\n",
    "pickle_file = open('./pickles/'+ file_name, 'rb')\n",
    "data = pickle.load(pickle_file)\n",
    "pickle_file.close()\n",
    "data.head()"
   ]
  },
  {
   "cell_type": "markdown",
   "id": "5958ccf0-7189-43a5-8e7c-c3d70da04241",
   "metadata": {},
   "source": [
    "### Extracting features"
   ]
  },
  {
   "cell_type": "code",
   "execution_count": 3,
   "id": "f47ddad8-5337-4ff6-807e-31d46d7e10e3",
   "metadata": {},
   "outputs": [
    {
     "data": {
      "text/plain": [
       "Index(['User ID', 'Age', 'EstimatedSalary', 'Purchased', 'Gender_Female',\n",
       "       'Gender_Male'],\n",
       "      dtype='object')"
      ]
     },
     "execution_count": 3,
     "metadata": {},
     "output_type": "execute_result"
    }
   ],
   "source": [
    "data.columns"
   ]
  },
  {
   "cell_type": "code",
   "execution_count": 4,
   "id": "b785017c-c7d3-4063-9bf5-ee715d370665",
   "metadata": {},
   "outputs": [],
   "source": [
    "X = data.drop(columns=['Purchased', 'User ID'], axis = 1)\n",
    "y = data['Purchased']"
   ]
  },
  {
   "cell_type": "code",
   "execution_count": 5,
   "id": "3a26c8e4-adad-4302-b69e-cfa7008f9ee8",
   "metadata": {},
   "outputs": [],
   "source": [
    "# Standard Scaler\n",
    "from sklearn.preprocessing import StandardScaler\n",
    "def standard_scale_data(dataframe):\n",
    "    return StandardScaler().fit_transform(data)"
   ]
  },
  {
   "cell_type": "markdown",
   "id": "2206e2ff-5256-42b2-9803-8bd486f514fa",
   "metadata": {},
   "source": [
    "### Split data sets"
   ]
  },
  {
   "cell_type": "code",
   "execution_count": 6,
   "id": "d3f95720-8139-445d-9d6e-b0d4f78eafca",
   "metadata": {},
   "outputs": [],
   "source": [
    "from sklearn.model_selection import train_test_split\n",
    "X_train, X_test, y_train, y_test = train_test_split(X, y, random_state=42, test_size=0.2)"
   ]
  },
  {
   "cell_type": "markdown",
   "id": "11489112-99e0-4467-8cf1-1420e81370b0",
   "metadata": {},
   "source": [
    "### Check Model Accuracy"
   ]
  },
  {
   "cell_type": "code",
   "execution_count": 7,
   "id": "b2b7998d-ce0d-4760-a50f-2304dca6d470",
   "metadata": {},
   "outputs": [],
   "source": [
    "# Function to check model performances\n",
    "import warnings\n",
    "warnings.filterwarnings(\"ignore\")\n",
    "from sklearn.metrics import classification_report, confusion_matrix\n",
    "def check_model_metrices(y_test, y_pred):\n",
    "    print(classification_report(y_test, y_pred))\n",
    "    print('Confusion Matrix = \\n', confusion_matrix(y_test, y_pred))"
   ]
  },
  {
   "cell_type": "markdown",
   "id": "4ae9bcc6-ad70-4b29-b601-d192c70859da",
   "metadata": {},
   "source": [
    "### Build Models\n",
    "***"
   ]
  },
  {
   "cell_type": "markdown",
   "id": "c1d3cfef-8925-4269-8eda-2b6231502f05",
   "metadata": {},
   "source": [
    "#### 1. Multi Logistic Rregression"
   ]
  },
  {
   "cell_type": "code",
   "execution_count": 8,
   "id": "560f77d0-41ad-4aec-a367-70565e960429",
   "metadata": {},
   "outputs": [
    {
     "name": "stdout",
     "output_type": "stream",
     "text": [
      "              precision    recall  f1-score   support\n",
      "\n",
      "           0       0.65      1.00      0.79        52\n",
      "           1       0.00      0.00      0.00        28\n",
      "\n",
      "    accuracy                           0.65        80\n",
      "   macro avg       0.33      0.50      0.39        80\n",
      "weighted avg       0.42      0.65      0.51        80\n",
      "\n",
      "Confusion Matrix = \n",
      " [[52  0]\n",
      " [28  0]]\n"
     ]
    }
   ],
   "source": [
    "from sklearn.linear_model import LogisticRegression\n",
    "rf = LogisticRegression(multi_class='multinomial', solver='lbfgs').fit(X_train, y_train)\n",
    "rf_pred = rf.predict(X_test)\n",
    "check_model_metrices(y_test, rf_pred)"
   ]
  },
  {
   "cell_type": "markdown",
   "id": "b8d0ccc3-e5f3-4192-9cee-cc4aef976151",
   "metadata": {},
   "source": [
    "#### 2. Linear SVM\n",
    "***"
   ]
  },
  {
   "cell_type": "code",
   "execution_count": null,
   "id": "87a9c4ab-266c-4a08-8334-00a8b7ca60c9",
   "metadata": {},
   "outputs": [],
   "source": [
    "from sklearn.svm import SVC\n",
    "linear = SVC(kernel='linear', decision_function_shape='ovo') # decision_function_shape is set to One-vs_One for multi-class\n",
    "linear.fit(X_train, y_train)\n",
    "linear_pred = linear.predict(X_test)\n",
    "check_model_metrices(y_test, linear_pred)"
   ]
  },
  {
   "cell_type": "markdown",
   "id": "6aecc189-709b-4d6e-acfb-94162b598547",
   "metadata": {},
   "source": [
    "#### 5. kNN Classifier\n",
    "***"
   ]
  },
  {
   "cell_type": "code",
   "execution_count": null,
   "id": "365e94cb-e850-436f-9047-253a7b59d8e4",
   "metadata": {},
   "outputs": [],
   "source": [
    "from sklearn.neighbors import KNeighborsClassifier\n",
    "def generate_kNN_model(x_train, y_train, x_test, k):\n",
    "    knn_model = KNeighborsClassifier(n_neighbors=k, metric='minkowski')\n",
    "    knn_model.fit(x_train, y_train)\n",
    "    return knn_model.predict(x_test)\n",
    "\n",
    "# Optimizing 'k' or 'n-neighbers' value\n",
    "def find_optimal_k(x_train, y_train, x_test):\n",
    "    accur_dict = dict()\n",
    "    for k in np.arange(3,16):\n",
    "        y_pred = generate_kNN_model(x_train, y_train, x_test, k)\n",
    "        accur_dict[k] = accuracy_score(y_test, y_pred)\n",
    "    #Plot\n",
    "    plt.plot(list(accur_dict.keys()),list(accur_dict.values()), marker ='o')\n",
    "    plt.title('k-Values vs Accuracy')\n",
    "    plt.show()\n",
    "    optimal_k = max(accur_dict, key = lambda x: accur_dict[x])\n",
    "    print('Best k value = ', optimal_k)\n",
    "    return optimal_k\n",
    "k_optimal = find_optimal_k(X_train, y_train, X_test)\n",
    "knn_y_pred = generate_kNN_model(X_train, y_train, X_test, k_optimal)\n",
    "print(f'kNN classifier with k = {k_optimal} has :: \\n')\n",
    "check_model_metrices(y_test, knn_y_pred)"
   ]
  },
  {
   "cell_type": "markdown",
   "id": "82975ed2-c66e-480f-b9c5-66181068ac8b",
   "metadata": {},
   "source": [
    "#### 6. Decision Trees\n",
    "***"
   ]
  },
  {
   "cell_type": "code",
   "execution_count": null,
   "id": "c141ac85-1e4e-4f75-99d1-579479227e43",
   "metadata": {},
   "outputs": [],
   "source": [
    "from sklearn.tree import DecisionTreeClassifier\n",
    "dt_model = DecisionTreeClassifier()\n",
    "dt_model.fit(X_train, y_train)\n",
    "dt_pred = dt_model.predict(X_test)\n",
    "check_model_metrices(y_test, linear_pred)"
   ]
  },
  {
   "cell_type": "markdown",
   "id": "2eb76dc2-34e0-4430-a32a-e72220812dde",
   "metadata": {},
   "source": [
    "#### 7. Random Forest\n",
    "***"
   ]
  },
  {
   "cell_type": "code",
   "execution_count": null,
   "id": "b217412c-8dbe-4fe5-81ff-31e9b2623593",
   "metadata": {},
   "outputs": [],
   "source": [
    "from sklearn.ensemble import RandomForestClassifier\n",
    "rf = RandomForestClassifier()\n",
    "rf.fit(X_train, y_train)\n",
    "rf_pred = rf.predict(X_test)\n",
    "check_model_metrices(y_test, linear_pred)"
   ]
  },
  {
   "cell_type": "code",
   "execution_count": null,
   "id": "53ef6402-300e-470e-a071-37a54ced9660",
   "metadata": {},
   "outputs": [],
   "source": []
  }
 ],
 "metadata": {
  "kernelspec": {
   "display_name": "Python (ICTK)",
   "language": "python",
   "name": "ictk"
  },
  "language_info": {
   "codemirror_mode": {
    "name": "ipython",
    "version": 3
   },
   "file_extension": ".py",
   "mimetype": "text/x-python",
   "name": "python",
   "nbconvert_exporter": "python",
   "pygments_lexer": "ipython3",
   "version": "3.8.12"
  }
 },
 "nbformat": 4,
 "nbformat_minor": 5
}
