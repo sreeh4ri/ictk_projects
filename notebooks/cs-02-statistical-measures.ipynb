{
 "cells": [
  {
   "cell_type": "markdown",
   "id": "26fc7511",
   "metadata": {},
   "source": [
    "***\n",
    "# Case Study on Measures of Central Tendency and Dispersion\n",
    "**Sreehari P S<br>Norka B5**\n",
    "***"
   ]
  },
  {
   "cell_type": "markdown",
   "id": "869fc9f1",
   "metadata": {},
   "source": [
    "### Statement : \n",
    "An Institution wishes to find out their student’s ability in maths, reading and\n",
    "writing skills. The Institution wants to do an exploratory study to check the\n",
    "following information."
   ]
  },
  {
   "cell_type": "code",
   "execution_count": 1,
   "id": "7292d6ac",
   "metadata": {},
   "outputs": [],
   "source": [
    "# Imports\n",
    "import numpy as np\n",
    "import pandas as pd\n",
    "import matplotlib.pyplot as plt\n",
    "import seaborn as sns"
   ]
  },
  {
   "cell_type": "code",
   "execution_count": 2,
   "id": "5300968e",
   "metadata": {},
   "outputs": [
    {
     "data": {
      "text/html": [
       "<div>\n",
       "<style scoped>\n",
       "    .dataframe tbody tr th:only-of-type {\n",
       "        vertical-align: middle;\n",
       "    }\n",
       "\n",
       "    .dataframe tbody tr th {\n",
       "        vertical-align: top;\n",
       "    }\n",
       "\n",
       "    .dataframe thead th {\n",
       "        text-align: right;\n",
       "    }\n",
       "</style>\n",
       "<table border=\"1\" class=\"dataframe\">\n",
       "  <thead>\n",
       "    <tr style=\"text-align: right;\">\n",
       "      <th></th>\n",
       "      <th>gender</th>\n",
       "      <th>race/ethnicity</th>\n",
       "      <th>parental level of education</th>\n",
       "      <th>lunch</th>\n",
       "      <th>test preparation course</th>\n",
       "      <th>math score</th>\n",
       "      <th>reading score</th>\n",
       "      <th>writing score</th>\n",
       "    </tr>\n",
       "  </thead>\n",
       "  <tbody>\n",
       "    <tr>\n",
       "      <th>0</th>\n",
       "      <td>female</td>\n",
       "      <td>group C</td>\n",
       "      <td>some high school</td>\n",
       "      <td>free/reduced</td>\n",
       "      <td>none</td>\n",
       "      <td>0</td>\n",
       "      <td>17</td>\n",
       "      <td>10</td>\n",
       "    </tr>\n",
       "    <tr>\n",
       "      <th>1</th>\n",
       "      <td>female</td>\n",
       "      <td>group B</td>\n",
       "      <td>high school</td>\n",
       "      <td>free/reduced</td>\n",
       "      <td>none</td>\n",
       "      <td>8</td>\n",
       "      <td>24</td>\n",
       "      <td>23</td>\n",
       "    </tr>\n",
       "    <tr>\n",
       "      <th>2</th>\n",
       "      <td>female</td>\n",
       "      <td>group B</td>\n",
       "      <td>some high school</td>\n",
       "      <td>free/reduced</td>\n",
       "      <td>none</td>\n",
       "      <td>18</td>\n",
       "      <td>32</td>\n",
       "      <td>28</td>\n",
       "    </tr>\n",
       "    <tr>\n",
       "      <th>3</th>\n",
       "      <td>female</td>\n",
       "      <td>group B</td>\n",
       "      <td>some college</td>\n",
       "      <td>standard</td>\n",
       "      <td>none</td>\n",
       "      <td>11</td>\n",
       "      <td>38</td>\n",
       "      <td>32</td>\n",
       "    </tr>\n",
       "    <tr>\n",
       "      <th>4</th>\n",
       "      <td>female</td>\n",
       "      <td>group C</td>\n",
       "      <td>some college</td>\n",
       "      <td>free/reduced</td>\n",
       "      <td>none</td>\n",
       "      <td>22</td>\n",
       "      <td>39</td>\n",
       "      <td>33</td>\n",
       "    </tr>\n",
       "  </tbody>\n",
       "</table>\n",
       "</div>"
      ],
      "text/plain": [
       "   gender race/ethnicity parental level of education         lunch  \\\n",
       "0  female        group C            some high school  free/reduced   \n",
       "1  female        group B                 high school  free/reduced   \n",
       "2  female        group B            some high school  free/reduced   \n",
       "3  female        group B                some college      standard   \n",
       "4  female        group C                some college  free/reduced   \n",
       "\n",
       "  test preparation course  math score  reading score  writing score  \n",
       "0                    none           0             17             10  \n",
       "1                    none           8             24             23  \n",
       "2                    none          18             32             28  \n",
       "3                    none          11             38             32  \n",
       "4                    none          22             39             33  "
      ]
     },
     "execution_count": 2,
     "metadata": {},
     "output_type": "execute_result"
    }
   ],
   "source": [
    "# Fetech data\n",
    "data = pd.read_csv('./datasets/StudentsPerformance.csv')\n",
    "data.head()"
   ]
  },
  {
   "cell_type": "markdown",
   "id": "ac39df3a",
   "metadata": {},
   "source": [
    "### Q1: Find out how many males and females participated in the test."
   ]
  },
  {
   "cell_type": "code",
   "execution_count": 3,
   "id": "e6ae2606",
   "metadata": {},
   "outputs": [
    {
     "data": {
      "text/html": [
       "<div>\n",
       "<style scoped>\n",
       "    .dataframe tbody tr th:only-of-type {\n",
       "        vertical-align: middle;\n",
       "    }\n",
       "\n",
       "    .dataframe tbody tr th {\n",
       "        vertical-align: top;\n",
       "    }\n",
       "\n",
       "    .dataframe thead th {\n",
       "        text-align: right;\n",
       "    }\n",
       "</style>\n",
       "<table border=\"1\" class=\"dataframe\">\n",
       "  <thead>\n",
       "    <tr style=\"text-align: right;\">\n",
       "      <th></th>\n",
       "      <th>count</th>\n",
       "    </tr>\n",
       "    <tr>\n",
       "      <th>gender</th>\n",
       "      <th></th>\n",
       "    </tr>\n",
       "  </thead>\n",
       "  <tbody>\n",
       "    <tr>\n",
       "      <th>female</th>\n",
       "      <td>518</td>\n",
       "    </tr>\n",
       "    <tr>\n",
       "      <th>male</th>\n",
       "      <td>482</td>\n",
       "    </tr>\n",
       "  </tbody>\n",
       "</table>\n",
       "</div>"
      ],
      "text/plain": [
       "        count\n",
       "gender       \n",
       "female    518\n",
       "male      482"
      ]
     },
     "execution_count": 3,
     "metadata": {},
     "output_type": "execute_result"
    }
   ],
   "source": [
    "data.groupby('gender').agg(count = ('gender','count'))"
   ]
  },
  {
   "cell_type": "markdown",
   "id": "7a79236c",
   "metadata": {},
   "source": [
    "From the above table it found that 518 female candidates and 482 male candidates participated in the test\n",
    "***"
   ]
  },
  {
   "cell_type": "markdown",
   "id": "6c382cdb",
   "metadata": {},
   "source": [
    "### Q2: What do you think about the students' parental level of education?"
   ]
  },
  {
   "cell_type": "code",
   "execution_count": 4,
   "id": "6cf0f150",
   "metadata": {},
   "outputs": [
    {
     "data": {
      "image/png": "[encoded data removed]",
      "text/plain": [
       "<Figure size 432x288 with 1 Axes>"
      ]
     },
     "metadata": {},
     "output_type": "display_data"
    }
   ],
   "source": [
    "pe_edu = data.groupby('parental level of education').agg(Count = ('parental level of education','count'))\n",
    "total = pe_edu['Count'].sum()\n",
    "pe_edu['Percent'] = (pe_edu['Count']/total)*100\n",
    "#Ploting\n",
    "plt.pie(pe_edu['Percent'], labels = pe_edu.index, autopct='%.2f%%', radius= 2)\n",
    "plt.title(\"Educational qualification for parents\", y = 1.5, bbox = {'facecolor':'0.9','pad':5})\n",
    "plt.show()"
   ]
  },
  {
   "cell_type": "markdown",
   "id": "3cb21dc3",
   "metadata": {},
   "source": [
    "From the figure it can be summarized that around of 45% of parents has either an associate degree or went to some college. Only < 6% of parents pursuied master's degree. This may have an impact in students academic as well as overall performance.\n",
    "***"
   ]
  },
  {
   "cell_type": "markdown",
   "id": "af1c6d8f",
   "metadata": {},
   "source": [
    "### Q3: Who scores the most on average for math, reading and writing based on\n",
    "**1. Gender**"
   ]
  },
  {
   "cell_type": "code",
   "execution_count": 5,
   "id": "7c76af51",
   "metadata": {},
   "outputs": [
    {
     "data": {
      "text/html": [
       "<div>\n",
       "<style scoped>\n",
       "    .dataframe tbody tr th:only-of-type {\n",
       "        vertical-align: middle;\n",
       "    }\n",
       "\n",
       "    .dataframe tbody tr th {\n",
       "        vertical-align: top;\n",
       "    }\n",
       "\n",
       "    .dataframe thead th {\n",
       "        text-align: right;\n",
       "    }\n",
       "</style>\n",
       "<table border=\"1\" class=\"dataframe\">\n",
       "  <thead>\n",
       "    <tr style=\"text-align: right;\">\n",
       "      <th></th>\n",
       "      <th>Math_Average</th>\n",
       "      <th>Read_Average</th>\n",
       "      <th>Write_Average</th>\n",
       "    </tr>\n",
       "    <tr>\n",
       "      <th>gender</th>\n",
       "      <th></th>\n",
       "      <th></th>\n",
       "      <th></th>\n",
       "    </tr>\n",
       "  </thead>\n",
       "  <tbody>\n",
       "    <tr>\n",
       "      <th>female</th>\n",
       "      <td>63.376448</td>\n",
       "      <td>72.590734</td>\n",
       "      <td>72.467181</td>\n",
       "    </tr>\n",
       "    <tr>\n",
       "      <th>male</th>\n",
       "      <td>68.821577</td>\n",
       "      <td>65.545643</td>\n",
       "      <td>63.446058</td>\n",
       "    </tr>\n",
       "  </tbody>\n",
       "</table>\n",
       "</div>"
      ],
      "text/plain": [
       "        Math_Average  Read_Average  Write_Average\n",
       "gender                                           \n",
       "female     63.376448     72.590734      72.467181\n",
       "male       68.821577     65.545643      63.446058"
      ]
     },
     "execution_count": 5,
     "metadata": {},
     "output_type": "execute_result"
    }
   ],
   "source": [
    "data.groupby('gender').agg(Math_Average = ('math score', np.mean), Read_Average = ('reading score', np.mean), Write_Average = ('writing score', np.mean))"
   ]
  },
  {
   "cell_type": "markdown",
   "id": "873b901c",
   "metadata": {},
   "source": [
    "For <u>Mathematics</u> \"*Male*\" candidates has the highest average but when it comes to <u>reading and writing</u> \"*Female*\" candidates excels.\n",
    "***"
   ]
  },
  {
   "cell_type": "markdown",
   "id": "f1eb2bdc",
   "metadata": {},
   "source": [
    "**2. Test preparation course**"
   ]
  },
  {
   "cell_type": "code",
   "execution_count": 6,
   "id": "2d5b77e2",
   "metadata": {},
   "outputs": [
    {
     "data": {
      "text/html": [
       "<div>\n",
       "<style scoped>\n",
       "    .dataframe tbody tr th:only-of-type {\n",
       "        vertical-align: middle;\n",
       "    }\n",
       "\n",
       "    .dataframe tbody tr th {\n",
       "        vertical-align: top;\n",
       "    }\n",
       "\n",
       "    .dataframe thead th {\n",
       "        text-align: right;\n",
       "    }\n",
       "</style>\n",
       "<table border=\"1\" class=\"dataframe\">\n",
       "  <thead>\n",
       "    <tr style=\"text-align: right;\">\n",
       "      <th></th>\n",
       "      <th>Math_Average</th>\n",
       "      <th>Read_Average</th>\n",
       "      <th>Write_Average</th>\n",
       "    </tr>\n",
       "    <tr>\n",
       "      <th>test preparation course</th>\n",
       "      <th></th>\n",
       "      <th></th>\n",
       "      <th></th>\n",
       "    </tr>\n",
       "  </thead>\n",
       "  <tbody>\n",
       "    <tr>\n",
       "      <th>completed</th>\n",
       "      <td>69.96648</td>\n",
       "      <td>74.175978</td>\n",
       "      <td>74.684358</td>\n",
       "    </tr>\n",
       "    <tr>\n",
       "      <th>none</th>\n",
       "      <td>63.78972</td>\n",
       "      <td>66.417445</td>\n",
       "      <td>64.457944</td>\n",
       "    </tr>\n",
       "  </tbody>\n",
       "</table>\n",
       "</div>"
      ],
      "text/plain": [
       "                         Math_Average  Read_Average  Write_Average\n",
       "test preparation course                                           \n",
       "completed                    69.96648     74.175978      74.684358\n",
       "none                         63.78972     66.417445      64.457944"
      ]
     },
     "execution_count": 6,
     "metadata": {},
     "output_type": "execute_result"
    }
   ],
   "source": [
    "data.groupby('test preparation course').agg(Math_Average = ('math score', np.mean), Read_Average = ('reading score', np.mean), Write_Average = ('writing score', np.mean))"
   ]
  },
  {
   "cell_type": "markdown",
   "id": "b21722ef",
   "metadata": {},
   "source": [
    "Candidates who *completed test prepartion course* has highest average in all 3 subjects\n",
    "***"
   ]
  },
  {
   "cell_type": "markdown",
   "id": "318dd71e",
   "metadata": {},
   "source": [
    "### Q4: What do you think about the scoring variation for math, reading and writing based on\n",
    "**1. Gender**"
   ]
  },
  {
   "cell_type": "code",
   "execution_count": 7,
   "id": "d463f0fc",
   "metadata": {},
   "outputs": [
    {
     "data": {
      "image/png": "[encoded data removed]",
      "text/plain": [
       "<Figure size 432x288 with 1 Axes>"
      ]
     },
     "metadata": {
      "needs_background": "light"
     },
     "output_type": "display_data"
    },
    {
     "data": {
      "image/png": "[encoded data removed]",
      "text/plain": [
       "<Figure size 432x288 with 1 Axes>"
      ]
     },
     "metadata": {
      "needs_background": "light"
     },
     "output_type": "display_data"
    },
    {
     "data": {
      "text/html": [
       "<div>\n",
       "<style scoped>\n",
       "    .dataframe tbody tr th:only-of-type {\n",
       "        vertical-align: middle;\n",
       "    }\n",
       "\n",
       "    .dataframe tbody tr th {\n",
       "        vertical-align: top;\n",
       "    }\n",
       "\n",
       "    .dataframe thead th {\n",
       "        text-align: right;\n",
       "    }\n",
       "</style>\n",
       "<table border=\"1\" class=\"dataframe\">\n",
       "  <thead>\n",
       "    <tr style=\"text-align: right;\">\n",
       "      <th></th>\n",
       "      <th>Math_STD</th>\n",
       "      <th>Read_STD</th>\n",
       "      <th>Write_STD</th>\n",
       "    </tr>\n",
       "    <tr>\n",
       "      <th>gender</th>\n",
       "      <th></th>\n",
       "      <th></th>\n",
       "      <th></th>\n",
       "    </tr>\n",
       "  </thead>\n",
       "  <tbody>\n",
       "    <tr>\n",
       "      <th>female</th>\n",
       "      <td>16.029928</td>\n",
       "      <td>14.411018</td>\n",
       "      <td>14.844842</td>\n",
       "    </tr>\n",
       "    <tr>\n",
       "      <th>male</th>\n",
       "      <td>14.556411</td>\n",
       "      <td>14.149594</td>\n",
       "      <td>14.227225</td>\n",
       "    </tr>\n",
       "  </tbody>\n",
       "</table>\n",
       "</div>"
      ],
      "text/plain": [
       "         Math_STD   Read_STD  Write_STD\n",
       "gender                                 \n",
       "female  16.029928  14.411018  14.844842\n",
       "male    14.556411  14.149594  14.227225"
      ]
     },
     "execution_count": 7,
     "metadata": {},
     "output_type": "execute_result"
    }
   ],
   "source": [
    "female = data[data['gender']=='female']\n",
    "female[['math score', 'writing score', 'reading score']].plot.kde(label = 'proi')\n",
    "male = data[data['gender']=='male']\n",
    "male[['math score', 'writing score', 'reading score']].plot.kde()\n",
    "plt.show()\n",
    "data.groupby('gender').agg(Math_STD = ('math score', np.std), Read_STD = ('reading score', np.std), Write_STD = ('writing score', np.std))"
   ]
  },
  {
   "cell_type": "markdown",
   "id": "c415a7b4",
   "metadata": {},
   "source": [
    "For Mathematics, female candidates have high standard deviation, for rest of subjects it is comparable"
   ]
  },
  {
   "cell_type": "markdown",
   "id": "8df91377",
   "metadata": {},
   "source": [
    "**2. Test Preparation course**"
   ]
  },
  {
   "cell_type": "code",
   "execution_count": 8,
   "id": "e7c8cfed",
   "metadata": {},
   "outputs": [
    {
     "data": {
      "text/html": [
       "<div>\n",
       "<style scoped>\n",
       "    .dataframe tbody tr th:only-of-type {\n",
       "        vertical-align: middle;\n",
       "    }\n",
       "\n",
       "    .dataframe tbody tr th {\n",
       "        vertical-align: top;\n",
       "    }\n",
       "\n",
       "    .dataframe thead th {\n",
       "        text-align: right;\n",
       "    }\n",
       "</style>\n",
       "<table border=\"1\" class=\"dataframe\">\n",
       "  <thead>\n",
       "    <tr style=\"text-align: right;\">\n",
       "      <th></th>\n",
       "      <th>Math_STD</th>\n",
       "      <th>Read_STD</th>\n",
       "      <th>Write_STD</th>\n",
       "    </tr>\n",
       "    <tr>\n",
       "      <th>test preparation course</th>\n",
       "      <th></th>\n",
       "      <th></th>\n",
       "      <th></th>\n",
       "    </tr>\n",
       "  </thead>\n",
       "  <tbody>\n",
       "    <tr>\n",
       "      <th>completed</th>\n",
       "      <td>14.521847</td>\n",
       "      <td>13.537572</td>\n",
       "      <td>13.236412</td>\n",
       "    </tr>\n",
       "    <tr>\n",
       "      <th>none</th>\n",
       "      <td>15.705689</td>\n",
       "      <td>14.608896</td>\n",
       "      <td>15.041667</td>\n",
       "    </tr>\n",
       "  </tbody>\n",
       "</table>\n",
       "</div>"
      ],
      "text/plain": [
       "                          Math_STD   Read_STD  Write_STD\n",
       "test preparation course                                 \n",
       "completed                14.521847  13.537572  13.236412\n",
       "none                     15.705689  14.608896  15.041667"
      ]
     },
     "execution_count": 8,
     "metadata": {},
     "output_type": "execute_result"
    }
   ],
   "source": [
    "data.groupby('test preparation course').agg(Math_STD = ('math score', np.std), Read_STD = ('reading score', np.std), Write_STD = ('writing score', np.std))"
   ]
  },
  {
   "cell_type": "markdown",
   "id": "71b7cff9",
   "metadata": {},
   "source": [
    "For all 3 subjects standard deviation is less for those who completed test preparation course when compared to those didn't attend.\n",
    "***"
   ]
  },
  {
   "cell_type": "markdown",
   "id": "8694754a",
   "metadata": {},
   "source": [
    "### Q5: \n",
    "The management needs your help to give bonus points to the top 25% of\n",
    "students based on their maths score, so how will you help the management\n",
    "to achieve this."
   ]
  },
  {
   "cell_type": "code",
   "execution_count": 9,
   "id": "9e9d6161",
   "metadata": {},
   "outputs": [
    {
     "name": "stdout",
     "output_type": "stream",
     "text": [
      "Math score upper quartile = 77.0\n"
     ]
    }
   ],
   "source": [
    "q3 = data['math score'].quantile(0.75)\n",
    "print(f'Math score upper quartile = {q3}')"
   ]
  },
  {
   "cell_type": "markdown",
   "id": "0cb688ab",
   "metadata": {},
   "source": [
    "*Deduction* : The upper quartile indicates that any student who scored above 77 marks in mathematics is qualified to obtain bonus points"
   ]
  }
 ],
 "metadata": {
  "kernelspec": {
   "display_name": "Python (ICTK)",
   "language": "python",
   "name": "ictk"
  },
  "language_info": {
   "codemirror_mode": {
    "name": "ipython",
    "version": 3
   },
   "file_extension": ".py",
   "mimetype": "text/x-python",
   "name": "python",
   "nbconvert_exporter": "python",
   "pygments_lexer": "ipython3",
   "version": "3.8.12"
  }
 },
 "nbformat": 4,
 "nbformat_minor": 5
}
