{
 "cells": [
  {
   "cell_type": "markdown",
   "id": "d330c377",
   "metadata": {},
   "source": [
    "# Working with Loan Classification Problem :: RF, GBC, XGB\n",
    "*Sreehari P S*\n",
    "***"
   ]
  },
  {
   "cell_type": "markdown",
   "id": "c736184d",
   "metadata": {},
   "source": [
    "**Problem Statment ::**<br>\n",
    "Given a loan dataset of a Finance Company (FC). This dataset contain loan information of various customer of the FC. Installment paid from months Jan-Dec for an year is recorded in m1-m12 columns.<br>\n",
    "**Purpose ::**<br>\n",
    "The FC wants an automated system to predict whether a given customer will pay loan installment on the 13th month."
   ]
  },
  {
   "cell_type": "code",
   "execution_count": 1,
   "id": "2c0ed13c",
   "metadata": {},
   "outputs": [],
   "source": [
    "import numpy as np\n",
    "import pandas as pd"
   ]
  },
  {
   "cell_type": "markdown",
   "id": "a5bffcc6",
   "metadata": {},
   "source": [
    "##### Step 1 >> Load Dataset\n",
    "***"
   ]
  },
  {
   "cell_type": "code",
   "execution_count": 2,
   "id": "ca0173b5",
   "metadata": {},
   "outputs": [],
   "source": [
    "data = pd.read_csv('./datasets/loan_dataset.csv')"
   ]
  },
  {
   "cell_type": "markdown",
   "id": "8228c7a9",
   "metadata": {},
   "source": [
    "##### Step 2 >> Feature Description\n",
    "***"
   ]
  },
  {
   "cell_type": "code",
   "execution_count": 3,
   "id": "0aca9a04",
   "metadata": {},
   "outputs": [
    {
     "data": {
      "text/plain": [
       "(116058, 29)"
      ]
     },
     "execution_count": 3,
     "metadata": {},
     "output_type": "execute_result"
    }
   ],
   "source": [
    "data.shape"
   ]
  },
  {
   "cell_type": "code",
   "execution_count": 4,
   "id": "d14be629",
   "metadata": {},
   "outputs": [
    {
     "data": {
      "text/html": [
       "<div>\n",
       "<style scoped>\n",
       "    .dataframe tbody tr th:only-of-type {\n",
       "        vertical-align: middle;\n",
       "    }\n",
       "\n",
       "    .dataframe tbody tr th {\n",
       "        vertical-align: top;\n",
       "    }\n",
       "\n",
       "    .dataframe thead th {\n",
       "        text-align: right;\n",
       "    }\n",
       "</style>\n",
       "<table border=\"1\" class=\"dataframe\">\n",
       "  <thead>\n",
       "    <tr style=\"text-align: right;\">\n",
       "      <th></th>\n",
       "      <th>loan_id</th>\n",
       "      <th>source</th>\n",
       "      <th>financial_institution</th>\n",
       "      <th>interest_rate</th>\n",
       "      <th>unpaid_principal_bal</th>\n",
       "      <th>loan_term</th>\n",
       "      <th>origination_date</th>\n",
       "      <th>first_payment_date</th>\n",
       "      <th>loan_to_value</th>\n",
       "      <th>number_of_borrowers</th>\n",
       "      <th>...</th>\n",
       "      <th>m4</th>\n",
       "      <th>m5</th>\n",
       "      <th>m6</th>\n",
       "      <th>m7</th>\n",
       "      <th>m8</th>\n",
       "      <th>m9</th>\n",
       "      <th>m10</th>\n",
       "      <th>m11</th>\n",
       "      <th>m12</th>\n",
       "      <th>m13</th>\n",
       "    </tr>\n",
       "  </thead>\n",
       "  <tbody>\n",
       "    <tr>\n",
       "      <th>0</th>\n",
       "      <td>268055008619</td>\n",
       "      <td>Z</td>\n",
       "      <td>Turner, Baldwin and Rhodes</td>\n",
       "      <td>4.250</td>\n",
       "      <td>214000</td>\n",
       "      <td>360</td>\n",
       "      <td>2012-03-01</td>\n",
       "      <td>05/2012</td>\n",
       "      <td>95</td>\n",
       "      <td>1.0</td>\n",
       "      <td>...</td>\n",
       "      <td>0</td>\n",
       "      <td>0</td>\n",
       "      <td>0</td>\n",
       "      <td>1</td>\n",
       "      <td>0</td>\n",
       "      <td>0</td>\n",
       "      <td>0</td>\n",
       "      <td>0</td>\n",
       "      <td>0</td>\n",
       "      <td>1</td>\n",
       "    </tr>\n",
       "    <tr>\n",
       "      <th>1</th>\n",
       "      <td>672831657627</td>\n",
       "      <td>Y</td>\n",
       "      <td>Swanson, Newton and Miller</td>\n",
       "      <td>4.875</td>\n",
       "      <td>144000</td>\n",
       "      <td>360</td>\n",
       "      <td>2012-01-01</td>\n",
       "      <td>03/2012</td>\n",
       "      <td>72</td>\n",
       "      <td>1.0</td>\n",
       "      <td>...</td>\n",
       "      <td>0</td>\n",
       "      <td>0</td>\n",
       "      <td>0</td>\n",
       "      <td>0</td>\n",
       "      <td>0</td>\n",
       "      <td>0</td>\n",
       "      <td>0</td>\n",
       "      <td>1</td>\n",
       "      <td>0</td>\n",
       "      <td>1</td>\n",
       "    </tr>\n",
       "    <tr>\n",
       "      <th>2</th>\n",
       "      <td>742515242108</td>\n",
       "      <td>Z</td>\n",
       "      <td>Thornton-Davis</td>\n",
       "      <td>3.250</td>\n",
       "      <td>366000</td>\n",
       "      <td>180</td>\n",
       "      <td>2012-01-01</td>\n",
       "      <td>03/2012</td>\n",
       "      <td>49</td>\n",
       "      <td>1.0</td>\n",
       "      <td>...</td>\n",
       "      <td>0</td>\n",
       "      <td>0</td>\n",
       "      <td>0</td>\n",
       "      <td>0</td>\n",
       "      <td>0</td>\n",
       "      <td>0</td>\n",
       "      <td>0</td>\n",
       "      <td>0</td>\n",
       "      <td>0</td>\n",
       "      <td>1</td>\n",
       "    </tr>\n",
       "    <tr>\n",
       "      <th>3</th>\n",
       "      <td>601385667462</td>\n",
       "      <td>X</td>\n",
       "      <td>OTHER</td>\n",
       "      <td>4.750</td>\n",
       "      <td>135000</td>\n",
       "      <td>360</td>\n",
       "      <td>2012-02-01</td>\n",
       "      <td>04/2012</td>\n",
       "      <td>46</td>\n",
       "      <td>2.0</td>\n",
       "      <td>...</td>\n",
       "      <td>0</td>\n",
       "      <td>0</td>\n",
       "      <td>0</td>\n",
       "      <td>0</td>\n",
       "      <td>0</td>\n",
       "      <td>1</td>\n",
       "      <td>1</td>\n",
       "      <td>1</td>\n",
       "      <td>1</td>\n",
       "      <td>1</td>\n",
       "    </tr>\n",
       "    <tr>\n",
       "      <th>4</th>\n",
       "      <td>273870029961</td>\n",
       "      <td>X</td>\n",
       "      <td>OTHER</td>\n",
       "      <td>4.750</td>\n",
       "      <td>124000</td>\n",
       "      <td>360</td>\n",
       "      <td>2012-02-01</td>\n",
       "      <td>04/2012</td>\n",
       "      <td>80</td>\n",
       "      <td>1.0</td>\n",
       "      <td>...</td>\n",
       "      <td>3</td>\n",
       "      <td>4</td>\n",
       "      <td>5</td>\n",
       "      <td>6</td>\n",
       "      <td>7</td>\n",
       "      <td>8</td>\n",
       "      <td>9</td>\n",
       "      <td>10</td>\n",
       "      <td>11</td>\n",
       "      <td>1</td>\n",
       "    </tr>\n",
       "  </tbody>\n",
       "</table>\n",
       "<p>5 rows × 29 columns</p>\n",
       "</div>"
      ],
      "text/plain": [
       "        loan_id source       financial_institution  interest_rate  \\\n",
       "0  268055008619      Z  Turner, Baldwin and Rhodes          4.250   \n",
       "1  672831657627      Y  Swanson, Newton and Miller          4.875   \n",
       "2  742515242108      Z              Thornton-Davis          3.250   \n",
       "3  601385667462      X                       OTHER          4.750   \n",
       "4  273870029961      X                       OTHER          4.750   \n",
       "\n",
       "   unpaid_principal_bal  loan_term origination_date first_payment_date  \\\n",
       "0                214000        360       2012-03-01            05/2012   \n",
       "1                144000        360       2012-01-01            03/2012   \n",
       "2                366000        180       2012-01-01            03/2012   \n",
       "3                135000        360       2012-02-01            04/2012   \n",
       "4                124000        360       2012-02-01            04/2012   \n",
       "\n",
       "   loan_to_value  number_of_borrowers  ...  m4  m5 m6  m7  m8  m9  m10  m11  \\\n",
       "0             95                  1.0  ...   0   0  0   1   0   0    0    0   \n",
       "1             72                  1.0  ...   0   0  0   0   0   0    0    1   \n",
       "2             49                  1.0  ...   0   0  0   0   0   0    0    0   \n",
       "3             46                  2.0  ...   0   0  0   0   0   1    1    1   \n",
       "4             80                  1.0  ...   3   4  5   6   7   8    9   10   \n",
       "\n",
       "   m12  m13  \n",
       "0    0    1  \n",
       "1    0    1  \n",
       "2    0    1  \n",
       "3    1    1  \n",
       "4   11    1  \n",
       "\n",
       "[5 rows x 29 columns]"
      ]
     },
     "execution_count": 4,
     "metadata": {},
     "output_type": "execute_result"
    }
   ],
   "source": [
    "data.head()"
   ]
  },
  {
   "cell_type": "code",
   "execution_count": 5,
   "id": "4ba10663",
   "metadata": {},
   "outputs": [
    {
     "data": {
      "text/html": [
       "<div>\n",
       "<style scoped>\n",
       "    .dataframe tbody tr th:only-of-type {\n",
       "        vertical-align: middle;\n",
       "    }\n",
       "\n",
       "    .dataframe tbody tr th {\n",
       "        vertical-align: top;\n",
       "    }\n",
       "\n",
       "    .dataframe thead th {\n",
       "        text-align: right;\n",
       "    }\n",
       "</style>\n",
       "<table border=\"1\" class=\"dataframe\">\n",
       "  <thead>\n",
       "    <tr style=\"text-align: right;\">\n",
       "      <th></th>\n",
       "      <th>loan_id</th>\n",
       "      <th>source</th>\n",
       "      <th>financial_institution</th>\n",
       "      <th>interest_rate</th>\n",
       "      <th>unpaid_principal_bal</th>\n",
       "      <th>loan_term</th>\n",
       "      <th>origination_date</th>\n",
       "      <th>first_payment_date</th>\n",
       "      <th>loan_to_value</th>\n",
       "      <th>number_of_borrowers</th>\n",
       "      <th>...</th>\n",
       "      <th>m4</th>\n",
       "      <th>m5</th>\n",
       "      <th>m6</th>\n",
       "      <th>m7</th>\n",
       "      <th>m8</th>\n",
       "      <th>m9</th>\n",
       "      <th>m10</th>\n",
       "      <th>m11</th>\n",
       "      <th>m12</th>\n",
       "      <th>m13</th>\n",
       "    </tr>\n",
       "  </thead>\n",
       "  <tbody>\n",
       "    <tr>\n",
       "      <th>116053</th>\n",
       "      <td>382119962287</td>\n",
       "      <td>Y</td>\n",
       "      <td>Browning-Hart</td>\n",
       "      <td>4.125</td>\n",
       "      <td>153000</td>\n",
       "      <td>360</td>\n",
       "      <td>2012-02-01</td>\n",
       "      <td>04/2012</td>\n",
       "      <td>88</td>\n",
       "      <td>2.0</td>\n",
       "      <td>...</td>\n",
       "      <td>0</td>\n",
       "      <td>0</td>\n",
       "      <td>0</td>\n",
       "      <td>0</td>\n",
       "      <td>0</td>\n",
       "      <td>0</td>\n",
       "      <td>0</td>\n",
       "      <td>0</td>\n",
       "      <td>0</td>\n",
       "      <td>0</td>\n",
       "    </tr>\n",
       "    <tr>\n",
       "      <th>116054</th>\n",
       "      <td>582803915466</td>\n",
       "      <td>Z</td>\n",
       "      <td>OTHER</td>\n",
       "      <td>3.000</td>\n",
       "      <td>150000</td>\n",
       "      <td>120</td>\n",
       "      <td>2012-01-01</td>\n",
       "      <td>03/2012</td>\n",
       "      <td>35</td>\n",
       "      <td>1.0</td>\n",
       "      <td>...</td>\n",
       "      <td>0</td>\n",
       "      <td>0</td>\n",
       "      <td>0</td>\n",
       "      <td>0</td>\n",
       "      <td>0</td>\n",
       "      <td>0</td>\n",
       "      <td>0</td>\n",
       "      <td>0</td>\n",
       "      <td>0</td>\n",
       "      <td>0</td>\n",
       "    </tr>\n",
       "    <tr>\n",
       "      <th>116055</th>\n",
       "      <td>837922316947</td>\n",
       "      <td>X</td>\n",
       "      <td>OTHER</td>\n",
       "      <td>3.875</td>\n",
       "      <td>166000</td>\n",
       "      <td>360</td>\n",
       "      <td>2012-02-01</td>\n",
       "      <td>04/2012</td>\n",
       "      <td>58</td>\n",
       "      <td>2.0</td>\n",
       "      <td>...</td>\n",
       "      <td>0</td>\n",
       "      <td>0</td>\n",
       "      <td>0</td>\n",
       "      <td>0</td>\n",
       "      <td>0</td>\n",
       "      <td>0</td>\n",
       "      <td>0</td>\n",
       "      <td>0</td>\n",
       "      <td>0</td>\n",
       "      <td>0</td>\n",
       "    </tr>\n",
       "    <tr>\n",
       "      <th>116056</th>\n",
       "      <td>477343182138</td>\n",
       "      <td>X</td>\n",
       "      <td>OTHER</td>\n",
       "      <td>4.250</td>\n",
       "      <td>169000</td>\n",
       "      <td>360</td>\n",
       "      <td>2012-02-01</td>\n",
       "      <td>04/2012</td>\n",
       "      <td>74</td>\n",
       "      <td>2.0</td>\n",
       "      <td>...</td>\n",
       "      <td>0</td>\n",
       "      <td>0</td>\n",
       "      <td>0</td>\n",
       "      <td>0</td>\n",
       "      <td>0</td>\n",
       "      <td>0</td>\n",
       "      <td>0</td>\n",
       "      <td>0</td>\n",
       "      <td>0</td>\n",
       "      <td>0</td>\n",
       "    </tr>\n",
       "    <tr>\n",
       "      <th>116057</th>\n",
       "      <td>763308490661</td>\n",
       "      <td>Z</td>\n",
       "      <td>Thornton-Davis</td>\n",
       "      <td>3.375</td>\n",
       "      <td>252000</td>\n",
       "      <td>180</td>\n",
       "      <td>2012-01-01</td>\n",
       "      <td>03/2012</td>\n",
       "      <td>29</td>\n",
       "      <td>2.0</td>\n",
       "      <td>...</td>\n",
       "      <td>0</td>\n",
       "      <td>0</td>\n",
       "      <td>0</td>\n",
       "      <td>0</td>\n",
       "      <td>0</td>\n",
       "      <td>0</td>\n",
       "      <td>0</td>\n",
       "      <td>0</td>\n",
       "      <td>0</td>\n",
       "      <td>0</td>\n",
       "    </tr>\n",
       "  </tbody>\n",
       "</table>\n",
       "<p>5 rows × 29 columns</p>\n",
       "</div>"
      ],
      "text/plain": [
       "             loan_id source financial_institution  interest_rate  \\\n",
       "116053  382119962287      Y         Browning-Hart          4.125   \n",
       "116054  582803915466      Z                 OTHER          3.000   \n",
       "116055  837922316947      X                 OTHER          3.875   \n",
       "116056  477343182138      X                 OTHER          4.250   \n",
       "116057  763308490661      Z        Thornton-Davis          3.375   \n",
       "\n",
       "        unpaid_principal_bal  loan_term origination_date first_payment_date  \\\n",
       "116053                153000        360       2012-02-01            04/2012   \n",
       "116054                150000        120       2012-01-01            03/2012   \n",
       "116055                166000        360       2012-02-01            04/2012   \n",
       "116056                169000        360       2012-02-01            04/2012   \n",
       "116057                252000        180       2012-01-01            03/2012   \n",
       "\n",
       "        loan_to_value  number_of_borrowers  ...  m4  m5 m6  m7  m8  m9  m10  \\\n",
       "116053             88                  2.0  ...   0   0  0   0   0   0    0   \n",
       "116054             35                  1.0  ...   0   0  0   0   0   0    0   \n",
       "116055             58                  2.0  ...   0   0  0   0   0   0    0   \n",
       "116056             74                  2.0  ...   0   0  0   0   0   0    0   \n",
       "116057             29                  2.0  ...   0   0  0   0   0   0    0   \n",
       "\n",
       "        m11  m12  m13  \n",
       "116053    0    0    0  \n",
       "116054    0    0    0  \n",
       "116055    0    0    0  \n",
       "116056    0    0    0  \n",
       "116057    0    0    0  \n",
       "\n",
       "[5 rows x 29 columns]"
      ]
     },
     "execution_count": 5,
     "metadata": {},
     "output_type": "execute_result"
    }
   ],
   "source": [
    "data.tail()"
   ]
  },
  {
   "cell_type": "markdown",
   "id": "b71c896a",
   "metadata": {},
   "source": [
    "##### Step 3 >> Handling Missing Values\n",
    "***"
   ]
  },
  {
   "cell_type": "code",
   "execution_count": 6,
   "id": "7b20b5ef",
   "metadata": {},
   "outputs": [
    {
     "data": {
      "text/plain": [
       "loan_id                     0\n",
       "source                      0\n",
       "financial_institution       0\n",
       "interest_rate               0\n",
       "unpaid_principal_bal        0\n",
       "loan_term                   0\n",
       "origination_date            0\n",
       "first_payment_date          0\n",
       "loan_to_value               0\n",
       "number_of_borrowers         0\n",
       "debt_to_income_ratio        0\n",
       "borrower_credit_score       0\n",
       "loan_purpose                0\n",
       "insurance_percent           0\n",
       "co-borrower_credit_score    0\n",
       "insurance_type              0\n",
       "m1                          0\n",
       "m2                          0\n",
       "m3                          0\n",
       "m4                          0\n",
       "m5                          0\n",
       "m6                          0\n",
       "m7                          0\n",
       "m8                          0\n",
       "m9                          0\n",
       "m10                         0\n",
       "m11                         0\n",
       "m12                         0\n",
       "m13                         0\n",
       "dtype: int64"
      ]
     },
     "execution_count": 6,
     "metadata": {},
     "output_type": "execute_result"
    }
   ],
   "source": [
    "data.isna().sum()"
   ]
  },
  {
   "cell_type": "markdown",
   "id": "5f06eaaa",
   "metadata": {},
   "source": [
    "There are no missing values in this data set"
   ]
  },
  {
   "cell_type": "markdown",
   "id": "17923d2f",
   "metadata": {},
   "source": [
    "##### Step 4 >> Preprocessing\n",
    "***"
   ]
  },
  {
   "cell_type": "code",
   "execution_count": 7,
   "id": "a237e459",
   "metadata": {},
   "outputs": [
    {
     "name": "stdout",
     "output_type": "stream",
     "text": [
      "<class 'pandas.core.frame.DataFrame'>\n",
      "RangeIndex: 116058 entries, 0 to 116057\n",
      "Data columns (total 29 columns):\n",
      " #   Column                    Non-Null Count   Dtype  \n",
      "---  ------                    --------------   -----  \n",
      " 0   loan_id                   116058 non-null  int64  \n",
      " 1   source                    116058 non-null  object \n",
      " 2   financial_institution     116058 non-null  object \n",
      " 3   interest_rate             116058 non-null  float64\n",
      " 4   unpaid_principal_bal      116058 non-null  int64  \n",
      " 5   loan_term                 116058 non-null  int64  \n",
      " 6   origination_date          116058 non-null  object \n",
      " 7   first_payment_date        116058 non-null  object \n",
      " 8   loan_to_value             116058 non-null  int64  \n",
      " 9   number_of_borrowers       116058 non-null  float64\n",
      " 10  debt_to_income_ratio      116058 non-null  float64\n",
      " 11  borrower_credit_score     116058 non-null  float64\n",
      " 12  loan_purpose              116058 non-null  object \n",
      " 13  insurance_percent         116058 non-null  float64\n",
      " 14  co-borrower_credit_score  116058 non-null  float64\n",
      " 15  insurance_type            116058 non-null  float64\n",
      " 16  m1                        116058 non-null  int64  \n",
      " 17  m2                        116058 non-null  int64  \n",
      " 18  m3                        116058 non-null  int64  \n",
      " 19  m4                        116058 non-null  int64  \n",
      " 20  m5                        116058 non-null  int64  \n",
      " 21  m6                        116058 non-null  int64  \n",
      " 22  m7                        116058 non-null  int64  \n",
      " 23  m8                        116058 non-null  int64  \n",
      " 24  m9                        116058 non-null  int64  \n",
      " 25  m10                       116058 non-null  int64  \n",
      " 26  m11                       116058 non-null  int64  \n",
      " 27  m12                       116058 non-null  int64  \n",
      " 28  m13                       116058 non-null  int64  \n",
      "dtypes: float64(7), int64(17), object(5)\n",
      "memory usage: 25.7+ MB\n"
     ]
    }
   ],
   "source": [
    "data.info()"
   ]
  },
  {
   "cell_type": "code",
   "execution_count": 8,
   "id": "83b77862",
   "metadata": {},
   "outputs": [
    {
     "data": {
      "text/plain": [
       "Index(['loan_id', 'source', 'financial_institution', 'interest_rate',\n",
       "       'unpaid_principal_bal', 'loan_term', 'origination_date',\n",
       "       'first_payment_date', 'loan_to_value', 'number_of_borrowers',\n",
       "       'debt_to_income_ratio', 'borrower_credit_score', 'loan_purpose',\n",
       "       'insurance_percent', 'co-borrower_credit_score', 'insurance_type', 'm1',\n",
       "       'm2', 'm3', 'm4', 'm5', 'm6', 'm7', 'm8', 'm9', 'm10', 'm11', 'm12',\n",
       "       'm13'],\n",
       "      dtype='object')"
      ]
     },
     "execution_count": 8,
     "metadata": {},
     "output_type": "execute_result"
    }
   ],
   "source": [
    "data.columns"
   ]
  },
  {
   "cell_type": "code",
   "execution_count": 9,
   "id": "94369192",
   "metadata": {},
   "outputs": [
    {
     "data": {
      "text/plain": [
       "2012-02-01    52334\n",
       "2012-01-01    49093\n",
       "2012-03-01    14631\n",
       "Name: origination_date, dtype: int64"
      ]
     },
     "execution_count": 9,
     "metadata": {},
     "output_type": "execute_result"
    }
   ],
   "source": [
    "data['origination_date'].value_counts() # no use"
   ]
  },
  {
   "cell_type": "code",
   "execution_count": 10,
   "id": "3052271a",
   "metadata": {},
   "outputs": [
    {
     "data": {
      "text/plain": [
       "04/2012    52840\n",
       "03/2012    47680\n",
       "05/2012    15014\n",
       "02/2012      524\n",
       "Name: first_payment_date, dtype: int64"
      ]
     },
     "execution_count": 10,
     "metadata": {},
     "output_type": "execute_result"
    }
   ],
   "source": [
    "data['first_payment_date'].value_counts() # no use"
   ]
  },
  {
   "cell_type": "code",
   "execution_count": 11,
   "id": "8e5d7cdf",
   "metadata": {},
   "outputs": [
    {
     "data": {
      "text/plain": [
       "0.0     102455\n",
       "30.0      5113\n",
       "25.0      4885\n",
       "12.0      2493\n",
       "6.0        701\n",
       "35.0       372\n",
       "16.0        18\n",
       "18.0        12\n",
       "20.0         3\n",
       "17.0         2\n",
       "22.0         1\n",
       "15.0         1\n",
       "40.0         1\n",
       "39.0         1\n",
       "Name: insurance_percent, dtype: int64"
      ]
     },
     "execution_count": 11,
     "metadata": {},
     "output_type": "execute_result"
    }
   ],
   "source": [
    "data['insurance_percent'].value_counts() # no use until we know how many EMI is paid in loan term"
   ]
  },
  {
   "cell_type": "code",
   "execution_count": 12,
   "id": "da93cad0",
   "metadata": {},
   "outputs": [
    {
     "data": {
      "text/plain": [
       "OTHER                          49699\n",
       "Browning-Hart                  31852\n",
       "Swanson, Newton and Miller      6874\n",
       "Edwards-Hoffman                 4857\n",
       "Martinez, Duffy and Bird        4715\n",
       "Miller, Mcclure and Allen       3158\n",
       "Nicholson Group                 2116\n",
       "Turner, Baldwin and Rhodes      1846\n",
       "Suarez Inc                      1790\n",
       "Cole, Brooks and Vincent        1642\n",
       "Richards-Walters                1459\n",
       "Taylor, Hunt and Rodriguez      1259\n",
       "Sanchez-Robinson                1193\n",
       "Sanchez, Hays and Wilkerson      853\n",
       "Romero, Woods and Johnson        750\n",
       "Thornton-Davis                   651\n",
       "Anderson-Taylor                  483\n",
       "Richardson Ltd                   473\n",
       "Chapman-Mcmahon                  388\n",
       "Name: financial_institution, dtype: int64"
      ]
     },
     "execution_count": 12,
     "metadata": {},
     "output_type": "execute_result"
    }
   ],
   "source": [
    "data['financial_institution'].value_counts() # Needs encoding"
   ]
  },
  {
   "cell_type": "code",
   "execution_count": 13,
   "id": "eb8d054e",
   "metadata": {},
   "outputs": [
    {
     "data": {
      "text/plain": [
       "X    63858\n",
       "Y    37554\n",
       "Z    14646\n",
       "Name: source, dtype: int64"
      ]
     },
     "execution_count": 13,
     "metadata": {},
     "output_type": "execute_result"
    }
   ],
   "source": [
    "data['source'].value_counts() # Needs encoding"
   ]
  },
  {
   "cell_type": "code",
   "execution_count": 14,
   "id": "8063ac6e",
   "metadata": {},
   "outputs": [
    {
     "data": {
      "text/plain": [
       "A23    58462\n",
       "B12    29383\n",
       "C86    28213\n",
       "Name: loan_purpose, dtype: int64"
      ]
     },
     "execution_count": 14,
     "metadata": {},
     "output_type": "execute_result"
    }
   ],
   "source": [
    "data['loan_purpose'].value_counts() # Needs encoding"
   ]
  },
  {
   "cell_type": "markdown",
   "id": "c3ef1e6f",
   "metadata": {},
   "source": [
    "**Droping unwanted features**"
   ]
  },
  {
   "cell_type": "code",
   "execution_count": 15,
   "id": "73c7cdd2",
   "metadata": {},
   "outputs": [
    {
     "data": {
      "text/plain": [
       "Index(['loan_id', 'source', 'financial_institution', 'interest_rate',\n",
       "       'unpaid_principal_bal', 'loan_term', 'origination_date',\n",
       "       'first_payment_date', 'loan_to_value', 'number_of_borrowers',\n",
       "       'debt_to_income_ratio', 'borrower_credit_score', 'loan_purpose',\n",
       "       'insurance_percent', 'co-borrower_credit_score', 'insurance_type', 'm1',\n",
       "       'm2', 'm3', 'm4', 'm5', 'm6', 'm7', 'm8', 'm9', 'm10', 'm11', 'm12',\n",
       "       'm13'],\n",
       "      dtype='object')"
      ]
     },
     "execution_count": 15,
     "metadata": {},
     "output_type": "execute_result"
    }
   ],
   "source": [
    "data.columns"
   ]
  },
  {
   "cell_type": "code",
   "execution_count": 16,
   "id": "439fb710",
   "metadata": {},
   "outputs": [],
   "source": [
    "# Feature set\n",
    "x = data.drop(columns=['loan_id', 'origination_date', 'first_payment_date', 'insurance_percent','insurance_type', 'm13'], axis = 1)\n",
    "# Target set\n",
    "y = pd.DataFrame(data['m13'])"
   ]
  },
  {
   "cell_type": "code",
   "execution_count": 17,
   "id": "434f4f25",
   "metadata": {},
   "outputs": [
    {
     "name": "stdout",
     "output_type": "stream",
     "text": [
      "<class 'pandas.core.frame.DataFrame'>\n",
      "RangeIndex: 116058 entries, 0 to 116057\n",
      "Data columns (total 23 columns):\n",
      " #   Column                    Non-Null Count   Dtype  \n",
      "---  ------                    --------------   -----  \n",
      " 0   source                    116058 non-null  object \n",
      " 1   financial_institution     116058 non-null  object \n",
      " 2   interest_rate             116058 non-null  float64\n",
      " 3   unpaid_principal_bal      116058 non-null  int64  \n",
      " 4   loan_term                 116058 non-null  int64  \n",
      " 5   loan_to_value             116058 non-null  int64  \n",
      " 6   number_of_borrowers       116058 non-null  float64\n",
      " 7   debt_to_income_ratio      116058 non-null  float64\n",
      " 8   borrower_credit_score     116058 non-null  float64\n",
      " 9   loan_purpose              116058 non-null  object \n",
      " 10  co-borrower_credit_score  116058 non-null  float64\n",
      " 11  m1                        116058 non-null  int64  \n",
      " 12  m2                        116058 non-null  int64  \n",
      " 13  m3                        116058 non-null  int64  \n",
      " 14  m4                        116058 non-null  int64  \n",
      " 15  m5                        116058 non-null  int64  \n",
      " 16  m6                        116058 non-null  int64  \n",
      " 17  m7                        116058 non-null  int64  \n",
      " 18  m8                        116058 non-null  int64  \n",
      " 19  m9                        116058 non-null  int64  \n",
      " 20  m10                       116058 non-null  int64  \n",
      " 21  m11                       116058 non-null  int64  \n",
      " 22  m12                       116058 non-null  int64  \n",
      "dtypes: float64(5), int64(15), object(3)\n",
      "memory usage: 20.4+ MB\n"
     ]
    }
   ],
   "source": [
    "x.info()"
   ]
  },
  {
   "cell_type": "code",
   "execution_count": 18,
   "id": "0f9ec0fe",
   "metadata": {},
   "outputs": [],
   "source": [
    "# Label Encode 'Financial Institution'\n",
    "from sklearn.preprocessing import LabelEncoder\n",
    "lbl_encoder = LabelEncoder()\n",
    "x['financial_institution'] = lbl_encoder.fit_transform(x['financial_institution'])"
   ]
  },
  {
   "cell_type": "code",
   "execution_count": 19,
   "id": "078581a8",
   "metadata": {},
   "outputs": [
    {
     "data": {
      "text/plain": [
       "0       483\n",
       "1     31852\n",
       "2       388\n",
       "3      1642\n",
       "4      4857\n",
       "5      4715\n",
       "6      3158\n",
       "7      2116\n",
       "8     49699\n",
       "9      1459\n",
       "10      473\n",
       "11      750\n",
       "12      853\n",
       "13     1193\n",
       "14     1790\n",
       "15     6874\n",
       "16     1259\n",
       "17      651\n",
       "18     1846\n",
       "Name: financial_institution, dtype: int64"
      ]
     },
     "execution_count": 19,
     "metadata": {},
     "output_type": "execute_result"
    }
   ],
   "source": [
    "x.financial_institution.value_counts().sort_index(ascending=True)"
   ]
  },
  {
   "cell_type": "code",
   "execution_count": 20,
   "id": "d7d2a234",
   "metadata": {},
   "outputs": [],
   "source": [
    "# One hot encode 'source' and 'loan purpose'\n",
    "x = pd.get_dummies(data = x, columns=['source', 'loan_purpose'])"
   ]
  },
  {
   "cell_type": "code",
   "execution_count": 21,
   "id": "e8e10b7d",
   "metadata": {},
   "outputs": [
    {
     "name": "stdout",
     "output_type": "stream",
     "text": [
      "<class 'pandas.core.frame.DataFrame'>\n",
      "RangeIndex: 116058 entries, 0 to 116057\n",
      "Data columns (total 27 columns):\n",
      " #   Column                    Non-Null Count   Dtype  \n",
      "---  ------                    --------------   -----  \n",
      " 0   financial_institution     116058 non-null  int32  \n",
      " 1   interest_rate             116058 non-null  float64\n",
      " 2   unpaid_principal_bal      116058 non-null  int64  \n",
      " 3   loan_term                 116058 non-null  int64  \n",
      " 4   loan_to_value             116058 non-null  int64  \n",
      " 5   number_of_borrowers       116058 non-null  float64\n",
      " 6   debt_to_income_ratio      116058 non-null  float64\n",
      " 7   borrower_credit_score     116058 non-null  float64\n",
      " 8   co-borrower_credit_score  116058 non-null  float64\n",
      " 9   m1                        116058 non-null  int64  \n",
      " 10  m2                        116058 non-null  int64  \n",
      " 11  m3                        116058 non-null  int64  \n",
      " 12  m4                        116058 non-null  int64  \n",
      " 13  m5                        116058 non-null  int64  \n",
      " 14  m6                        116058 non-null  int64  \n",
      " 15  m7                        116058 non-null  int64  \n",
      " 16  m8                        116058 non-null  int64  \n",
      " 17  m9                        116058 non-null  int64  \n",
      " 18  m10                       116058 non-null  int64  \n",
      " 19  m11                       116058 non-null  int64  \n",
      " 20  m12                       116058 non-null  int64  \n",
      " 21  source_X                  116058 non-null  uint8  \n",
      " 22  source_Y                  116058 non-null  uint8  \n",
      " 23  source_Z                  116058 non-null  uint8  \n",
      " 24  loan_purpose_A23          116058 non-null  uint8  \n",
      " 25  loan_purpose_B12          116058 non-null  uint8  \n",
      " 26  loan_purpose_C86          116058 non-null  uint8  \n",
      "dtypes: float64(5), int32(1), int64(15), uint8(6)\n",
      "memory usage: 18.8 MB\n"
     ]
    }
   ],
   "source": [
    "x.info()"
   ]
  },
  {
   "cell_type": "code",
   "execution_count": 22,
   "id": "c57cbc50",
   "metadata": {},
   "outputs": [],
   "source": [
    "corr =data.corr()"
   ]
  },
  {
   "cell_type": "code",
   "execution_count": 23,
   "id": "5d528836",
   "metadata": {},
   "outputs": [
    {
     "data": {
      "text/plain": [
       "loan_id                      1\n",
       "interest_rate                2\n",
       "unpaid_principal_bal         1\n",
       "loan_term                    2\n",
       "loan_to_value                2\n",
       "number_of_borrowers          2\n",
       "debt_to_income_ratio         1\n",
       "borrower_credit_score        1\n",
       "insurance_percent            2\n",
       "co-borrower_credit_score     2\n",
       "insurance_type               1\n",
       "m1                           1\n",
       "m2                           4\n",
       "m3                           6\n",
       "m4                          11\n",
       "m5                          11\n",
       "m6                          10\n",
       "m7                          10\n",
       "m8                           9\n",
       "m9                           9\n",
       "m10                          9\n",
       "m11                         10\n",
       "m12                         10\n",
       "m13                          3\n",
       "dtype: int64"
      ]
     },
     "execution_count": 23,
     "metadata": {},
     "output_type": "execute_result"
    }
   ],
   "source": [
    "corr[corr>0.4].count()"
   ]
  },
  {
   "cell_type": "markdown",
   "id": "43a2407a",
   "metadata": {},
   "source": [
    "##### Step 5 >> Feature Engineering\n",
    "***"
   ]
  },
  {
   "cell_type": "code",
   "execution_count": 24,
   "id": "99c2f5cc",
   "metadata": {},
   "outputs": [
    {
     "data": {
      "text/plain": [
       "Index(['financial_institution', 'interest_rate', 'unpaid_principal_bal',\n",
       "       'loan_term', 'loan_to_value', 'number_of_borrowers',\n",
       "       'debt_to_income_ratio', 'borrower_credit_score',\n",
       "       'co-borrower_credit_score', 'm1', 'm2', 'm3', 'm4', 'm5', 'm6', 'm7',\n",
       "       'm8', 'm9', 'm10', 'm11', 'm12', 'source_X', 'source_Y', 'source_Z',\n",
       "       'loan_purpose_A23', 'loan_purpose_B12', 'loan_purpose_C86'],\n",
       "      dtype='object')"
      ]
     },
     "execution_count": 24,
     "metadata": {},
     "output_type": "execute_result"
    }
   ],
   "source": [
    "x.columns"
   ]
  },
  {
   "cell_type": "code",
   "execution_count": 25,
   "id": "1c618160",
   "metadata": {},
   "outputs": [],
   "source": [
    "# Convert credit_scores to one feature\n",
    "x['credit_score'] = x['borrower_credit_score'] + x['co-borrower_credit_score']\n",
    "x.drop(['borrower_credit_score','co-borrower_credit_score'], inplace=True, axis = 1)"
   ]
  },
  {
   "cell_type": "code",
   "execution_count": 26,
   "id": "7c9b4061",
   "metadata": {},
   "outputs": [
    {
     "data": {
      "text/plain": [
       "Index(['financial_institution', 'interest_rate', 'unpaid_principal_bal',\n",
       "       'loan_term', 'loan_to_value', 'number_of_borrowers',\n",
       "       'debt_to_income_ratio', 'm1', 'm2', 'm3', 'm4', 'm5', 'm6', 'm7', 'm8',\n",
       "       'm9', 'm10', 'm11', 'm12', 'source_X', 'source_Y', 'source_Z',\n",
       "       'loan_purpose_A23', 'loan_purpose_B12', 'loan_purpose_C86',\n",
       "       'credit_score'],\n",
       "      dtype='object')"
      ]
     },
     "execution_count": 26,
     "metadata": {},
     "output_type": "execute_result"
    }
   ],
   "source": [
    "x.columns"
   ]
  },
  {
   "cell_type": "code",
   "execution_count": 27,
   "id": "43608f31",
   "metadata": {},
   "outputs": [],
   "source": [
    "# create mean, sum, skew and kurtosis through m1-m12\n",
    "months =['m1', 'm2', 'm3', 'm4', 'm5', 'm6', 'm7', 'm8','m9', 'm10', 'm11', 'm12']\n",
    "x['m_mean'] = x[months].mean(axis = 1)\n",
    "x['m_sum'] = x[months].sum(axis = 1)\n",
    "x['m_skew'] = x[months].skew(axis = 1)\n",
    "x['m_kurtosis'] = x[months].kurt(axis = 1)"
   ]
  },
  {
   "cell_type": "code",
   "execution_count": 28,
   "id": "0cd9140b",
   "metadata": {},
   "outputs": [
    {
     "data": {
      "text/plain": [
       "Index(['financial_institution', 'interest_rate', 'unpaid_principal_bal',\n",
       "       'loan_term', 'loan_to_value', 'number_of_borrowers',\n",
       "       'debt_to_income_ratio', 'm1', 'm2', 'm3', 'm4', 'm5', 'm6', 'm7', 'm8',\n",
       "       'm9', 'm10', 'm11', 'm12', 'source_X', 'source_Y', 'source_Z',\n",
       "       'loan_purpose_A23', 'loan_purpose_B12', 'loan_purpose_C86',\n",
       "       'credit_score', 'm_mean', 'm_sum', 'm_skew', 'm_kurtosis'],\n",
       "      dtype='object')"
      ]
     },
     "execution_count": 28,
     "metadata": {},
     "output_type": "execute_result"
    }
   ],
   "source": [
    "x.columns"
   ]
  },
  {
   "cell_type": "markdown",
   "id": "c468561e",
   "metadata": {},
   "source": [
    "##### Step 6 >> Build Model\n",
    "***"
   ]
  },
  {
   "cell_type": "markdown",
   "id": "74149ca5",
   "metadata": {},
   "source": [
    "## 1. Random Forest Algorithm\n",
    "***"
   ]
  },
  {
   "cell_type": "code",
   "execution_count": 29,
   "id": "35171b77",
   "metadata": {},
   "outputs": [],
   "source": [
    "from sklearn.model_selection import train_test_split\n",
    "from sklearn.ensemble import RandomForestClassifier"
   ]
  },
  {
   "cell_type": "code",
   "execution_count": 30,
   "id": "6360523f",
   "metadata": {},
   "outputs": [],
   "source": [
    "x_train, x_test, y_train, y_test = train_test_split(x, y, random_state=42, test_size=.3)"
   ]
  },
  {
   "cell_type": "code",
   "execution_count": 31,
   "id": "3ea11adf",
   "metadata": {},
   "outputs": [
    {
     "name": "stdout",
     "output_type": "stream",
     "text": [
      "(81240, 30)\n",
      "(34818, 30)\n"
     ]
    }
   ],
   "source": [
    "print(x_train.shape)\n",
    "print(x_test.shape)"
   ]
  },
  {
   "cell_type": "code",
   "execution_count": 32,
   "id": "795fcb1d",
   "metadata": {},
   "outputs": [],
   "source": [
    "import warnings\n",
    "warnings.filterwarnings(\"ignore\") "
   ]
  },
  {
   "cell_type": "code",
   "execution_count": 33,
   "id": "39bd6046",
   "metadata": {},
   "outputs": [],
   "source": [
    "rf = RandomForestClassifier()\n",
    "rf.fit(x_train, y_train)\n",
    "rf_pred = rf.predict(x_test)"
   ]
  },
  {
   "cell_type": "markdown",
   "id": "a4b2fbbb",
   "metadata": {},
   "source": [
    "##### Step 7 >> Check Performance of Model\n",
    "***"
   ]
  },
  {
   "cell_type": "code",
   "execution_count": 34,
   "id": "134f2171",
   "metadata": {},
   "outputs": [],
   "source": [
    "from sklearn.metrics import f1_score, accuracy_score, precision_score, recall_score, confusion_matrix"
   ]
  },
  {
   "cell_type": "code",
   "execution_count": 35,
   "id": "343e141c",
   "metadata": {},
   "outputs": [],
   "source": [
    "def check_model_metrices(y_test, y_pred):\n",
    "    print('Model Accuracy = ', accuracy_score(y_test, y_pred))\n",
    "    print('Model Precision = ', precision_score(y_test, y_pred))\n",
    "    print('Model Recall = ', recall_score(y_test, y_pred))\n",
    "    print('Model F1 Score = ', f1_score(y_test, y_pred))\n",
    "    print('Confusion Matrix = \\n', confusion_matrix(y_test, y_pred))"
   ]
  },
  {
   "cell_type": "code",
   "execution_count": 36,
   "id": "706d2889",
   "metadata": {},
   "outputs": [
    {
     "name": "stdout",
     "output_type": "stream",
     "text": [
      "Model Accuracy =  0.9958929289447986\n",
      "Model Precision =  0.8214285714285714\n",
      "Model Recall =  0.350253807106599\n",
      "Model F1 Score =  0.491103202846975\n",
      "Confusion Matrix = \n",
      " [[34606    15]\n",
      " [  128    69]]\n"
     ]
    }
   ],
   "source": [
    "check_model_metrices(y_test, rf_pred)"
   ]
  },
  {
   "cell_type": "markdown",
   "id": "030642ea",
   "metadata": {},
   "source": [
    "##### Step 8 >> Feature Importance\n",
    "***"
   ]
  },
  {
   "cell_type": "code",
   "execution_count": 37,
   "id": "fc71be11",
   "metadata": {},
   "outputs": [
    {
     "data": {
      "text/plain": [
       "m12                      13.911885\n",
       "credit_score             12.039407\n",
       "unpaid_principal_bal     11.410344\n",
       "debt_to_income_ratio      8.483461\n",
       "loan_to_value             7.853812\n",
       "m_sum                     6.933960\n",
       "interest_rate             6.878973\n",
       "m_mean                    4.769622\n",
       "financial_institution     3.915719\n",
       "m11                       3.087498\n",
       "m_kurtosis                2.366514\n",
       "m_skew                    2.108148\n",
       "loan_term                 1.896146\n",
       "m9                        1.852801\n",
       "m10                       1.426120\n",
       "m7                        1.306763\n",
       "source_X                  1.109537\n",
       "m8                        1.025287\n",
       "source_Y                  0.965905\n",
       "loan_purpose_B12          0.954798\n",
       "number_of_borrowers       0.849820\n",
       "loan_purpose_C86          0.843769\n",
       "loan_purpose_A23          0.816533\n",
       "m4                        0.679113\n",
       "m6                        0.611018\n",
       "m5                        0.562958\n",
       "source_Z                  0.546998\n",
       "m3                        0.285799\n",
       "m1                        0.258145\n",
       "m2                        0.249147\n",
       "dtype: float64"
      ]
     },
     "execution_count": 37,
     "metadata": {},
     "output_type": "execute_result"
    }
   ],
   "source": [
    "importance = pd.Series(rf.feature_importances_, index= x.columns).sort_values(ascending=False)*100\n",
    "importance"
   ]
  },
  {
   "cell_type": "code",
   "execution_count": 38,
   "id": "1224a303",
   "metadata": {},
   "outputs": [],
   "source": [
    "rf.fit(x_train.drop(['m2', 'm3', 'm1', 'm4','source_Z'], axis = True), y_train)\n",
    "rf_pred = rf.predict(x_test.drop(['m2', 'm3', 'm1', 'm4','source_Z'], axis = True))"
   ]
  },
  {
   "cell_type": "code",
   "execution_count": 39,
   "id": "4471d55a",
   "metadata": {},
   "outputs": [
    {
     "name": "stdout",
     "output_type": "stream",
     "text": [
      "Model Accuracy =  0.9957493250617496\n",
      "Model Precision =  0.7692307692307693\n",
      "Model Recall =  0.3553299492385787\n",
      "Model F1 Score =  0.48611111111111116\n",
      "Confusion Matrix = \n",
      " [[34600    21]\n",
      " [  127    70]]\n"
     ]
    }
   ],
   "source": [
    "check_model_metrices(y_test, rf_pred)"
   ]
  },
  {
   "cell_type": "markdown",
   "id": "a789d069",
   "metadata": {},
   "source": [
    "Slight increase in F1_Score"
   ]
  },
  {
   "cell_type": "markdown",
   "id": "a3e1d5e6",
   "metadata": {},
   "source": [
    "##### Step 9 >>Distribution of Prediction Probability\n",
    "***"
   ]
  },
  {
   "cell_type": "code",
   "execution_count": 40,
   "id": "98d6d04d",
   "metadata": {},
   "outputs": [],
   "source": [
    "threshold = 0.22\n",
    "rf.fit(x_train, y_train)\n",
    "y_pred_proba = rf.predict_proba(x_test)[:,1]\n",
    "rf_pred = (y_pred_proba>threshold).astype(int)"
   ]
  },
  {
   "cell_type": "code",
   "execution_count": 41,
   "id": "ba7afca7",
   "metadata": {},
   "outputs": [
    {
     "name": "stdout",
     "output_type": "stream",
     "text": [
      "Model Accuracy =  0.9947440978804067\n",
      "Model Precision =  0.5402298850574713\n",
      "Model Recall =  0.47715736040609136\n",
      "Model F1 Score =  0.5067385444743935\n",
      "Confusion Matrix = \n",
      " [[34541    80]\n",
      " [  103    94]]\n"
     ]
    }
   ],
   "source": [
    "check_model_metrices(y_test, rf_pred)"
   ]
  },
  {
   "cell_type": "markdown",
   "id": "818b9491",
   "metadata": {},
   "source": [
    "F1 score of the model has increased to .53"
   ]
  },
  {
   "cell_type": "markdown",
   "id": "a4687095",
   "metadata": {},
   "source": [
    "##### Step 10 >> Fine tune hyper parameters\n",
    "***"
   ]
  },
  {
   "cell_type": "code",
   "execution_count": 42,
   "id": "6c494ce8",
   "metadata": {},
   "outputs": [
    {
     "data": {
      "text/plain": [
       "{'bootstrap': True,\n",
       " 'ccp_alpha': 0.0,\n",
       " 'class_weight': None,\n",
       " 'criterion': 'gini',\n",
       " 'max_depth': None,\n",
       " 'max_features': 'auto',\n",
       " 'max_leaf_nodes': None,\n",
       " 'max_samples': None,\n",
       " 'min_impurity_decrease': 0.0,\n",
       " 'min_samples_leaf': 1,\n",
       " 'min_samples_split': 2,\n",
       " 'min_weight_fraction_leaf': 0.0,\n",
       " 'n_estimators': 100,\n",
       " 'n_jobs': None,\n",
       " 'oob_score': False,\n",
       " 'random_state': None,\n",
       " 'verbose': 0,\n",
       " 'warm_start': False}"
      ]
     },
     "execution_count": 42,
     "metadata": {},
     "output_type": "execute_result"
    }
   ],
   "source": [
    "rf.get_params()"
   ]
  },
  {
   "cell_type": "code",
   "execution_count": 43,
   "id": "5e9721ed",
   "metadata": {},
   "outputs": [],
   "source": [
    "rf = RandomForestClassifier(n_estimators=500, random_state=42, criterion='entropy', max_depth= 10)"
   ]
  },
  {
   "cell_type": "code",
   "execution_count": 44,
   "id": "a6fe92bd",
   "metadata": {},
   "outputs": [
    {
     "data": {
      "text/plain": [
       "{'bootstrap': True,\n",
       " 'ccp_alpha': 0.0,\n",
       " 'class_weight': None,\n",
       " 'criterion': 'entropy',\n",
       " 'max_depth': 10,\n",
       " 'max_features': 'auto',\n",
       " 'max_leaf_nodes': None,\n",
       " 'max_samples': None,\n",
       " 'min_impurity_decrease': 0.0,\n",
       " 'min_samples_leaf': 1,\n",
       " 'min_samples_split': 2,\n",
       " 'min_weight_fraction_leaf': 0.0,\n",
       " 'n_estimators': 500,\n",
       " 'n_jobs': None,\n",
       " 'oob_score': False,\n",
       " 'random_state': 42,\n",
       " 'verbose': 0,\n",
       " 'warm_start': False}"
      ]
     },
     "execution_count": 44,
     "metadata": {},
     "output_type": "execute_result"
    }
   ],
   "source": [
    "rf.get_params()"
   ]
  },
  {
   "cell_type": "code",
   "execution_count": 45,
   "id": "0d36a92d",
   "metadata": {},
   "outputs": [],
   "source": [
    "rf.fit(x_train, y_train)\n",
    "rf_pred = rf.predict(x_test)"
   ]
  },
  {
   "cell_type": "code",
   "execution_count": 46,
   "id": "a9b78372",
   "metadata": {},
   "outputs": [
    {
     "name": "stdout",
     "output_type": "stream",
     "text": [
      "Model Accuracy =  0.9959503704980183\n",
      "Model Precision =  0.8589743589743589\n",
      "Model Recall =  0.3401015228426396\n",
      "Model F1 Score =  0.4872727272727272\n",
      "Confusion Matrix = \n",
      " [[34610    11]\n",
      " [  130    67]]\n"
     ]
    }
   ],
   "source": [
    "check_model_metrices(y_test, rf_pred)"
   ]
  },
  {
   "cell_type": "markdown",
   "id": "373c67af",
   "metadata": {},
   "source": [
    "## 2. Gradiant Boosting Algorithm\n",
    "***"
   ]
  },
  {
   "cell_type": "code",
   "execution_count": 47,
   "id": "180121dc",
   "metadata": {},
   "outputs": [],
   "source": [
    "from sklearn.ensemble import GradientBoostingClassifier"
   ]
  },
  {
   "cell_type": "code",
   "execution_count": 48,
   "id": "0685bc4b",
   "metadata": {},
   "outputs": [],
   "source": [
    "gbc = GradientBoostingClassifier()\n",
    "gbc.fit(x_train, y_train)\n",
    "gbc_pred = gbc.predict(x_test)"
   ]
  },
  {
   "cell_type": "code",
   "execution_count": 49,
   "id": "8ccc896c",
   "metadata": {},
   "outputs": [
    {
     "name": "stdout",
     "output_type": "stream",
     "text": [
      "Model Accuracy =  0.9941696823482107\n",
      "Model Precision =  0.4482758620689655\n",
      "Model Recall =  0.1319796954314721\n",
      "Model F1 Score =  0.203921568627451\n",
      "Confusion Matrix = \n",
      " [[34589    32]\n",
      " [  171    26]]\n"
     ]
    }
   ],
   "source": [
    "check_model_metrices(y_test, gbc_pred)"
   ]
  },
  {
   "cell_type": "markdown",
   "id": "3cb32ce0",
   "metadata": {},
   "source": [
    "203 misclassifications with f1_score of 0.20"
   ]
  },
  {
   "cell_type": "markdown",
   "id": "119791de",
   "metadata": {},
   "source": [
    "## 3. Extreme Gradiant Boosting (XGBoost) Algorithm\n",
    "***"
   ]
  },
  {
   "cell_type": "code",
   "execution_count": 50,
   "id": "24e5b055",
   "metadata": {},
   "outputs": [],
   "source": [
    "from xgboost import XGBClassifier"
   ]
  },
  {
   "cell_type": "code",
   "execution_count": 51,
   "id": "2ebe0bf2",
   "metadata": {},
   "outputs": [],
   "source": [
    "xgb = XGBClassifier(verbosity = 0)\n",
    "xgb.fit(x_train, y_train)\n",
    "xgb_pred = xgb.predict(x_test)"
   ]
  },
  {
   "cell_type": "code",
   "execution_count": 52,
   "id": "14bbd6ef",
   "metadata": {},
   "outputs": [
    {
     "name": "stdout",
     "output_type": "stream",
     "text": [
      "Model Accuracy =  0.9954621172956517\n",
      "Model Precision =  0.7142857142857143\n",
      "Model Recall =  0.3299492385786802\n",
      "Model F1 Score =  0.45138888888888895\n",
      "Confusion Matrix = \n",
      " [[34595    26]\n",
      " [  132    65]]\n"
     ]
    }
   ],
   "source": [
    "check_model_metrices(y_test, xgb_pred)"
   ]
  },
  {
   "cell_type": "markdown",
   "id": "5eca8ae9",
   "metadata": {},
   "source": [
    "158 misclassifications with f1_score of 0.45"
   ]
  }
 ],
 "metadata": {
  "kernelspec": {
   "display_name": "Python (ICTK)",
   "language": "python",
   "name": "ictk"
  },
  "language_info": {
   "codemirror_mode": {
    "name": "ipython",
    "version": 3
   },
   "file_extension": ".py",
   "mimetype": "text/x-python",
   "name": "python",
   "nbconvert_exporter": "python",
   "pygments_lexer": "ipython3",
   "version": "3.8.12"
  }
 },
 "nbformat": 4,
 "nbformat_minor": 5
}
